{
 "cells": [
  {
   "cell_type": "code",
   "execution_count": 1,
   "metadata": {},
   "outputs": [],
   "source": [
    "import sys\n",
    "import os\n",
    "sys.path.append(\"../\")\n"
   ]
  },
  {
   "cell_type": "code",
   "execution_count": 2,
   "metadata": {},
   "outputs": [],
   "source": [
    "from tqdm import tqdm\n",
    "import numpy as np\n",
    "import cv2\n",
    "from copy import deepcopy\n",
    "from PIL import Image\n",
    "from diffusion_policy.gym_util.multistep_wrapper import MultiStepWrapper\n",
    "from diffusion_policy.env.robomimic.robomimic_lowdim_wrapper import RobomimicLowdimWrapper\n",
    "from diffusion_policy.model.common.rotation_transformer import RotationTransformer\n",
    "import robomimic.utils.file_utils as FileUtils\n",
    "import robomimic.utils.env_utils as EnvUtils\n",
    "import robomimic.utils.obs_utils as ObsUtils"
   ]
  },
  {
   "cell_type": "code",
   "execution_count": 3,
   "metadata": {},
   "outputs": [],
   "source": [
    "def create_env(env_meta, obs_keys):\n",
    "    ObsUtils.initialize_obs_modality_mapping_from_dict(\n",
    "        {'low_dim': obs_keys})\n",
    "    env = EnvUtils.create_env_from_metadata(\n",
    "        env_meta=env_meta,\n",
    "        render=False, \n",
    "        render_offscreen=False,\n",
    "        use_image_obs=True, \n",
    "    )\n",
    "    return env"
   ]
  },
  {
   "cell_type": "code",
   "execution_count": 4,
   "metadata": {},
   "outputs": [],
   "source": [
    "def create_disturbance_function(task_name):\n",
    "    if task_name == \"lift\":\n",
    "        def disturbance_function(object_pos_quat, speed):\n",
    "            return object_pos_quat + np.array([0.0, 0.0, 0.0, 0, 0, 0, 0])\n",
    "    elif task_name == \"square\":\n",
    "        def disturbance_function(object_pos_quat):\n",
    "            return object_pos_quat + np.array([0.0, 0.0, 0.0, 0, 0, 0, 0])\n",
    "    else:\n",
    "        def disturbance_function(object_pos_quat):\n",
    "            return object_pos_quat + np.array([0.0, 0.0, 0.0, 0, 0, 0, 0])\n",
    "    \n",
    "    return disturbance_function"
   ]
  },
  {
   "cell_type": "code",
   "execution_count": 5,
   "metadata": {},
   "outputs": [
    {
     "name": "stdout",
     "output_type": "stream",
     "text": [
      "Created environment with name Lift\n",
      "Action size is 7\n"
     ]
    }
   ],
   "source": [
    "task_name = \"lift\"\n",
    "# task_name = \"square\"\n",
    "# task_name = \"can\"\n",
    "dataset_type = \"ph\"\n",
    "dataset_path = f\"../data/robomimic/datasets/{task_name}/{dataset_type}/low_dim_abs.hdf5\"\n",
    "dataset_path = os.path.expanduser(dataset_path)\n",
    "env_meta = FileUtils.get_env_metadata_from_dataset(dataset_path)\n",
    "\n",
    "#Inlucde this since it is abs true\n",
    "obs_keys = ['object', 'robot0_eef_pos', 'robot0_eef_quat', 'robot0_gripper_qpos']\n",
    "env_meta['env_kwargs']['controller_configs']['control_delta'] = False\n",
    "rotation_transformer = RotationTransformer('axis_angle', 'rotation_6d')\n",
    "\n",
    "robomimic_env = create_env(\n",
    "                    env_meta=env_meta, \n",
    "                    obs_keys=obs_keys\n",
    "                )\n",
    "\n",
    "disturance_function = create_disturbance_function(task_name)\n",
    "\n",
    "render_hw = (128, 128)\n",
    "env_n_obs_steps = 2\n",
    "env_n_action_steps = 8\n",
    "max_steps = 400\n",
    "render_camera_name = 'agentview'\n",
    "multistep_env = MultiStepWrapper(\n",
    "                    RobomimicLowdimWrapper(\n",
    "                        env=robomimic_env,\n",
    "                        obs_keys=obs_keys,\n",
    "                        init_state=None,\n",
    "                        render_hw=render_hw,\n",
    "                        render_camera_name=render_camera_name\n",
    "                    ),\n",
    "                    n_obs_steps=env_n_obs_steps,\n",
    "                    n_action_steps=env_n_action_steps,\n",
    "                    max_episode_steps=max_steps\n",
    "                )"
   ]
  },
  {
   "cell_type": "code",
   "execution_count": 6,
   "metadata": {},
   "outputs": [
    {
     "data": {
      "image/png": "[encoded data removed]",
      "text/plain": [
       "<PIL.Image.Image image mode=RGB size=128x128>"
      ]
     },
     "metadata": {},
     "output_type": "display_data"
    }
   ],
   "source": [
    "obs = multistep_env.reset()\n",
    "state = multistep_env.env.env.get_state()\n",
    "\n",
    "frame = multistep_env.render(mode='rgb_array')\n",
    "img = Image.fromarray(frame)\n",
    "img.save(\"test.png\")\n",
    "img.show()\n",
    "object_pos_quat = state['states'][10:17] # x, y, z, qx, qy, qz, qw\n",
    "robot0_gripper_qpos = state['states'][8:10]\n",
    "robot_q_pos = state['states'][1:8]"
   ]
  },
  {
   "cell_type": "code",
   "execution_count": 7,
   "metadata": {},
   "outputs": [
    {
     "name": "stdout",
     "output_type": "stream",
     "text": [
      "[-0.00737953 -0.02110393  0.83168553 -0.0627755   0.          0.\n",
      "  0.99802767]\n"
     ]
    }
   ],
   "source": [
    "print(object_pos_quat)"
   ]
  },
  {
   "cell_type": "code",
   "execution_count": 8,
   "metadata": {},
   "outputs": [
    {
     "name": "stdout",
     "output_type": "stream",
     "text": [
      "[ 0.00000000e+00  3.24002181e-02  2.08905065e-01  2.15780181e-02\n",
      " -2.60152952e+00 -1.22544494e-03  2.92303108e+00  8.15121581e-01\n",
      "  2.08330000e-02 -2.08330000e-02 -7.37952608e-03 -2.11039308e-02\n",
      "  8.31685527e-01 -6.27754956e-02  0.00000000e+00  0.00000000e+00\n",
      "  9.98027674e-01  0.00000000e+00  0.00000000e+00  0.00000000e+00\n",
      "  0.00000000e+00  0.00000000e+00  0.00000000e+00  0.00000000e+00\n",
      "  0.00000000e+00  0.00000000e+00  0.00000000e+00  0.00000000e+00\n",
      "  0.00000000e+00  0.00000000e+00  0.00000000e+00  0.00000000e+00]\n"
     ]
    }
   ],
   "source": [
    "print(state['states'])"
   ]
  },
  {
   "cell_type": "code",
   "execution_count": 9,
   "metadata": {},
   "outputs": [
    {
     "data": {
      "text/plain": [
       "{'object': array([-0.00737953, -0.02110393,  0.83168553,  0.        ,  0.        ,\n",
       "         0.99802767, -0.0627755 , -0.09390666,  0.04678429,  0.17672308]),\n",
       " 'robot0_eef_pos': array([-0.10128618,  0.02568036,  1.0084086 ]),\n",
       " 'robot0_eef_quat': array([ 0.99833284,  0.01258339,  0.05615958, -0.00439391]),\n",
       " 'robot0_gripper_qpos': array([ 0.020833, -0.020833])}"
      ]
     },
     "execution_count": 9,
     "metadata": {},
     "output_type": "execute_result"
    }
   ],
   "source": [
    "multistep_env.env.env.get_observation()"
   ]
  },
  {
   "cell_type": "code",
   "execution_count": 10,
   "metadata": {},
   "outputs": [],
   "source": [
    "# object_pos_lst = list()\n",
    "\n",
    "# for i in tqdm(range(100)):\n",
    "#     multistep_env.reset()\n",
    "#     state = multistep_env.env.env.get_state()\n",
    "#     object_pos_quat = state['states'][10:13]\n",
    "#     object_pos_lst.append(object_pos_quat)\n",
    "\n",
    "# object_pos_lst = np.array(object_pos_lst)\n",
    "# print(object_pos_lst.shape)\n",
    "\n"
   ]
  },
  {
   "cell_type": "code",
   "execution_count": 11,
   "metadata": {},
   "outputs": [
    {
     "data": {
      "text/plain": [
       "{'object': array([ 0.        ,  0.        ,  0.83      ,  0.        ,  0.        ,\n",
       "         0.        ,  1.        , -0.10128618,  0.02568036,  0.1784086 ]),\n",
       " 'robot0_eef_pos': array([-0.10128618,  0.02568036,  1.0084086 ]),\n",
       " 'robot0_eef_quat': array([ 0.99833284,  0.0125835 ,  0.05615958, -0.0043939 ]),\n",
       " 'robot0_gripper_qpos': array([ 0.020833, -0.020833])}"
      ]
     },
     "execution_count": 11,
     "metadata": {},
     "output_type": "execute_result"
    }
   ],
   "source": [
    "new_state = deepcopy(state)\n",
    "# new_object_pos_quat = object_pos_quat + np.array([0.0, 0.0, 0.0, 0, 0, 0, 1])\n",
    "new_object_pos_quat = np.array([0.0, 0.0, 0.83, 1.0, 0, 0, 0])\n",
    "# new_object_pos_quat = np.array([0.0, 0.0, 0.83, 1, 0, 0, 0])\n",
    "new_state['states'][10:17] = new_object_pos_quat\n",
    "multistep_env.env.env.reset_to(new_state)\n"
   ]
  },
  {
   "cell_type": "code",
   "execution_count": 12,
   "metadata": {},
   "outputs": [
    {
     "name": "stdout",
     "output_type": "stream",
     "text": [
      "[0.   0.   0.83 1.   0.   0.   0.  ]\n"
     ]
    },
    {
     "data": {
      "image/png": "[encoded data removed]",
      "text/plain": [
       "<PIL.Image.Image image mode=RGB size=128x128>"
      ]
     },
     "metadata": {},
     "output_type": "display_data"
    },
    {
     "name": "stdout",
     "output_type": "stream",
     "text": [
      "[0.   0.   0.83 1.   0.   0.   0.  ]\n"
     ]
    }
   ],
   "source": [
    "state = multistep_env.env.env.get_state()\n",
    "print(state['states'][10:17])\n",
    "frame = multistep_env.render(mode='rgb_array')\n",
    "img.show()\n",
    "img = Image.fromarray(frame)\n",
    "img.save(\"test_new.png\")\n",
    "print(multistep_env.env.env.get_state()['states'][10:17])"
   ]
  },
  {
   "cell_type": "code",
   "execution_count": 13,
   "metadata": {},
   "outputs": [
    {
     "name": "stdout",
     "output_type": "stream",
     "text": [
      "[ 0.02101152 -0.02124917]\n"
     ]
    },
    {
     "data": {
      "image/png": "[encoded data removed]",
      "text/plain": [
       "<PIL.Image.Image image mode=RGB size=128x128>"
      ]
     },
     "metadata": {},
     "output_type": "display_data"
    }
   ],
   "source": [
    "multistep_env.step(np.array([[0.0, 0.0, 0.0, 0.0, 0.0, 0.0, -0.99,]]))\n",
    "frame = multistep_env.render(mode='rgb_array')\n",
    "state = multistep_env.env.env.get_state()\n",
    "print(state['states'][8:10])\n",
    "img = Image.fromarray(frame)\n",
    "img.show()\n"
   ]
  },
  {
   "cell_type": "code",
   "execution_count": 14,
   "metadata": {},
   "outputs": [
    {
     "name": "stdout",
     "output_type": "stream",
     "text": [
      "[ 0.02294302 -0.02318938]\n",
      "[ 0.02294302 -0.02318938]\n"
     ]
    },
    {
     "data": {
      "image/png": "[encoded data removed]",
      "text/plain": [
       "<PIL.Image.Image image mode=RGB size=128x128>"
      ]
     },
     "metadata": {},
     "output_type": "display_data"
    }
   ],
   "source": [
    "obs, reward, doen, info = multistep_env.step(np.array([[0.0, 0.0, 0.0, 0.0, 0.0, 0.0, -0.99,]]))\n",
    "frame = multistep_env.render(mode='rgb_array')\n",
    "state = multistep_env.env.env.get_state()\n",
    "print(state['states'][8:10])\n",
    "new_state = {k:v for k,v in deepcopy(state).items() if k != 'model'}\n",
    "new_state['states'][10:17] = object_pos_quat + np.array([0.000, 0.0, 0.0, 0, 0, 0, 0])\n",
    "multistep_env.env.env.reset_to(new_state)\n",
    "print(state['states'][8:10])\n",
    "img = Image.fromarray(frame)\n",
    "img.show()\n"
   ]
  },
  {
   "cell_type": "code",
   "execution_count": 15,
   "metadata": {},
   "outputs": [
    {
     "name": "stdout",
     "output_type": "stream",
     "text": [
      "dict_keys(['states'])\n"
     ]
    }
   ],
   "source": [
    "print(new_state.keys())"
   ]
  },
  {
   "cell_type": "code",
   "execution_count": 16,
   "metadata": {},
   "outputs": [
    {
     "data": {
      "text/plain": [
       "array([ 1.00000000e-01,  3.27963591e-02,  3.39926694e-01, -1.99163583e-02,\n",
       "       -2.53534092e+00, -4.61836902e-02,  2.98259851e+00,  8.20628874e-01,\n",
       "        2.29430163e-02, -2.31893792e-02,  3.41914447e-21,  3.13681789e-21,\n",
       "        8.19442335e-01,  1.00000000e+00,  0.00000000e+00,  0.00000000e+00,\n",
       "        0.00000000e+00,  3.71548712e-02,  2.59922878e+00, -4.18183166e-01,\n",
       "        1.60189032e+00, -6.11853981e-01,  8.11307951e-01,  1.54365456e-01,\n",
       "        5.49114668e-02, -5.25866645e-02, -2.14283688e-22,  1.05666928e-20,\n",
       "        2.98788677e-02,  1.56413539e-19,  3.64940068e-20,  7.96210171e-35])"
      ]
     },
     "execution_count": 16,
     "metadata": {},
     "output_type": "execute_result"
    }
   ],
   "source": [
    "state['states']"
   ]
  },
  {
   "cell_type": "code",
   "execution_count": 17,
   "metadata": {},
   "outputs": [
    {
     "name": "stdout",
     "output_type": "stream",
     "text": [
      "{'object': array([-0.01256155,  0.02897848,  0.8312825 ,  0.        ,  0.        ,\n",
      "        0.87241507,  0.48876574, -0.09697708, -0.02379692,  0.17882964]), 'robot0_eef_pos': array([-0.10953863,  0.00518156,  1.01011213]), 'robot0_eef_quat': array([9.98678913e-01, 5.75051572e-03, 5.10608835e-02, 3.83953355e-04]), 'robot0_gripper_qpos': array([ 0.020833, -0.020833])}\n",
      "[ 0.         -0.02272617  0.1870262   0.02944061 -2.6248114  -0.02771502\n",
      "  2.9138418   0.80697594  0.020833   -0.020833   -0.01256155  0.02897848\n",
      "  0.8312825   0.48876574  0.          0.          0.87241507  0.\n",
      "  0.          0.          0.          0.          0.          0.\n",
      "  0.          0.          0.          0.          0.          0.\n",
      "  0.          0.        ]\n"
     ]
    }
   ],
   "source": [
    "multistep_env.reset()\n",
    "print(multistep_env.env.env.get_observation())\n",
    "print(multistep_env.env.env.get_state()['states'])"
   ]
  },
  {
   "cell_type": "code",
   "execution_count": 18,
   "metadata": {},
   "outputs": [
    {
     "name": "stdout",
     "output_type": "stream",
     "text": [
      "(2, 19)\n"
     ]
    }
   ],
   "source": [
    "print(obs.shape)"
   ]
  },
  {
   "cell_type": "code",
   "execution_count": 19,
   "metadata": {},
   "outputs": [
    {
     "data": {
      "text/plain": [
       "False"
      ]
     },
     "execution_count": 19,
     "metadata": {},
     "output_type": "execute_result"
    }
   ],
   "source": [
    "\"Nut\" in str(type(multistep_env.env.env.env))"
   ]
  },
  {
   "cell_type": "code",
   "execution_count": null,
   "metadata": {},
   "outputs": [],
   "source": [
    "rewards = multistep_env.env.env.env.staged_rewards()\n",
    "print(rewards)"
   ]
  },
  {
   "cell_type": "code",
   "execution_count": null,
   "metadata": {},
   "outputs": [],
   "source": []
  }
 ],
 "metadata": {
  "kernelspec": {
   "display_name": "robodiff",
   "language": "python",
   "name": "python3"
  },
  "language_info": {
   "codemirror_mode": {
    "name": "ipython",
    "version": 3
   },
   "file_extension": ".py",
   "mimetype": "text/x-python",
   "name": "python",
   "nbconvert_exporter": "python",
   "pygments_lexer": "ipython3",
   "version": "3.9.15"
  }
 },
 "nbformat": 4,
 "nbformat_minor": 2
}
