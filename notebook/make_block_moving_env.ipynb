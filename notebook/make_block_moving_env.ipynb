{
 "cells": [
  {
   "cell_type": "code",
   "execution_count": 1,
   "metadata": {},
   "outputs": [],
   "source": [
    "import sys\n",
    "import os\n",
    "sys.path.append(\"../\")\n"
   ]
  },
  {
   "cell_type": "code",
   "execution_count": 2,
   "metadata": {},
   "outputs": [],
   "source": [
    "from tqdm import tqdm\n",
    "import numpy as np\n",
    "import cv2\n",
    "from copy import deepcopy\n",
    "from PIL import Image\n",
    "from diffusion_policy.gym_util.multistep_wrapper import MultiStepWrapper\n",
    "from diffusion_policy.env.robomimic.robomimic_lowdim_wrapper import RobomimicLowdimWrapper\n",
    "from diffusion_policy.model.common.rotation_transformer import RotationTransformer\n",
    "import robomimic.utils.file_utils as FileUtils\n",
    "import robomimic.utils.env_utils as EnvUtils\n",
    "import robomimic.utils.obs_utils as ObsUtils"
   ]
  },
  {
   "cell_type": "code",
   "execution_count": 3,
   "metadata": {},
   "outputs": [],
   "source": [
    "def create_env(env_meta, obs_keys):\n",
    "    ObsUtils.initialize_obs_modality_mapping_from_dict(\n",
    "        {'low_dim': obs_keys})\n",
    "    env = EnvUtils.create_env_from_metadata(\n",
    "        env_meta=env_meta,\n",
    "        render=False, \n",
    "        render_offscreen=False,\n",
    "        use_image_obs=False, \n",
    "    )\n",
    "    return env"
   ]
  },
  {
   "cell_type": "code",
   "execution_count": 4,
   "metadata": {},
   "outputs": [],
   "source": [
    "def create_disturbance_function(task_name):\n",
    "    if task_name == \"lift\":\n",
    "        def disturbance_function(object_pos_quat, speed):\n",
    "            return object_pos_quat + np.array([0.0, 0.0, 0.0, 0, 0, 0, 0])\n",
    "    elif task_name == \"square\":\n",
    "        def disturbance_function(object_pos_quat):\n",
    "            return object_pos_quat + np.array([0.0, 0.0, 0.0, 0, 0, 0, 0])\n",
    "    else:\n",
    "        def disturbance_function(object_pos_quat):\n",
    "            return object_pos_quat + np.array([0.0, 0.0, 0.0, 0, 0, 0, 0])\n",
    "    \n",
    "    return disturbance_function"
   ]
  },
  {
   "cell_type": "code",
   "execution_count": 5,
   "metadata": {},
   "outputs": [
    {
     "name": "stdout",
     "output_type": "stream",
     "text": [
      "Created environment with name PickPlaceCan\n",
      "Action size is 7\n"
     ]
    }
   ],
   "source": [
    "# task_name = \"lift\"\n",
    "task_name = \"square\"\n",
    "task_name = \"can\"\n",
    "dataset_type = \"ph\"\n",
    "dataset_path = f\"../data/robomimic/datasets/{task_name}/{dataset_type}/low_dim_abs.hdf5\"\n",
    "dataset_path = os.path.expanduser(dataset_path)\n",
    "env_meta = FileUtils.get_env_metadata_from_dataset(dataset_path)\n",
    "\n",
    "#Inlucde this since it is abs true\n",
    "obs_keys = ['object', 'robot0_eef_pos', 'robot0_eef_quat', 'robot0_gripper_qpos']\n",
    "env_meta['env_kwargs']['controller_configs']['control_delta'] = False\n",
    "rotation_transformer = RotationTransformer('axis_angle', 'rotation_6d')\n",
    "\n",
    "robomimic_env = create_env(\n",
    "                    env_meta=env_meta, \n",
    "                    obs_keys=obs_keys\n",
    "                )\n",
    "\n",
    "disturance_function = create_disturbance_function(task_name)\n",
    "\n",
    "render_hw = (128, 128)\n",
    "env_n_obs_steps = 2\n",
    "env_n_action_steps = 8\n",
    "max_steps = 400\n",
    "render_camera_name = 'agentview'\n",
    "multistep_env = MultiStepWrapper(\n",
    "                    RobomimicLowdimWrapper(\n",
    "                        env=robomimic_env,\n",
    "                        obs_keys=obs_keys,\n",
    "                        init_state=None,\n",
    "                        render_hw=render_hw,\n",
    "                        render_camera_name=render_camera_name\n",
    "                    ),\n",
    "                    n_obs_steps=env_n_obs_steps,\n",
    "                    n_action_steps=env_n_action_steps,\n",
    "                    max_episode_steps=max_steps\n",
    "                )"
   ]
  },
  {
   "cell_type": "code",
   "execution_count": 13,
   "metadata": {},
   "outputs": [],
   "source": [
    "obs = multistep_env.reset()\n",
    "state = multistep_env.env.env.get_state()\n",
    "\n",
    "frame = multistep_env.render(mode='rgb_array')\n",
    "img = Image.fromarray(frame)\n",
    "img.save(\"test.png\")\n",
    "\n",
    "object_pos_quat = state['states'][31:38] # x, y, z, qx, qy, qz, qw\n",
    "robot0_gripper_qpos = state['states'][8:10]\n",
    "robot_q_pos = state['states'][1:8]"
   ]
  },
  {
   "cell_type": "code",
   "execution_count": 14,
   "metadata": {},
   "outputs": [
    {
     "name": "stdout",
     "output_type": "stream",
     "text": [
      "[ 0.07773697 -0.17485986  0.86       -0.28850081  0.          0.\n",
      "  0.95747965]\n"
     ]
    }
   ],
   "source": [
    "print(object_pos_quat)"
   ]
  },
  {
   "cell_type": "code",
   "execution_count": 15,
   "metadata": {},
   "outputs": [
    {
     "name": "stdout",
     "output_type": "stream",
     "text": [
      "[ 0.          0.0113269   0.17551738  0.01069317 -2.61535702 -0.01647675\n",
      "  2.93300532  0.76534597  0.020833   -0.020833   10.         10.\n",
      " 10.          1.          0.          0.          0.         10.\n",
      " 10.         10.          1.          0.          0.          0.\n",
      " 10.         10.         10.          1.          0.          0.\n",
      "  0.          0.07773697 -0.17485986  0.86       -0.28850081  0.\n",
      "  0.          0.95747965  0.          0.          0.          0.\n",
      "  0.          0.          0.          0.          0.          0.\n",
      "  0.          0.          0.          0.          0.          0.\n",
      "  0.          0.          0.          0.          0.          0.\n",
      "  0.          0.          0.          0.          0.          0.\n",
      "  0.          0.          0.          0.          0.        ]\n"
     ]
    }
   ],
   "source": [
    "print(state['states'])"
   ]
  },
  {
   "cell_type": "code",
   "execution_count": 16,
   "metadata": {},
   "outputs": [
    {
     "data": {
      "text/plain": [
       "{'object': array([ 0.07773697, -0.17485986,  0.86      ,  0.        ,  0.        ,\n",
       "         0.95747965, -0.28850081,  0.08704079,  0.09156569,  0.17518213,\n",
       "         0.2598888 ,  0.96302259,  0.02172942,  0.06762277]),\n",
       " 'robot0_eef_pos': array([-0.03837828, -0.08876564,  1.0204811 ]),\n",
       " 'robot0_eef_quat': array([0.99705281, 0.02899468, 0.07101638, 0.00129623]),\n",
       " 'robot0_gripper_qpos': array([ 0.020833, -0.020833])}"
      ]
     },
     "execution_count": 16,
     "metadata": {},
     "output_type": "execute_result"
    }
   ],
   "source": [
    "multistep_env.env.env.get_observation()"
   ]
  },
  {
   "cell_type": "code",
   "execution_count": 17,
   "metadata": {},
   "outputs": [],
   "source": [
    "# object_pos_lst = list()\n",
    "\n",
    "# for i in tqdm(range(100)):\n",
    "#     multistep_env.reset()\n",
    "#     state = multistep_env.env.env.get_state()\n",
    "#     object_pos_quat = state['states'][10:13]\n",
    "#     object_pos_lst.append(object_pos_quat)\n",
    "\n",
    "# object_pos_lst = np.array(object_pos_lst)\n",
    "# print(object_pos_lst.shape)\n",
    "\n"
   ]
  },
  {
   "cell_type": "code",
   "execution_count": 18,
   "metadata": {},
   "outputs": [
    {
     "name": "stdout",
     "output_type": "stream",
     "text": [
      "[ 0.020833 -0.020833]\n",
      "[10. 10. 10.  1.  0.  0.  0.]\n"
     ]
    }
   ],
   "source": [
    "new_state = deepcopy(state)\n",
    "new_object_pos_quat = object_pos_quat + np.array([0.1, 0.0, 0.0, 0, 0, 0, 0])\n",
    "new_state['states'][31:38] = new_object_pos_quat\n",
    "multistep_env.env.env.reset_to(new_state)\n",
    "state = multistep_env.env.env.get_state()\n",
    "print(state['states'][8:10])\n",
    "frame = multistep_env.render(mode='rgb_array')\n",
    "img = Image.fromarray(frame)\n",
    "img.save(\"test_new.png\")\n",
    "print(multistep_env.env.env.get_state()['states'][10:17])"
   ]
  },
  {
   "cell_type": "code",
   "execution_count": null,
   "metadata": {},
   "outputs": [],
   "source": [
    "multistep_env.step(np.array([[0.0, 0.0, 0.0, 0.0, 0.0, 0.0, -0.99,]]))\n",
    "frame = multistep_env.render(mode='rgb_array')\n",
    "state = multistep_env.env.env.get_state()\n",
    "print(state['states'][8:10])\n",
    "img = Image.fromarray(frame)\n",
    "img.show()\n"
   ]
  },
  {
   "cell_type": "code",
   "execution_count": null,
   "metadata": {},
   "outputs": [],
   "source": [
    "obs, reward, doen, info = multistep_env.step(np.array([[0.0, 0.0, 0.0, 0.0, 0.0, 0.0, -0.99,]]))\n",
    "frame = multistep_env.render(mode='rgb_array')\n",
    "state = multistep_env.env.env.get_state()\n",
    "print(state['states'][8:10])\n",
    "new_state = {k:v for k,v in deepcopy(state).items() if k != 'model'}\n",
    "new_state['states'][10:17] = object_pos_quat + np.array([0.000, 0.0, 0.0, 0, 0, 0, 0])\n",
    "multistep_env.env.env.reset_to(new_state)\n",
    "print(state['states'][8:10])\n",
    "img = Image.fromarray(frame)\n",
    "img.show()\n"
   ]
  },
  {
   "cell_type": "code",
   "execution_count": null,
   "metadata": {},
   "outputs": [],
   "source": [
    "print(new_state.keys())"
   ]
  },
  {
   "cell_type": "code",
   "execution_count": null,
   "metadata": {},
   "outputs": [],
   "source": [
    "state['states']"
   ]
  },
  {
   "cell_type": "code",
   "execution_count": null,
   "metadata": {},
   "outputs": [],
   "source": [
    "multistep_env.reset()\n",
    "print(multistep_env.env.env.get_observation())\n",
    "print(multistep_env.env.env.get_state()['states'])"
   ]
  },
  {
   "cell_type": "code",
   "execution_count": null,
   "metadata": {},
   "outputs": [],
   "source": [
    "print(obs.shape)"
   ]
  },
  {
   "cell_type": "code",
   "execution_count": null,
   "metadata": {},
   "outputs": [],
   "source": [
    "\"Nut\" in str(type(multistep_env.env.env.env))"
   ]
  },
  {
   "cell_type": "code",
   "execution_count": null,
   "metadata": {},
   "outputs": [],
   "source": [
    "rewards = multistep_env.env.env.env.staged_rewards()\n",
    "print(rewards)"
   ]
  },
  {
   "cell_type": "code",
   "execution_count": null,
   "metadata": {},
   "outputs": [],
   "source": []
  }
 ],
 "metadata": {
  "kernelspec": {
   "display_name": "robodiff",
   "language": "python",
   "name": "python3"
  },
  "language_info": {
   "codemirror_mode": {
    "name": "ipython",
    "version": 3
   },
   "file_extension": ".py",
   "mimetype": "text/x-python",
   "name": "python",
   "nbconvert_exporter": "python",
   "pygments_lexer": "ipython3",
   "version": "3.9.18"
  }
 },
 "nbformat": 4,
 "nbformat_minor": 2
}
