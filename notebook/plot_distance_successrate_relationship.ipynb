{
 "cells": [
  {
   "cell_type": "code",
   "execution_count": 1,
   "metadata": {},
   "outputs": [],
   "source": [
    "import json\n",
    "import numpy as np\n",
    "import matplotlib.pyplot as plt\n",
    "\n",
    "# Load the evaluation log file\n",
    "with open('../outputs/lift_lowdim_ph_reproduction/2025.04.12_11.32.56_train_diffusion_unet_lowdim_lift_lowdim_16_state_estimator/eval_disturbance_horizon_14_measure_pick_position_and_time_prob_1.0_vel_0.0017_gripper_dir_near_gripper_0.05_200episode/eval_log.json', 'r') as f:\n",
    "    eval_data = json.load(f)\n"
   ]
  },
  {
   "cell_type": "code",
   "execution_count": 2,
   "metadata": {},
   "outputs": [],
   "source": [
    "success_lst = list()\n",
    "distance_lst = list()\n",
    "for i in range(200):\n",
    "    \n",
    "    if eval_data[f'test/sim_distance_to_normal_object_pos_{100000+i}'] != -1:\n",
    "        if eval_data[f'test/sim_triggered_time_{100000+i}'] < 4:\n",
    "            success_lst.append(eval_data[f'test/sim_max_reward_{100000+i}'])\n",
    "            distance_lst.append(eval_data[f'test/sim_distance_to_normal_object_pos_{100000+i}'])\n",
    "\n",
    "success_lst = np.array(success_lst)\n",
    "distance_lst = np.array(distance_lst)"
   ]
  },
  {
   "cell_type": "code",
   "execution_count": null,
   "metadata": {},
   "outputs": [],
   "source": [
    "success_mask = success_lst > 0.9\n",
    "\n",
    "# Calculate mean and std for success and failure cases\n",
    "success_mean = np.mean(distance_lst[success_mask])\n",
    "success_std = np.std(distance_lst[success_mask])\n",
    "failure_mean = np.mean(distance_lst[~success_mask]) \n",
    "failure_std = np.std(distance_lst[~success_mask])\n",
    "\n",
    "# plt.scatter(distance_lst[success_mask], np.full_like(distance_lst[success_mask], 0.1), color='tab:blue', label='Success')\n",
    "# plt.scatter(distance_lst[~success_mask], np.full_like(distance_lst[~success_mask], -0.1), color='tab:red', label='Failure')\n",
    "plt.ylim([-1, 1])\n",
    "plt.errorbar(success_mean, 0.01, xerr=success_std, fmt='o', color='tab:blue', label='Success', capsize=5)\n",
    "plt.errorbar(failure_mean, 0, xerr=failure_std, fmt='o', color='tab:red', label='Failure', capsize=5)\n",
    "plt.xlabel('Distance to Normal Object Position')\n",
    "plt.ylabel('Success Rate')\n",
    "plt.legend()\n",
    "print(success_mask.sum()/len(success_mask))"
   ]
  },
  {
   "cell_type": "code",
   "execution_count": null,
   "metadata": {},
   "outputs": [],
   "source": [
    "success_mask.sum()"
   ]
  },
  {
   "cell_type": "code",
   "execution_count": 13,
   "metadata": {},
   "outputs": [],
   "source": [
    "import json\n",
    "import numpy as np\n",
    "import matplotlib.pyplot as plt\n",
    "\n",
    "# Load the evaluation log file\n",
    "with open('../outputs/lift_lowdim_ph_reproduction/2025.04.12_11.32.56_train_diffusion_unet_lowdim_lift_lowdim_16_state_estimator/eval_disturbance_horizon_14_measure_pick_position_and_time_prob_1.0_vel_0.0017_gripper_dir_near_gripper_0.05_200episode/eval_log.json', 'r') as f:\n",
    "    eval_data = json.load(f)\n"
   ]
  },
  {
   "cell_type": "code",
   "execution_count": 14,
   "metadata": {},
   "outputs": [],
   "source": [
    "success_lst = list()\n",
    "timing_lst = list()\n",
    "for i in range(200):\n",
    "    \n",
    "    if eval_data[f'test/sim_distance_to_normal_object_pos_{100000+i}'] != -1:\n",
    "        success_lst.append(eval_data[f'test/sim_max_reward_{100000+i}'])\n",
    "        timing_lst.append(eval_data[f'test/sim_triggered_time_{100000+i}'])\n",
    "\n",
    "success_lst = np.array(success_lst)\n",
    "timing_lst = np.array(timing_lst)"
   ]
  },
  {
   "cell_type": "code",
   "execution_count": null,
   "metadata": {},
   "outputs": [],
   "source": [
    "success_mask = success_lst > 0.9\n",
    "\n",
    "# Calculate mean and std for success and failure cases\n",
    "success_mean = np.mean(timing_lst[success_mask])\n",
    "success_std = np.std(timing_lst[success_mask])\n",
    "failure_mean = np.mean(timing_lst[~success_mask]) \n",
    "failure_std = np.std(timing_lst[~success_mask])\n",
    "\n",
    "plt.scatter(timing_lst[success_mask], np.full_like(timing_lst[success_mask], 1), color='tab:blue', label='Success')\n",
    "plt.scatter(timing_lst[~success_mask], np.full_like(timing_lst[~success_mask], -1), color='tab:red', label='Failure')\n",
    "plt.ylim([-10, 10])\n",
    "plt.errorbar(success_mean, 0.05, xerr=success_std, fmt='o', color='tab:blue', label='Success', capsize=5)\n",
    "plt.errorbar(failure_mean, -0.05, xerr=failure_std, fmt='o', color='tab:red', label='Failure', capsize=5)\n",
    "plt.xlabel('Distance to Normal Object Position')\n",
    "plt.ylabel('Success Rate')\n",
    "plt.legend()"
   ]
  },
  {
   "cell_type": "code",
   "execution_count": 1,
   "metadata": {},
   "outputs": [],
   "source": [
    "# plot the distance between intended grasping position and box when first graspping signal has been sampled w.r.t the timing\n",
    "import json\n",
    "import numpy as np\n",
    "import matplotlib.pyplot as plt\n",
    "\n",
    "# Load the evaluation log file\n",
    "with open('../outputs/lift_lowdim_ph_reproduction/2025.04.12_11.32.56_train_diffusion_unet_lowdim_lift_lowdim_16_state_estimator/eval_disturbance_horizon_14_measure_pick_position_and_time_prob_1.0_vel_0.0017_gripper_dir_near_gripper_0.05_200episode/eval_log.json', 'r') as f:\n",
    "    eval_data_move = json.load(f)\n",
    "    \n",
    "with open('../outputs/lift_lowdim_ph_reproduction/2025.04.12_11.32.56_train_diffusion_unet_lowdim_lift_lowdim_16_state_estimator/eval_disturbance_horizon_14_measure_pick_position_and_time_prob_1.0_vel_0.0000_gripper_dir_near_gripper_0.05/eval_log.json', 'r') as f:\n",
    "    eval_data_stop = json.load(f)"
   ]
  },
  {
   "cell_type": "code",
   "execution_count": 2,
   "metadata": {},
   "outputs": [],
   "source": [
    "mov_timing_lst = {i: [] for i in range(14)}\n",
    "stop_timing_lst = {i: [] for i in range(14)}\n",
    "for i in range(200):\n",
    "\n",
    "    if eval_data_move[f'test/sim_distance_to_normal_object_pos_{100000+i}'] != -1:\n",
    "        mov_timing_lst[eval_data_move[f'test/sim_triggered_time_{100000+i}']].append(eval_data_move[f'test/sim_distance_to_normal_object_pos_{100000+i}'])\n",
    "    if eval_data_stop[f'test/sim_distance_to_normal_object_pos_{100000+i}'] != -1:\n",
    "        stop_timing_lst[eval_data_stop[f'test/sim_triggered_time_{100000+i}']].append(eval_data_stop[f'test/sim_distance_to_normal_object_pos_{100000+i}'])"
   ]
  },
  {
   "cell_type": "code",
   "execution_count": null,
   "metadata": {},
   "outputs": [],
   "source": [
    "for i in range(13):\n",
    "    # Plot scatter points for move data\n",
    "    # plt.scatter(mov_timing_lst[i], np.full_like(mov_timing_lst[i], i+0.2), color='tab:red', label='Move', alpha=0.5)\n",
    "    \n",
    "    # Calculate and plot mean and std for move data if there are points\n",
    "    if len(mov_timing_lst[i]) > 0:\n",
    "        mov_mean = np.mean(mov_timing_lst[i])\n",
    "        mov_std = np.std(mov_timing_lst[i])\n",
    "        plt.errorbar(mov_mean, i+0.1, xerr=mov_std, fmt='o', color='tab:red', capsize=5, label='Move')\n",
    "        \n",
    "    # Plot scatter points for stop data\n",
    "    # plt.scatter(stop_timing_lst[i], np.full_like(stop_timing_lst[i], i)-0.2, color='tab:blue', label='Stop', alpha=0.5)\n",
    "    \n",
    "    # Calculate and plot mean and std for stop data if there are points\n",
    "    if len(stop_timing_lst[i]) > 0:\n",
    "        stop_mean = np.mean(stop_timing_lst[i])\n",
    "        stop_std = np.std(stop_timing_lst[i])\n",
    "        plt.errorbar(stop_mean, i-0.1, xerr=stop_std, fmt='o', color='tab:blue', capsize=5, label='Stop')\n",
    "    print(f\"i: {i}, mov_mean: {mov_mean}, stop_mean: {stop_mean}, diff: {(mov_mean - stop_mean)}\")\n",
    "plt.xlabel('Distance to Normal Object Position')\n",
    "plt.ylabel('Timing')\n",
    "# plt.legend()\n",
    "plt.show()\n"
   ]
  },
  {
   "cell_type": "code",
   "execution_count": null,
   "metadata": {},
   "outputs": [],
   "source": [
    "for key, value in mov_timing_lst.items():\n",
    "    print(key, len(value))"
   ]
  },
  {
   "cell_type": "code",
   "execution_count": 4,
   "metadata": {},
   "outputs": [],
   "source": [
    "import json\n",
    "import numpy as np\n",
    "import matplotlib.pyplot as plt\n",
    "\n",
    "# Load the evaluation log file\n",
    "with open('../outputs/lift_lowdim_ph_reproduction/2025.04.12_11.32.56_train_diffusion_unet_lowdim_lift_lowdim_16_state_estimator/eval_disturbance_horizon_14_measure_distance_when_grasping_sampled_prob_1.0_vel_0.0000_gripper_dir_near_gripper_0.05/eval_log.json', 'r') as f:\n",
    "    eval_data = json.load(f)\n"
   ]
  },
  {
   "cell_type": "code",
   "execution_count": null,
   "metadata": {},
   "outputs": [],
   "source": [
    "# Collect distances\n",
    "gripper2object_distance_lst = []\n",
    "for i in range(100):\n",
    "    gripper2object_distance_lst.append(eval_data[f'test/sim_gripper2object_distance_{100000+i}'])\n",
    "gripper2object_distance_lst = np.array(gripper2object_distance_lst)\n",
    "\n",
    "# Calculate mean and std\n",
    "mean_distance = np.mean(gripper2object_distance_lst)\n",
    "std_distance = np.std(gripper2object_distance_lst)\n",
    "\n",
    "# Plot mean and std\n",
    "plt.errorbar(mean_distance, 0, xerr=std_distance, fmt='o', color='tab:blue', capsize=5)\n",
    "plt.xlabel('Distance between Gripper and Object')\n",
    "plt.ylabel('')\n",
    "plt.show()\n"
   ]
  },
  {
   "cell_type": "code",
   "execution_count": null,
   "metadata": {},
   "outputs": [],
   "source": [
    "print(max(gripper2object_distance_lst))"
   ]
  },
  {
   "cell_type": "code",
   "execution_count": null,
   "metadata": {},
   "outputs": [],
   "source": []
  }
 ],
 "metadata": {
  "kernelspec": {
   "display_name": "robodiff",
   "language": "python",
   "name": "python3"
  },
  "language_info": {
   "codemirror_mode": {
    "name": "ipython",
    "version": 3
   },
   "file_extension": ".py",
   "mimetype": "text/x-python",
   "name": "python",
   "nbconvert_exporter": "python",
   "pygments_lexer": "ipython3",
   "version": "3.9.15"
  }
 },
 "nbformat": 4,
 "nbformat_minor": 2
}
