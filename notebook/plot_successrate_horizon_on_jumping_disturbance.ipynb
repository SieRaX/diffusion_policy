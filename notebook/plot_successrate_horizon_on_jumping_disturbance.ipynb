{
 "cells": [
  {
   "cell_type": "code",
   "execution_count": 1,
   "metadata": {},
   "outputs": [],
   "source": [
    "import os\n",
    "import json\n",
    "import numpy as np\n",
    "from matplotlib import pyplot as plt"
   ]
  },
  {
   "cell_type": "code",
   "execution_count": 2,
   "metadata": {},
   "outputs": [],
   "source": [
    "uniform_horizon_dir = \"../outputs/lift_lowdim_ph_reproduction/2025.04.12_11.32.56_train_diffusion_unet_lowdim_lift_lowdim_16_state_estimator/uniform_horizon_jumping_disturbance\""
   ]
  },
  {
   "cell_type": "code",
   "execution_count": 8,
   "metadata": {},
   "outputs": [],
   "source": [
    "success_rate_lst = list()\n",
    "for horizon in range(1, 14):\n",
    "    py_data = json.load(open(os.path.join(uniform_horizon_dir, f\"eval_jumping_disturbance_horizon_{horizon}_num_distrub_1_pos_0.05_gripper_dir_near_gripper_0.025_200episodes\", \"eval_log.json\")))\n",
    "    success_rate_lst.append(py_data[\"test/mean_score\"])\n",
    "success_rate_lst = np.array(success_rate_lst)"
   ]
  },
  {
   "cell_type": "code",
   "execution_count": null,
   "metadata": {},
   "outputs": [],
   "source": [
    "len(success_rate_lst)"
   ]
  },
  {
   "cell_type": "code",
   "execution_count": null,
   "metadata": {},
   "outputs": [],
   "source": [
    "fig, ax1 = plt.subplots(figsize=(8, 6))\n",
    "ax1.plot(np.arange(1, 14), success_rate_lst)\n",
    "ax1.set_ylim(.2, 1)\n",
    "ax1.set_xlabel('Horizon Length')\n",
    "ax1.set_ylabel('Success Rate')\n",
    "ax1.set_title('Success Rate vs. Horizon Length')\n",
    "ax1.legend()\n",
    "ax1.grid(True, alpha=0.3)\n",
    "plt.show()"
   ]
  },
  {
   "cell_type": "code",
   "execution_count": null,
   "metadata": {},
   "outputs": [],
   "source": []
  }
 ],
 "metadata": {
  "kernelspec": {
   "display_name": "robodiff",
   "language": "python",
   "name": "python3"
  },
  "language_info": {
   "codemirror_mode": {
    "name": "ipython",
    "version": 3
   },
   "file_extension": ".py",
   "mimetype": "text/x-python",
   "name": "python",
   "nbconvert_exporter": "python",
   "pygments_lexer": "ipython3",
   "version": "3.9.15"
  }
 },
 "nbformat": 4,
 "nbformat_minor": 2
}
