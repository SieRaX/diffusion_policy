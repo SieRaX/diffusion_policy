{
 "cells": [
  {
   "cell_type": "code",
   "execution_count": 1,
   "metadata": {},
   "outputs": [],
   "source": [
    "import os\n",
    "import json\n",
    "import numpy as np\n",
    "from matplotlib import pyplot as plt"
   ]
  },
  {
   "cell_type": "code",
   "execution_count": 2,
   "metadata": {},
   "outputs": [],
   "source": [
    "uniform_horizon_dir = \"../outputs/lift_lowdim_ph_reproduction/2025.04.12_11.32.56_train_diffusion_unet_lowdim_lift_lowdim_16_state_estimator/uniform_horizon/\"\n",
    "\n",
    "AHC_horizon_dir = \"../outputs/lift_lowdim_ph_reproduction/2025.04.12_11.32.56_train_diffusion_unet_lowdim_lift_lowdim_16_state_estimator/AHC_total_evaluation_by_seed\""
   ]
  },
  {
   "cell_type": "code",
   "execution_count": 3,
   "metadata": {},
   "outputs": [],
   "source": [
    "def get_horizon_length_success_rate(folder_dir):\n",
    "    # Get all folders in uniform_horizon_dir that contain evaluation results\n",
    "    folder_names = [d for d in os.listdir(folder_dir)]\n",
    "    \n",
    "    # folder_names = []\n",
    "    \n",
    "    # for d in os.listdir(folder_dir):\n",
    "    #     if not \"0.02\" in d:\n",
    "    #         folder_names.append(d)\n",
    "    # folder_names.sort(key=lambda x: int(x.split('_')[3])) # Sort by horizon number\n",
    "\n",
    "    length_and_success_rate = []\n",
    "\n",
    "    for folder_name in folder_names:\n",
    "        \n",
    "        try:\n",
    "            py_data = json.load(open(os.path.join(folder_dir, folder_name, \"eval_log.json\")))\n",
    "            \n",
    "            for seed in np.arange(100000, 100000+50):\n",
    "                reward_key = f\"test/sim_max_reward_{seed}\"\n",
    "                length_key = f\"test/sim_action_horizon_average_length_{seed}\"\n",
    "                \n",
    "                length_and_success_rate.append(np.array([py_data[length_key], py_data[reward_key]]))\n",
    "\n",
    "        except Exception as e:\n",
    "            print(f\"Error in {os.path.join(folder_dir, folder_name, 'eval_log.json')}\")\n",
    "            print(e)\n",
    "    length_and_success_rate = np.stack(length_and_success_rate, axis=0)\n",
    "    return length_and_success_rate"
   ]
  },
  {
   "cell_type": "code",
   "execution_count": 4,
   "metadata": {},
   "outputs": [],
   "source": [
    "uniform_length_and_success_rate = get_horizon_length_success_rate(uniform_horizon_dir)\n",
    "AHC_length_and_success_rate = get_horizon_length_success_rate(AHC_horizon_dir)\n"
   ]
  },
  {
   "cell_type": "code",
   "execution_count": 5,
   "metadata": {},
   "outputs": [],
   "source": [
    "unique_times = np.unique(uniform_length_and_success_rate[:, 0].round(2))\n",
    "bins = unique_times-0.5\n",
    "bins = np.concatenate([bins, [bins[-1]+1.0, bins[-1]+2.0]])"
   ]
  },
  {
   "cell_type": "code",
   "execution_count": 6,
   "metadata": {},
   "outputs": [],
   "source": [
    "# Calculate averages and std for each bin\n",
    "def get_binned_statistics(horizon_times, success, bins):\n",
    "    bin_indices = np.digitize(horizon_times, bins)\n",
    "    binned_success_rate = []\n",
    "    bin_centers = []\n",
    "    bin_counts = []\n",
    "    for i in range(min(bin_indices), max(bin_indices)+1):\n",
    "        mask = bin_indices == i\n",
    "        if np.any(np.logical_and(mask, success)):\n",
    "            bin_centers.append((bins[i-1] + bins[i]) / 2)\n",
    "            binned_success_rate.append(np.mean(success[mask]))\n",
    "            bin_counts.append(np.sum(mask))\n",
    "        else:\n",
    "            binned_success_rate.append(0)\n",
    "            bin_counts.append(0)\n",
    "            bin_centers.append((bins[i-1] + bins[i]) / 2)\n",
    "    \n",
    "    return np.array(bin_centers), np.array(binned_success_rate), bin_counts"
   ]
  },
  {
   "cell_type": "code",
   "execution_count": 7,
   "metadata": {},
   "outputs": [],
   "source": [
    "uni_bin_centers, uni_binned_success_rate, uni_bin_counts = get_binned_statistics(uniform_length_and_success_rate[:, 0], uniform_length_and_success_rate[:, 1], bins)\n",
    "AHC_bin_centers, AHC_binned_success_rate, AHC_bin_counts = get_binned_statistics(AHC_length_and_success_rate[:, 0]+1, AHC_length_and_success_rate[:, 1], bins)"
   ]
  },
  {
   "cell_type": "code",
   "execution_count": null,
   "metadata": {},
   "outputs": [],
   "source": [
    "print(AHC_length_and_success_rate[:, 0]+1)"
   ]
  },
  {
   "cell_type": "code",
   "execution_count": null,
   "metadata": {},
   "outputs": [],
   "source": [
    "print(AHC_bin_centers)"
   ]
  },
  {
   "cell_type": "code",
   "execution_count": null,
   "metadata": {},
   "outputs": [],
   "source": [
    "fig, ax1 = plt.subplots(figsize=(8, 6))\n",
    "\n",
    "ax1.plot(uni_bin_centers, uni_binned_success_rate, 'o:', color='tab:blue', label='Uniform')\n",
    "ax1.plot(AHC_bin_centers, AHC_binned_success_rate, 'o:', color='tab:orange', label='AHC')\n",
    "ax1.set_xlabel('Horizon Length')\n",
    "ax1.set_ylabel('Success Rate')\n",
    "ax1.set_title('Success Rate vs. Horizon Length')\n",
    "ax1.legend()\n",
    "ax1.grid(True, alpha=0.3)\n",
    "\n",
    "plt.tight_layout()\n",
    "plt.show()"
   ]
  },
  {
   "cell_type": "code",
   "execution_count": null,
   "metadata": {},
   "outputs": [],
   "source": [
    "print(AHC_bin_centers)\n",
    "print(AHC_bin_counts)\n",
    "\n",
    "print(np.stack([np.array(AHC_bin_centers), np.array(AHC_bin_counts)], axis=1))"
   ]
  },
  {
   "cell_type": "code",
   "execution_count": null,
   "metadata": {},
   "outputs": [],
   "source": [
    "import numpy as np\n",
    "import os\n",
    "import json\n",
    "\n",
    "seed_number = 100041\n",
    "\n",
    "uniform_horizon_dir = \"../outputs/lift_lowdim_ph_reproduction/2025.04.12_11.32.56_train_diffusion_unet_lowdim_lift_lowdim_16_state_estimator/uniform_horizon\"\n",
    "\n",
    "AHC_horizon_dir = f\"../outputs/lift_lowdim_ph_reproduction/2025.04.12_11.32.56_train_diffusion_unet_lowdim_lift_lowdim_16_state_estimator/AHC_total_evaluation_by_seed\"\n",
    "\n",
    "uniform_horizon_success = []\n",
    "AHC_horizon_success = []\n",
    "\n",
    "for horizon in range(1, 14):\n",
    "    py_data = json.load(open(os.path.join(uniform_horizon_dir, f\"eval_disturbance_horizon_{horizon}_distrubance_prob_1.0_vel_0.0017_gripper_dir_near_gripper_0.05_50episodes\", \"eval_log.json\")))\n",
    "    uniform_horizon_success.append(py_data[f\"test/sim_max_reward_{seed_number}\"])\n",
    "    \n",
    "    AHC_py_data = json.load(open(os.path.join(AHC_horizon_dir, f\"eval_AHC_seed_{seed_number}_distrubance_prob_1.0_vel_0.0017_gripper_dir_near_gripper_0.05_50episodes\", \"eval_log.json\")))\n",
    "    AHC_horizon_success.append(AHC_py_data[f\"test/sim_max_reward_{horizon}\"])\n",
    "\n",
    "uniform_horizon_success = np.array(uniform_horizon_success)\n",
    "AHC_horizon_success = np.array(AHC_horizon_success)\n",
    "\n",
    "mask = AHC_horizon_success >= 0\n",
    "\n",
    "\n",
    "\n",
    "print(uniform_horizon_success[mask])\n",
    "print(AHC_horizon_success[mask])\n",
    "print(np.array(AHC_horizon_success[mask])-np.array(uniform_horizon_success[mask]))\n",
    "print(np.sum(AHC_horizon_success[mask])-np.sum(uniform_horizon_success[mask]))\n",
    "\n"
   ]
  },
  {
   "cell_type": "code",
   "execution_count": null,
   "metadata": {},
   "outputs": [],
   "source": [
    "mask"
   ]
  },
  {
   "cell_type": "markdown",
   "metadata": {},
   "source": [
    "# Get Successrate by seed"
   ]
  },
  {
   "cell_type": "code",
   "execution_count": 1,
   "metadata": {},
   "outputs": [],
   "source": [
    "import os\n",
    "import json\n",
    "import numpy as np\n",
    "from matplotlib import pyplot as plt"
   ]
  },
  {
   "cell_type": "code",
   "execution_count": 2,
   "metadata": {},
   "outputs": [],
   "source": [
    "seed_number = 100041\n",
    "\n",
    "uniform_horizon_dir = \"../outputs/lift_lowdim_ph_reproduction/2025.04.12_11.32.56_train_diffusion_unet_lowdim_lift_lowdim_16_state_estimator/uniform_horizon\"\n",
    "\n",
    "AHC_horizon_dir = f\"../outputs/lift_lowdim_ph_reproduction/2025.04.12_11.32.56_train_diffusion_unet_lowdim_lift_lowdim_16_state_estimator/AHC_total_evaluation_by_seed\"\n",
    "\n",
    "uniform_horizon_success = []\n",
    "AHC_horizon_success = []\n",
    "\n",
    "for seed_number in range(100000, 100000+50):\n",
    "\n",
    "    for horizon in range(1, 14):\n",
    "        py_data = json.load(open(os.path.join(uniform_horizon_dir, f\"eval_disturbance_horizon_{horizon}_distrubance_prob_1.0_vel_0.0017_gripper_dir_near_gripper_0.05_50episodes\", \"eval_log.json\")))\n",
    "        uniform_horizon_success.append( \\\n",
    "            np.array([ \\\n",
    "                py_data[f\"test/sim_action_horizon_average_length_{seed_number}\"], \\\n",
    "                py_data[f\"test/sim_max_reward_{seed_number}\"] \\\n",
    "            ])\\\n",
    "        )\n",
    "        \n",
    "        AHC_py_data = json.load(open(os.path.join(AHC_horizon_dir, f\"eval_AHC_seed_{seed_number}_distrubance_prob_1.0_vel_0.0017_gripper_dir_near_gripper_0.05_50episodes\", \"eval_log.json\")))\n",
    "        AHC_horizon_success.append( \\\n",
    "            np.array([ \\\n",
    "                AHC_py_data[f\"test/sim_action_horizon_average_length_{horizon}\"], \\\n",
    "                AHC_py_data[f\"test/sim_max_reward_{horizon}\"], \\\n",
    "            ])\\\n",
    "        )\n",
    "\n",
    "uniform_horizon_success = np.stack(uniform_horizon_success, axis=0)\n",
    "AHC_horizon_success = np.stack(AHC_horizon_success, axis=0)\n",
    "AHC_horizon_success = AHC_horizon_success[AHC_horizon_success[:, 0]>0]\n",
    "\n",
    "# mask = AHC_horizon_success >= 0\n",
    "\n",
    "\n",
    "\n",
    "# print(uniform_horizon_success[mask])\n",
    "# print(AHC_horizon_success[mask])\n",
    "# print(np.array(AHC_horizon_success[mask])-np.array(uniform_horizon_success[mask]))\n",
    "# print(np.sum(AHC_horizon_success[mask])-np.sum(uniform_horizon_success[mask]))\n",
    "\n"
   ]
  },
  {
   "cell_type": "code",
   "execution_count": 3,
   "metadata": {},
   "outputs": [],
   "source": [
    "unique_times = np.unique(uniform_horizon_success[:, 0].round(2))\n",
    "bins = unique_times-0.5\n",
    "bins = np.concatenate([bins, [bins[-1]+1.0, bins[-1]+2.0]])"
   ]
  },
  {
   "cell_type": "code",
   "execution_count": null,
   "metadata": {},
   "outputs": [],
   "source": [
    "print(bins)"
   ]
  },
  {
   "cell_type": "code",
   "execution_count": 11,
   "metadata": {},
   "outputs": [],
   "source": [
    "# Calculate averages and std for each bin\n",
    "def get_binned_statistics(horizon_times, success, bins):\n",
    "    bin_indices = np.digitize(horizon_times, bins)\n",
    "    binned_success_rate = []\n",
    "    bin_centers = []\n",
    "    bin_counts = []\n",
    "    for i in range(min(bin_indices), max(bin_indices)+1):\n",
    "        mask = bin_indices == i\n",
    "        if np.any(np.logical_and(mask, success)):\n",
    "            bin_centers.append((bins[i-1] + bins[i]) / 2)\n",
    "            binned_success_rate.append(np.mean(success[mask]))\n",
    "            bin_counts.append(np.sum(mask))\n",
    "        else:\n",
    "            binned_success_rate.append(0)\n",
    "            bin_counts.append(0)\n",
    "            bin_centers.append((bins[i-1] + bins[i]) / 2)\n",
    "    \n",
    "    return np.array(bin_centers), np.array(binned_success_rate), bin_counts"
   ]
  },
  {
   "cell_type": "code",
   "execution_count": null,
   "metadata": {},
   "outputs": [],
   "source": [
    "uni_bin_centers, uni_binned_success_rate, uni_bin_counts = get_binned_statistics(uniform_horizon_success[:, 0], uniform_horizon_success[:, 1], bins)\n",
    "AHC_bin_centers, AHC_binned_success_rate, AHC_bin_counts = get_binned_statistics(AHC_horizon_success[:, 0], AHC_horizon_success[:, 1], bins)"
   ]
  },
  {
   "cell_type": "code",
   "execution_count": null,
   "metadata": {},
   "outputs": [],
   "source": [
    "fig, ax1 = plt.subplots(figsize=(8, 6))\n",
    "\n",
    "ax1.plot(uni_bin_centers, uni_binned_success_rate, 'o:', color='tab:blue', label='Uniform')\n",
    "ax1.plot(AHC_bin_centers, AHC_binned_success_rate, 'o:', color='tab:orange', label='AHC')\n",
    "ax1.set_xlabel('Horizon Length')\n",
    "ax1.set_ylabel('Success Rate')\n",
    "ax1.set_title('Success Rate vs. Horizon Length')\n",
    "ax1.legend()\n",
    "ax1.grid(True, alpha=0.3)\n",
    "\n",
    "plt.tight_layout()\n",
    "plt.show()"
   ]
  },
  {
   "cell_type": "code",
   "execution_count": null,
   "metadata": {},
   "outputs": [],
   "source": [
    "np.sum((AHC_horizon_success[:, 0] > 9.7) & (AHC_horizon_success[:, 0] < 10.3))"
   ]
  },
  {
   "cell_type": "code",
   "execution_count": null,
   "metadata": {},
   "outputs": [],
   "source": []
  }
 ],
 "metadata": {
  "kernelspec": {
   "display_name": "robodiff",
   "language": "python",
   "name": "python3"
  },
  "language_info": {
   "codemirror_mode": {
    "name": "ipython",
    "version": 3
   },
   "file_extension": ".py",
   "mimetype": "text/x-python",
   "name": "python",
   "nbconvert_exporter": "python",
   "pygments_lexer": "ipython3",
   "version": "3.9.15"
  }
 },
 "nbformat": 4,
 "nbformat_minor": 2
}
