{
 "cells": [
  {
   "cell_type": "code",
   "execution_count": 1,
   "metadata": {},
   "outputs": [],
   "source": [
    "from diffusion_policy.dataset.robomimic_replay_image_dataset import RobomimicReplayImageDataset\n",
    "from diffusion_policy.common.replay_buffer import ReplayBuffer\n",
    "import os"
   ]
  },
  {
   "cell_type": "code",
   "execution_count": 2,
   "metadata": {},
   "outputs": [],
   "source": [
    "shape_meta = {\n",
    "    'action': {\n",
    "        'shape': [7]\n",
    "    },\n",
    "    'obs': {\n",
    "        'agentview_image': {\n",
    "            'shape': [3, 84, 84],\n",
    "            'type': 'rgb'\n",
    "        },\n",
    "        'robot0_eef_pos': {\n",
    "            'shape': [3]\n",
    "        },\n",
    "        'robot0_eef_quat': {\n",
    "            'shape': [4]\n",
    "        },\n",
    "        'robot0_eye_in_hand_image': {\n",
    "            'shape': [3, 84, 84],\n",
    "            'type': 'rgb'\n",
    "        },\n",
    "        'robot0_gripper_qpos': {\n",
    "            'shape': [2]\n",
    "        }\n",
    "    }\n",
    "}"
   ]
  },
  {
   "cell_type": "code",
   "execution_count": 3,
   "metadata": {},
   "outputs": [],
   "source": [
    "# zarr_path = os.path.expanduser('./data/robomimic/datasets/square/ph/image_abs.hdf5')\n",
    "# dataset = RobomimicReplayImageDataset(shape_meta,zarr_path, horizon=16)"
   ]
  },
  {
   "cell_type": "code",
   "execution_count": 4,
   "metadata": {},
   "outputs": [],
   "source": [
    "# data= next(iter(dataset))"
   ]
  },
  {
   "cell_type": "code",
   "execution_count": 5,
   "metadata": {},
   "outputs": [],
   "source": [
    "# print(data['obs'].keys())"
   ]
  },
  {
   "cell_type": "code",
   "execution_count": 6,
   "metadata": {},
   "outputs": [],
   "source": [
    "zarr_path = os.path.expanduser('./data/robomimic/datasets/lift/ph/image_abs.hdf5.zarr.zip')\n",
    "replay_buffer = ReplayBuffer.copy_from_path(\n",
    "            zarr_path, keys=['agentview_image', 'robot0_eye_in_hand_image', 'action'])"
   ]
  },
  {
   "cell_type": "code",
   "execution_count": 7,
   "metadata": {},
   "outputs": [],
   "source": [
    "epi = replay_buffer.get_episode(0)"
   ]
  },
  {
   "cell_type": "code",
   "execution_count": 8,
   "metadata": {},
   "outputs": [
    {
     "data": {
      "text/plain": [
       "array([[[[ 99,  97,  90],\n",
       "         [ 99,  97,  90],\n",
       "         [ 98,  97,  90],\n",
       "         ...,\n",
       "         [ 98,  96,  89],\n",
       "         [ 98,  96,  89],\n",
       "         [ 98,  96,  89]],\n",
       "\n",
       "        [[ 99,  97,  90],\n",
       "         [ 98,  97,  90],\n",
       "         [ 98,  97,  90],\n",
       "         ...,\n",
       "         [ 98,  96,  89],\n",
       "         [ 98,  96,  89],\n",
       "         [ 98,  96,  89]],\n",
       "\n",
       "        [[ 98,  97,  90],\n",
       "         [ 98,  97,  90],\n",
       "         [ 98,  96,  90],\n",
       "         ...,\n",
       "         [ 98,  96,  89],\n",
       "         [ 98,  96,  89],\n",
       "         [ 98,  96,  89]],\n",
       "\n",
       "        ...,\n",
       "\n",
       "        [[239, 239, 234],\n",
       "         [239, 239, 234],\n",
       "         [240, 239, 234],\n",
       "         ...,\n",
       "         [252, 251, 247],\n",
       "         [252, 251, 247],\n",
       "         [252, 251, 247]],\n",
       "\n",
       "        [[239, 239, 234],\n",
       "         [239, 239, 234],\n",
       "         [240, 239, 234],\n",
       "         ...,\n",
       "         [252, 251, 247],\n",
       "         [252, 251, 247],\n",
       "         [252, 251, 247]],\n",
       "\n",
       "        [[239, 239, 234],\n",
       "         [239, 239, 234],\n",
       "         [240, 239, 234],\n",
       "         ...,\n",
       "         [252, 251, 247],\n",
       "         [252, 251, 247],\n",
       "         [252, 251, 247]]],\n",
       "\n",
       "\n",
       "       [[[ 99,  97,  90],\n",
       "         [ 99,  97,  90],\n",
       "         [ 98,  97,  89],\n",
       "         ...,\n",
       "         [ 98,  96,  89],\n",
       "         [ 98,  96,  89],\n",
       "         [ 98,  96,  89]],\n",
       "\n",
       "        [[ 99,  97,  90],\n",
       "         [ 98,  97,  90],\n",
       "         [ 98,  97,  90],\n",
       "         ...,\n",
       "         [ 98,  96,  89],\n",
       "         [ 98,  96,  89],\n",
       "         [ 98,  96,  89]],\n",
       "\n",
       "        [[ 98,  97,  90],\n",
       "         [ 98,  97,  90],\n",
       "         [ 98,  96,  90],\n",
       "         ...,\n",
       "         [ 98,  96,  89],\n",
       "         [ 98,  96,  89],\n",
       "         [ 98,  96,  89]],\n",
       "\n",
       "        ...,\n",
       "\n",
       "        [[239, 239, 234],\n",
       "         [239, 239, 234],\n",
       "         [240, 239, 234],\n",
       "         ...,\n",
       "         [252, 251, 247],\n",
       "         [252, 251, 247],\n",
       "         [252, 251, 247]],\n",
       "\n",
       "        [[239, 239, 234],\n",
       "         [239, 239, 234],\n",
       "         [240, 239, 234],\n",
       "         ...,\n",
       "         [252, 251, 247],\n",
       "         [252, 251, 247],\n",
       "         [252, 251, 247]],\n",
       "\n",
       "        [[239, 239, 234],\n",
       "         [239, 239, 234],\n",
       "         [240, 239, 234],\n",
       "         ...,\n",
       "         [252, 251, 247],\n",
       "         [252, 251, 247],\n",
       "         [252, 251, 247]]],\n",
       "\n",
       "\n",
       "       [[[ 98,  97,  89],\n",
       "         [ 99,  97,  90],\n",
       "         [ 99,  97,  90],\n",
       "         ...,\n",
       "         [ 98,  96,  89],\n",
       "         [ 98,  96,  89],\n",
       "         [ 98,  96,  89]],\n",
       "\n",
       "        [[ 98,  97,  90],\n",
       "         [ 98,  97,  90],\n",
       "         [ 98,  97,  90],\n",
       "         ...,\n",
       "         [ 98,  96,  89],\n",
       "         [ 98,  96,  89],\n",
       "         [ 98,  96,  89]],\n",
       "\n",
       "        [[ 99,  97,  90],\n",
       "         [ 98,  97,  90],\n",
       "         [ 98,  96,  89],\n",
       "         ...,\n",
       "         [ 98,  96,  89],\n",
       "         [ 98,  96,  89],\n",
       "         [ 98,  96,  89]],\n",
       "\n",
       "        ...,\n",
       "\n",
       "        [[239, 239, 234],\n",
       "         [239, 239, 234],\n",
       "         [240, 239, 234],\n",
       "         ...,\n",
       "         [252, 251, 247],\n",
       "         [252, 251, 247],\n",
       "         [252, 251, 247]],\n",
       "\n",
       "        [[239, 239, 234],\n",
       "         [239, 239, 234],\n",
       "         [240, 239, 234],\n",
       "         ...,\n",
       "         [252, 251, 247],\n",
       "         [252, 251, 247],\n",
       "         [252, 251, 247]],\n",
       "\n",
       "        [[239, 239, 234],\n",
       "         [239, 239, 234],\n",
       "         [240, 239, 234],\n",
       "         ...,\n",
       "         [252, 251, 247],\n",
       "         [252, 251, 247],\n",
       "         [252, 251, 247]]],\n",
       "\n",
       "\n",
       "       ...,\n",
       "\n",
       "\n",
       "       [[[ 98,  96,  89],\n",
       "         [ 98,  96,  90],\n",
       "         [ 99,  97,  91],\n",
       "         ...,\n",
       "         [ 97,  95,  89],\n",
       "         [ 97,  95,  89],\n",
       "         [ 97,  95,  89]],\n",
       "\n",
       "        [[ 98,  96,  90],\n",
       "         [ 98,  96,  90],\n",
       "         [ 98,  97,  90],\n",
       "         ...,\n",
       "         [ 97,  95,  89],\n",
       "         [ 97,  95,  89],\n",
       "         [ 97,  95,  89]],\n",
       "\n",
       "        [[ 98,  96,  90],\n",
       "         [ 98,  96,  90],\n",
       "         [ 98,  96,  90],\n",
       "         ...,\n",
       "         [ 97,  95,  89],\n",
       "         [ 97,  95,  89],\n",
       "         [ 97,  95,  89]],\n",
       "\n",
       "        ...,\n",
       "\n",
       "        [[239, 239, 234],\n",
       "         [239, 239, 234],\n",
       "         [240, 239, 234],\n",
       "         ...,\n",
       "         [252, 251, 247],\n",
       "         [252, 251, 247],\n",
       "         [252, 251, 247]],\n",
       "\n",
       "        [[239, 239, 234],\n",
       "         [239, 239, 234],\n",
       "         [240, 239, 234],\n",
       "         ...,\n",
       "         [252, 251, 247],\n",
       "         [252, 251, 247],\n",
       "         [252, 251, 247]],\n",
       "\n",
       "        [[239, 239, 234],\n",
       "         [239, 239, 234],\n",
       "         [240, 239, 234],\n",
       "         ...,\n",
       "         [252, 251, 247],\n",
       "         [252, 251, 247],\n",
       "         [252, 251, 247]]],\n",
       "\n",
       "\n",
       "       [[[ 98,  96,  89],\n",
       "         [ 98,  96,  90],\n",
       "         [ 99,  97,  91],\n",
       "         ...,\n",
       "         [ 97,  95,  89],\n",
       "         [ 97,  95,  89],\n",
       "         [ 97,  95,  89]],\n",
       "\n",
       "        [[ 98,  96,  90],\n",
       "         [ 98,  96,  90],\n",
       "         [ 98,  97,  90],\n",
       "         ...,\n",
       "         [ 97,  95,  89],\n",
       "         [ 97,  95,  89],\n",
       "         [ 97,  95,  89]],\n",
       "\n",
       "        [[ 98,  96,  90],\n",
       "         [ 98,  96,  90],\n",
       "         [ 98,  96,  90],\n",
       "         ...,\n",
       "         [ 98,  96,  89],\n",
       "         [ 98,  96,  89],\n",
       "         [ 98,  95,  89]],\n",
       "\n",
       "        ...,\n",
       "\n",
       "        [[239, 239, 234],\n",
       "         [239, 239, 234],\n",
       "         [240, 239, 234],\n",
       "         ...,\n",
       "         [252, 251, 247],\n",
       "         [252, 251, 247],\n",
       "         [252, 251, 247]],\n",
       "\n",
       "        [[239, 239, 234],\n",
       "         [239, 239, 234],\n",
       "         [240, 239, 234],\n",
       "         ...,\n",
       "         [252, 251, 247],\n",
       "         [252, 251, 247],\n",
       "         [252, 251, 247]],\n",
       "\n",
       "        [[239, 239, 234],\n",
       "         [239, 239, 234],\n",
       "         [240, 239, 234],\n",
       "         ...,\n",
       "         [252, 251, 247],\n",
       "         [252, 251, 247],\n",
       "         [252, 251, 247]]],\n",
       "\n",
       "\n",
       "       [[[ 98,  96,  89],\n",
       "         [ 98,  96,  90],\n",
       "         [ 99,  97,  90],\n",
       "         ...,\n",
       "         [ 98,  96,  90],\n",
       "         [ 97,  96,  90],\n",
       "         [ 97,  96,  89]],\n",
       "\n",
       "        [[ 98,  96,  90],\n",
       "         [ 98,  96,  90],\n",
       "         [ 98,  97,  90],\n",
       "         ...,\n",
       "         [ 98,  96,  90],\n",
       "         [ 98,  96,  90],\n",
       "         [ 98,  96,  90]],\n",
       "\n",
       "        [[ 98,  96,  90],\n",
       "         [ 98,  96,  90],\n",
       "         [ 98,  96,  90],\n",
       "         ...,\n",
       "         [ 98,  96,  90],\n",
       "         [ 98,  96,  90],\n",
       "         [ 98,  96,  90]],\n",
       "\n",
       "        ...,\n",
       "\n",
       "        [[239, 239, 234],\n",
       "         [239, 239, 234],\n",
       "         [240, 239, 234],\n",
       "         ...,\n",
       "         [252, 251, 247],\n",
       "         [252, 251, 247],\n",
       "         [252, 251, 247]],\n",
       "\n",
       "        [[239, 239, 234],\n",
       "         [239, 239, 234],\n",
       "         [240, 239, 234],\n",
       "         ...,\n",
       "         [252, 251, 247],\n",
       "         [252, 251, 247],\n",
       "         [252, 251, 247]],\n",
       "\n",
       "        [[239, 239, 234],\n",
       "         [239, 239, 234],\n",
       "         [240, 239, 234],\n",
       "         ...,\n",
       "         [252, 251, 247],\n",
       "         [252, 251, 247],\n",
       "         [252, 251, 247]]]], dtype=uint8)"
      ]
     },
     "execution_count": 8,
     "metadata": {},
     "output_type": "execute_result"
    }
   ],
   "source": [
    "epi['agentview_image']"
   ]
  },
  {
   "cell_type": "code",
   "execution_count": 9,
   "metadata": {},
   "outputs": [
    {
     "name": "stdout",
     "output_type": "stream",
     "text": [
      "200\n"
     ]
    }
   ],
   "source": [
    "print(replay_buffer.n_episodes)"
   ]
  },
  {
   "cell_type": "code",
   "execution_count": 15,
   "metadata": {},
   "outputs": [
    {
     "name": "stderr",
     "output_type": "stream",
     "text": [
      "  0%|          | 0/200 [00:00<?, ?it/s]"
     ]
    },
    {
     "name": "stdout",
     "output_type": "stream",
     "text": [
      "Moviepy - Building video data/robomimic/datasets/lift/ph/demo_video_new/episode_0.mp4.\n",
      "Moviepy - Writing video data/robomimic/datasets/lift/ph/demo_video_new/episode_0.mp4\n",
      "\n"
     ]
    },
    {
     "name": "stderr",
     "output_type": "stream",
     "text": [
      "  0%|          | 1/200 [00:00<02:27,  1.35it/s]"
     ]
    },
    {
     "name": "stdout",
     "output_type": "stream",
     "text": [
      "Moviepy - Done !\n",
      "Moviepy - video ready data/robomimic/datasets/lift/ph/demo_video_new/episode_0.mp4\n"
     ]
    },
    {
     "name": "stderr",
     "output_type": "stream",
     "text": [
      "  0%|          | 1/200 [00:00<02:27,  1.35it/s]"
     ]
    },
    {
     "name": "stdout",
     "output_type": "stream",
     "text": [
      "Moviepy - Building video data/robomimic/datasets/lift/ph/demo_video_new/episode_1.mp4.\n",
      "Moviepy - Writing video data/robomimic/datasets/lift/ph/demo_video_new/episode_1.mp4\n",
      "\n"
     ]
    },
    {
     "name": "stderr",
     "output_type": "stream",
     "text": [
      "  1%|          | 2/200 [00:00<01:28,  2.23it/s]"
     ]
    },
    {
     "name": "stdout",
     "output_type": "stream",
     "text": [
      "Moviepy - Done !\n",
      "Moviepy - video ready data/robomimic/datasets/lift/ph/demo_video_new/episode_1.mp4\n"
     ]
    },
    {
     "name": "stderr",
     "output_type": "stream",
     "text": [
      "  1%|          | 2/200 [00:01<01:28,  2.23it/s]"
     ]
    },
    {
     "name": "stdout",
     "output_type": "stream",
     "text": [
      "Moviepy - Building video data/robomimic/datasets/lift/ph/demo_video_new/episode_2.mp4.\n",
      "Moviepy - Writing video data/robomimic/datasets/lift/ph/demo_video_new/episode_2.mp4\n",
      "\n"
     ]
    },
    {
     "name": "stderr",
     "output_type": "stream",
     "text": [
      "  2%|▏         | 3/200 [00:01<01:08,  2.89it/s]"
     ]
    },
    {
     "name": "stdout",
     "output_type": "stream",
     "text": [
      "Moviepy - Done !\n",
      "Moviepy - video ready data/robomimic/datasets/lift/ph/demo_video_new/episode_2.mp4\n"
     ]
    },
    {
     "name": "stderr",
     "output_type": "stream",
     "text": [
      "  2%|▏         | 3/200 [00:01<01:08,  2.89it/s]"
     ]
    },
    {
     "name": "stdout",
     "output_type": "stream",
     "text": [
      "Moviepy - Building video data/robomimic/datasets/lift/ph/demo_video_new/episode_3.mp4.\n",
      "Moviepy - Writing video data/robomimic/datasets/lift/ph/demo_video_new/episode_3.mp4\n",
      "\n"
     ]
    },
    {
     "name": "stderr",
     "output_type": "stream",
     "text": [
      "  2%|▏         | 4/200 [00:01<00:57,  3.40it/s]"
     ]
    },
    {
     "name": "stdout",
     "output_type": "stream",
     "text": [
      "Moviepy - Done !\n",
      "Moviepy - video ready data/robomimic/datasets/lift/ph/demo_video_new/episode_3.mp4\n"
     ]
    },
    {
     "name": "stderr",
     "output_type": "stream",
     "text": [
      "  2%|▏         | 4/200 [00:01<00:57,  3.40it/s]"
     ]
    },
    {
     "name": "stdout",
     "output_type": "stream",
     "text": [
      "Moviepy - Building video data/robomimic/datasets/lift/ph/demo_video_new/episode_4.mp4.\n",
      "Moviepy - Writing video data/robomimic/datasets/lift/ph/demo_video_new/episode_4.mp4\n",
      "\n"
     ]
    },
    {
     "name": "stderr",
     "output_type": "stream",
     "text": [
      "  2%|▎         | 5/200 [00:01<00:53,  3.66it/s]"
     ]
    },
    {
     "name": "stdout",
     "output_type": "stream",
     "text": [
      "Moviepy - Done !\n",
      "Moviepy - video ready data/robomimic/datasets/lift/ph/demo_video_new/episode_4.mp4\n"
     ]
    },
    {
     "name": "stderr",
     "output_type": "stream",
     "text": [
      "  2%|▎         | 5/200 [00:01<00:53,  3.66it/s]"
     ]
    },
    {
     "name": "stdout",
     "output_type": "stream",
     "text": [
      "Moviepy - Building video data/robomimic/datasets/lift/ph/demo_video_new/episode_5.mp4.\n",
      "Moviepy - Writing video data/robomimic/datasets/lift/ph/demo_video_new/episode_5.mp4\n",
      "\n"
     ]
    },
    {
     "name": "stderr",
     "output_type": "stream",
     "text": [
      "  3%|▎         | 6/200 [00:01<00:55,  3.47it/s]"
     ]
    },
    {
     "name": "stdout",
     "output_type": "stream",
     "text": [
      "Moviepy - Done !\n",
      "Moviepy - video ready data/robomimic/datasets/lift/ph/demo_video_new/episode_5.mp4\n"
     ]
    },
    {
     "name": "stderr",
     "output_type": "stream",
     "text": [
      "  3%|▎         | 6/200 [00:02<00:55,  3.47it/s]"
     ]
    },
    {
     "name": "stdout",
     "output_type": "stream",
     "text": [
      "Moviepy - Building video data/robomimic/datasets/lift/ph/demo_video_new/episode_6.mp4.\n",
      "Moviepy - Writing video data/robomimic/datasets/lift/ph/demo_video_new/episode_6.mp4\n",
      "\n"
     ]
    },
    {
     "name": "stderr",
     "output_type": "stream",
     "text": [
      "  4%|▎         | 7/200 [00:02<00:52,  3.69it/s]"
     ]
    },
    {
     "name": "stdout",
     "output_type": "stream",
     "text": [
      "Moviepy - Done !\n",
      "Moviepy - video ready data/robomimic/datasets/lift/ph/demo_video_new/episode_6.mp4\n"
     ]
    },
    {
     "name": "stderr",
     "output_type": "stream",
     "text": [
      "  4%|▎         | 7/200 [00:02<00:52,  3.69it/s]"
     ]
    },
    {
     "name": "stdout",
     "output_type": "stream",
     "text": [
      "Moviepy - Building video data/robomimic/datasets/lift/ph/demo_video_new/episode_7.mp4.\n",
      "Moviepy - Writing video data/robomimic/datasets/lift/ph/demo_video_new/episode_7.mp4\n",
      "\n"
     ]
    },
    {
     "name": "stderr",
     "output_type": "stream",
     "text": [
      "  4%|▍         | 8/200 [00:02<00:48,  3.99it/s]"
     ]
    },
    {
     "name": "stdout",
     "output_type": "stream",
     "text": [
      "Moviepy - Done !\n",
      "Moviepy - video ready data/robomimic/datasets/lift/ph/demo_video_new/episode_7.mp4\n"
     ]
    },
    {
     "name": "stderr",
     "output_type": "stream",
     "text": [
      "  4%|▍         | 8/200 [00:02<00:48,  3.99it/s]"
     ]
    },
    {
     "name": "stdout",
     "output_type": "stream",
     "text": [
      "Moviepy - Building video data/robomimic/datasets/lift/ph/demo_video_new/episode_8.mp4.\n",
      "Moviepy - Writing video data/robomimic/datasets/lift/ph/demo_video_new/episode_8.mp4\n",
      "\n"
     ]
    },
    {
     "name": "stderr",
     "output_type": "stream",
     "text": [
      "  4%|▍         | 9/200 [00:02<00:45,  4.24it/s]"
     ]
    },
    {
     "name": "stdout",
     "output_type": "stream",
     "text": [
      "Moviepy - Done !\n",
      "Moviepy - video ready data/robomimic/datasets/lift/ph/demo_video_new/episode_8.mp4\n",
      "Moviepy - Building video data/robomimic/datasets/lift/ph/demo_video_new/episode_9.mp4.\n",
      "Moviepy - Writing video data/robomimic/datasets/lift/ph/demo_video_new/episode_9.mp4\n",
      "\n"
     ]
    },
    {
     "name": "stderr",
     "output_type": "stream",
     "text": [
      "  5%|▌         | 10/200 [00:02<00:43,  4.34it/s]"
     ]
    },
    {
     "name": "stdout",
     "output_type": "stream",
     "text": [
      "Moviepy - Done !\n",
      "Moviepy - video ready data/robomimic/datasets/lift/ph/demo_video_new/episode_9.mp4\n",
      "Moviepy - Building video data/robomimic/datasets/lift/ph/demo_video_new/episode_10.mp4.\n",
      "Moviepy - Writing video data/robomimic/datasets/lift/ph/demo_video_new/episode_10.mp4\n",
      "\n"
     ]
    },
    {
     "name": "stderr",
     "output_type": "stream",
     "text": [
      "  6%|▌         | 11/200 [00:03<00:45,  4.18it/s]"
     ]
    },
    {
     "name": "stdout",
     "output_type": "stream",
     "text": [
      "Moviepy - Done !\n",
      "Moviepy - video ready data/robomimic/datasets/lift/ph/demo_video_new/episode_10.mp4\n"
     ]
    },
    {
     "name": "stderr",
     "output_type": "stream",
     "text": [
      "  6%|▌         | 11/200 [00:03<00:45,  4.18it/s]"
     ]
    },
    {
     "name": "stdout",
     "output_type": "stream",
     "text": [
      "Moviepy - Building video data/robomimic/datasets/lift/ph/demo_video_new/episode_11.mp4.\n",
      "Moviepy - Writing video data/robomimic/datasets/lift/ph/demo_video_new/episode_11.mp4\n",
      "\n"
     ]
    },
    {
     "name": "stderr",
     "output_type": "stream",
     "text": [
      "  6%|▌         | 12/200 [00:03<00:52,  3.58it/s]"
     ]
    },
    {
     "name": "stdout",
     "output_type": "stream",
     "text": [
      "Moviepy - Done !\n",
      "Moviepy - video ready data/robomimic/datasets/lift/ph/demo_video_new/episode_11.mp4\n"
     ]
    },
    {
     "name": "stderr",
     "output_type": "stream",
     "text": [
      "  6%|▌         | 12/200 [00:03<00:52,  3.58it/s]"
     ]
    },
    {
     "name": "stdout",
     "output_type": "stream",
     "text": [
      "Moviepy - Building video data/robomimic/datasets/lift/ph/demo_video_new/episode_12.mp4.\n",
      "Moviepy - Writing video data/robomimic/datasets/lift/ph/demo_video_new/episode_12.mp4\n",
      "\n"
     ]
    },
    {
     "name": "stderr",
     "output_type": "stream",
     "text": [
      "  6%|▋         | 13/200 [00:03<00:52,  3.54it/s]"
     ]
    },
    {
     "name": "stdout",
     "output_type": "stream",
     "text": [
      "Moviepy - Done !\n",
      "Moviepy - video ready data/robomimic/datasets/lift/ph/demo_video_new/episode_12.mp4\n"
     ]
    },
    {
     "name": "stderr",
     "output_type": "stream",
     "text": [
      "  6%|▋         | 13/200 [00:03<00:52,  3.54it/s]"
     ]
    },
    {
     "name": "stdout",
     "output_type": "stream",
     "text": [
      "Moviepy - Building video data/robomimic/datasets/lift/ph/demo_video_new/episode_13.mp4.\n",
      "Moviepy - Writing video data/robomimic/datasets/lift/ph/demo_video_new/episode_13.mp4\n",
      "\n"
     ]
    },
    {
     "name": "stderr",
     "output_type": "stream",
     "text": [
      "  7%|▋         | 14/200 [00:04<00:50,  3.69it/s]"
     ]
    },
    {
     "name": "stdout",
     "output_type": "stream",
     "text": [
      "Moviepy - Done !\n",
      "Moviepy - video ready data/robomimic/datasets/lift/ph/demo_video_new/episode_13.mp4\n"
     ]
    },
    {
     "name": "stderr",
     "output_type": "stream",
     "text": [
      "  7%|▋         | 14/200 [00:04<00:50,  3.69it/s]"
     ]
    },
    {
     "name": "stdout",
     "output_type": "stream",
     "text": [
      "Moviepy - Building video data/robomimic/datasets/lift/ph/demo_video_new/episode_14.mp4.\n",
      "Moviepy - Writing video data/robomimic/datasets/lift/ph/demo_video_new/episode_14.mp4\n",
      "\n"
     ]
    },
    {
     "name": "stderr",
     "output_type": "stream",
     "text": [
      "  8%|▊         | 15/200 [00:04<00:47,  3.90it/s]"
     ]
    },
    {
     "name": "stdout",
     "output_type": "stream",
     "text": [
      "Moviepy - Done !\n",
      "Moviepy - video ready data/robomimic/datasets/lift/ph/demo_video_new/episode_14.mp4\n"
     ]
    },
    {
     "name": "stderr",
     "output_type": "stream",
     "text": [
      "  8%|▊         | 15/200 [00:04<00:47,  3.90it/s]"
     ]
    },
    {
     "name": "stdout",
     "output_type": "stream",
     "text": [
      "Moviepy - Building video data/robomimic/datasets/lift/ph/demo_video_new/episode_15.mp4.\n",
      "Moviepy - Writing video data/robomimic/datasets/lift/ph/demo_video_new/episode_15.mp4\n",
      "\n"
     ]
    },
    {
     "name": "stderr",
     "output_type": "stream",
     "text": [
      "  8%|▊         | 16/200 [00:04<00:44,  4.10it/s]"
     ]
    },
    {
     "name": "stdout",
     "output_type": "stream",
     "text": [
      "Moviepy - Done !\n",
      "Moviepy - video ready data/robomimic/datasets/lift/ph/demo_video_new/episode_15.mp4\n"
     ]
    },
    {
     "name": "stderr",
     "output_type": "stream",
     "text": [
      "  8%|▊         | 16/200 [00:04<00:44,  4.10it/s]"
     ]
    },
    {
     "name": "stdout",
     "output_type": "stream",
     "text": [
      "Moviepy - Building video data/robomimic/datasets/lift/ph/demo_video_new/episode_16.mp4.\n",
      "Moviepy - Writing video data/robomimic/datasets/lift/ph/demo_video_new/episode_16.mp4\n",
      "\n"
     ]
    },
    {
     "name": "stderr",
     "output_type": "stream",
     "text": [
      "  8%|▊         | 17/200 [00:04<00:42,  4.28it/s]"
     ]
    },
    {
     "name": "stdout",
     "output_type": "stream",
     "text": [
      "Moviepy - Done !\n",
      "Moviepy - video ready data/robomimic/datasets/lift/ph/demo_video_new/episode_16.mp4\n"
     ]
    },
    {
     "name": "stderr",
     "output_type": "stream",
     "text": [
      "  8%|▊         | 17/200 [00:04<00:42,  4.28it/s]"
     ]
    },
    {
     "name": "stdout",
     "output_type": "stream",
     "text": [
      "Moviepy - Building video data/robomimic/datasets/lift/ph/demo_video_new/episode_17.mp4.\n",
      "Moviepy - Writing video data/robomimic/datasets/lift/ph/demo_video_new/episode_17.mp4\n",
      "\n"
     ]
    },
    {
     "name": "stderr",
     "output_type": "stream",
     "text": [
      "  9%|▉         | 18/200 [00:04<00:43,  4.16it/s]"
     ]
    },
    {
     "name": "stdout",
     "output_type": "stream",
     "text": [
      "Moviepy - Done !\n",
      "Moviepy - video ready data/robomimic/datasets/lift/ph/demo_video_new/episode_17.mp4\n",
      "Moviepy - Building video data/robomimic/datasets/lift/ph/demo_video_new/episode_18.mp4.\n",
      "Moviepy - Writing video data/robomimic/datasets/lift/ph/demo_video_new/episode_18.mp4\n",
      "\n"
     ]
    },
    {
     "name": "stderr",
     "output_type": "stream",
     "text": [
      " 10%|▉         | 19/200 [00:05<00:41,  4.37it/s]"
     ]
    },
    {
     "name": "stdout",
     "output_type": "stream",
     "text": [
      "Moviepy - Done !\n",
      "Moviepy - video ready data/robomimic/datasets/lift/ph/demo_video_new/episode_18.mp4\n",
      "Moviepy - Building video data/robomimic/datasets/lift/ph/demo_video_new/episode_19.mp4.\n",
      "Moviepy - Writing video data/robomimic/datasets/lift/ph/demo_video_new/episode_19.mp4\n",
      "\n"
     ]
    },
    {
     "name": "stderr",
     "output_type": "stream",
     "text": [
      " 10%|█         | 20/200 [00:05<00:41,  4.31it/s]"
     ]
    },
    {
     "name": "stdout",
     "output_type": "stream",
     "text": [
      "Moviepy - Done !\n",
      "Moviepy - video ready data/robomimic/datasets/lift/ph/demo_video_new/episode_19.mp4\n"
     ]
    },
    {
     "name": "stderr",
     "output_type": "stream",
     "text": [
      " 10%|█         | 20/200 [00:05<00:41,  4.31it/s]"
     ]
    },
    {
     "name": "stdout",
     "output_type": "stream",
     "text": [
      "Moviepy - Building video data/robomimic/datasets/lift/ph/demo_video_new/episode_20.mp4.\n",
      "Moviepy - Writing video data/robomimic/datasets/lift/ph/demo_video_new/episode_20.mp4\n",
      "\n"
     ]
    },
    {
     "name": "stderr",
     "output_type": "stream",
     "text": [
      " 10%|█         | 21/200 [00:05<00:50,  3.55it/s]"
     ]
    },
    {
     "name": "stdout",
     "output_type": "stream",
     "text": [
      "Moviepy - Done !\n",
      "Moviepy - video ready data/robomimic/datasets/lift/ph/demo_video_new/episode_20.mp4\n"
     ]
    },
    {
     "name": "stderr",
     "output_type": "stream",
     "text": [
      " 10%|█         | 21/200 [00:05<00:50,  3.55it/s]"
     ]
    },
    {
     "name": "stdout",
     "output_type": "stream",
     "text": [
      "Moviepy - Building video data/robomimic/datasets/lift/ph/demo_video_new/episode_21.mp4.\n",
      "Moviepy - Writing video data/robomimic/datasets/lift/ph/demo_video_new/episode_21.mp4\n",
      "\n"
     ]
    },
    {
     "name": "stderr",
     "output_type": "stream",
     "text": [
      " 11%|█         | 22/200 [00:06<00:54,  3.27it/s]"
     ]
    },
    {
     "name": "stdout",
     "output_type": "stream",
     "text": [
      "Moviepy - Done !\n",
      "Moviepy - video ready data/robomimic/datasets/lift/ph/demo_video_new/episode_21.mp4\n"
     ]
    },
    {
     "name": "stderr",
     "output_type": "stream",
     "text": [
      " 11%|█         | 22/200 [00:06<00:54,  3.27it/s]"
     ]
    },
    {
     "name": "stdout",
     "output_type": "stream",
     "text": [
      "Moviepy - Building video data/robomimic/datasets/lift/ph/demo_video_new/episode_22.mp4.\n",
      "Moviepy - Writing video data/robomimic/datasets/lift/ph/demo_video_new/episode_22.mp4\n",
      "\n"
     ]
    },
    {
     "name": "stderr",
     "output_type": "stream",
     "text": [
      " 12%|█▏        | 23/200 [00:06<00:52,  3.35it/s]"
     ]
    },
    {
     "name": "stdout",
     "output_type": "stream",
     "text": [
      "Moviepy - Done !\n",
      "Moviepy - video ready data/robomimic/datasets/lift/ph/demo_video_new/episode_22.mp4\n"
     ]
    },
    {
     "name": "stderr",
     "output_type": "stream",
     "text": [
      " 12%|█▏        | 23/200 [00:06<00:52,  3.35it/s]"
     ]
    },
    {
     "name": "stdout",
     "output_type": "stream",
     "text": [
      "Moviepy - Building video data/robomimic/datasets/lift/ph/demo_video_new/episode_23.mp4.\n",
      "Moviepy - Writing video data/robomimic/datasets/lift/ph/demo_video_new/episode_23.mp4\n",
      "\n"
     ]
    },
    {
     "name": "stderr",
     "output_type": "stream",
     "text": [
      " 12%|█▏        | 24/200 [00:06<00:49,  3.58it/s]"
     ]
    },
    {
     "name": "stdout",
     "output_type": "stream",
     "text": [
      "Moviepy - Done !\n",
      "Moviepy - video ready data/robomimic/datasets/lift/ph/demo_video_new/episode_23.mp4\n"
     ]
    },
    {
     "name": "stderr",
     "output_type": "stream",
     "text": [
      " 12%|█▏        | 24/200 [00:06<00:49,  3.58it/s]"
     ]
    },
    {
     "name": "stdout",
     "output_type": "stream",
     "text": [
      "Moviepy - Building video data/robomimic/datasets/lift/ph/demo_video_new/episode_24.mp4.\n",
      "Moviepy - Writing video data/robomimic/datasets/lift/ph/demo_video_new/episode_24.mp4\n",
      "\n"
     ]
    },
    {
     "name": "stderr",
     "output_type": "stream",
     "text": [
      " 12%|█▎        | 25/200 [00:06<00:45,  3.85it/s]"
     ]
    },
    {
     "name": "stdout",
     "output_type": "stream",
     "text": [
      "Moviepy - Done !\n",
      "Moviepy - video ready data/robomimic/datasets/lift/ph/demo_video_new/episode_24.mp4\n"
     ]
    },
    {
     "name": "stderr",
     "output_type": "stream",
     "text": [
      " 12%|█▎        | 25/200 [00:06<00:45,  3.85it/s]"
     ]
    },
    {
     "name": "stdout",
     "output_type": "stream",
     "text": [
      "Moviepy - Building video data/robomimic/datasets/lift/ph/demo_video_new/episode_25.mp4.\n",
      "Moviepy - Writing video data/robomimic/datasets/lift/ph/demo_video_new/episode_25.mp4\n",
      "\n"
     ]
    },
    {
     "name": "stderr",
     "output_type": "stream",
     "text": [
      " 13%|█▎        | 26/200 [00:07<00:42,  4.10it/s]"
     ]
    },
    {
     "name": "stdout",
     "output_type": "stream",
     "text": [
      "Moviepy - Done !\n",
      "Moviepy - video ready data/robomimic/datasets/lift/ph/demo_video_new/episode_25.mp4\n"
     ]
    },
    {
     "name": "stderr",
     "output_type": "stream",
     "text": [
      " 13%|█▎        | 26/200 [00:07<00:42,  4.10it/s]"
     ]
    },
    {
     "name": "stdout",
     "output_type": "stream",
     "text": [
      "Moviepy - Building video data/robomimic/datasets/lift/ph/demo_video_new/episode_26.mp4.\n",
      "Moviepy - Writing video data/robomimic/datasets/lift/ph/demo_video_new/episode_26.mp4\n",
      "\n"
     ]
    },
    {
     "name": "stderr",
     "output_type": "stream",
     "text": [
      " 14%|█▎        | 27/200 [00:07<00:53,  3.23it/s]"
     ]
    },
    {
     "name": "stdout",
     "output_type": "stream",
     "text": [
      "Moviepy - Done !\n",
      "Moviepy - video ready data/robomimic/datasets/lift/ph/demo_video_new/episode_26.mp4\n"
     ]
    },
    {
     "name": "stderr",
     "output_type": "stream",
     "text": [
      " 14%|█▎        | 27/200 [00:07<00:53,  3.23it/s]"
     ]
    },
    {
     "name": "stdout",
     "output_type": "stream",
     "text": [
      "Moviepy - Building video data/robomimic/datasets/lift/ph/demo_video_new/episode_27.mp4.\n",
      "Moviepy - Writing video data/robomimic/datasets/lift/ph/demo_video_new/episode_27.mp4\n",
      "\n"
     ]
    },
    {
     "name": "stderr",
     "output_type": "stream",
     "text": [
      " 14%|█▍        | 28/200 [00:07<00:51,  3.31it/s]"
     ]
    },
    {
     "name": "stdout",
     "output_type": "stream",
     "text": [
      "Moviepy - Done !\n",
      "Moviepy - video ready data/robomimic/datasets/lift/ph/demo_video_new/episode_27.mp4\n"
     ]
    },
    {
     "name": "stderr",
     "output_type": "stream",
     "text": [
      " 14%|█▍        | 28/200 [00:07<00:51,  3.31it/s]"
     ]
    },
    {
     "name": "stdout",
     "output_type": "stream",
     "text": [
      "Moviepy - Building video data/robomimic/datasets/lift/ph/demo_video_new/episode_28.mp4.\n",
      "Moviepy - Writing video data/robomimic/datasets/lift/ph/demo_video_new/episode_28.mp4\n",
      "\n"
     ]
    },
    {
     "name": "stderr",
     "output_type": "stream",
     "text": [
      " 14%|█▍        | 29/200 [00:08<00:48,  3.50it/s]"
     ]
    },
    {
     "name": "stdout",
     "output_type": "stream",
     "text": [
      "Moviepy - Done !\n",
      "Moviepy - video ready data/robomimic/datasets/lift/ph/demo_video_new/episode_28.mp4\n"
     ]
    },
    {
     "name": "stderr",
     "output_type": "stream",
     "text": [
      " 14%|█▍        | 29/200 [00:08<00:48,  3.50it/s]"
     ]
    },
    {
     "name": "stdout",
     "output_type": "stream",
     "text": [
      "Moviepy - Building video data/robomimic/datasets/lift/ph/demo_video_new/episode_29.mp4.\n",
      "Moviepy - Writing video data/robomimic/datasets/lift/ph/demo_video_new/episode_29.mp4\n",
      "\n"
     ]
    },
    {
     "name": "stderr",
     "output_type": "stream",
     "text": [
      " 15%|█▌        | 30/200 [00:08<00:44,  3.79it/s]"
     ]
    },
    {
     "name": "stdout",
     "output_type": "stream",
     "text": [
      "Moviepy - Done !\n",
      "Moviepy - video ready data/robomimic/datasets/lift/ph/demo_video_new/episode_29.mp4\n"
     ]
    },
    {
     "name": "stderr",
     "output_type": "stream",
     "text": [
      " 15%|█▌        | 30/200 [00:08<00:44,  3.79it/s]"
     ]
    },
    {
     "name": "stdout",
     "output_type": "stream",
     "text": [
      "Moviepy - Building video data/robomimic/datasets/lift/ph/demo_video_new/episode_30.mp4.\n",
      "Moviepy - Writing video data/robomimic/datasets/lift/ph/demo_video_new/episode_30.mp4\n",
      "\n"
     ]
    },
    {
     "name": "stderr",
     "output_type": "stream",
     "text": [
      " 16%|█▌        | 31/200 [00:08<00:44,  3.82it/s]"
     ]
    },
    {
     "name": "stdout",
     "output_type": "stream",
     "text": [
      "Moviepy - Done !\n",
      "Moviepy - video ready data/robomimic/datasets/lift/ph/demo_video_new/episode_30.mp4\n"
     ]
    },
    {
     "name": "stderr",
     "output_type": "stream",
     "text": [
      " 16%|█▌        | 31/200 [00:08<00:44,  3.82it/s]"
     ]
    },
    {
     "name": "stdout",
     "output_type": "stream",
     "text": [
      "Moviepy - Building video data/robomimic/datasets/lift/ph/demo_video_new/episode_31.mp4.\n",
      "Moviepy - Writing video data/robomimic/datasets/lift/ph/demo_video_new/episode_31.mp4\n",
      "\n"
     ]
    },
    {
     "name": "stderr",
     "output_type": "stream",
     "text": [
      " 16%|█▌        | 32/200 [00:08<00:48,  3.44it/s]"
     ]
    },
    {
     "name": "stdout",
     "output_type": "stream",
     "text": [
      "Moviepy - Done !\n",
      "Moviepy - video ready data/robomimic/datasets/lift/ph/demo_video_new/episode_31.mp4\n"
     ]
    },
    {
     "name": "stderr",
     "output_type": "stream",
     "text": [
      " 16%|█▌        | 32/200 [00:08<00:48,  3.44it/s]"
     ]
    },
    {
     "name": "stdout",
     "output_type": "stream",
     "text": [
      "Moviepy - Building video data/robomimic/datasets/lift/ph/demo_video_new/episode_32.mp4.\n",
      "Moviepy - Writing video data/robomimic/datasets/lift/ph/demo_video_new/episode_32.mp4\n",
      "\n"
     ]
    },
    {
     "name": "stderr",
     "output_type": "stream",
     "text": [
      " 16%|█▋        | 33/200 [00:09<00:46,  3.56it/s]"
     ]
    },
    {
     "name": "stdout",
     "output_type": "stream",
     "text": [
      "Moviepy - Done !\n",
      "Moviepy - video ready data/robomimic/datasets/lift/ph/demo_video_new/episode_32.mp4\n"
     ]
    },
    {
     "name": "stderr",
     "output_type": "stream",
     "text": [
      " 16%|█▋        | 33/200 [00:09<00:46,  3.56it/s]"
     ]
    },
    {
     "name": "stdout",
     "output_type": "stream",
     "text": [
      "Moviepy - Building video data/robomimic/datasets/lift/ph/demo_video_new/episode_33.mp4.\n",
      "Moviepy - Writing video data/robomimic/datasets/lift/ph/demo_video_new/episode_33.mp4\n",
      "\n"
     ]
    },
    {
     "name": "stderr",
     "output_type": "stream",
     "text": [
      " 17%|█▋        | 34/200 [00:09<00:44,  3.70it/s]"
     ]
    },
    {
     "name": "stdout",
     "output_type": "stream",
     "text": [
      "Moviepy - Done !\n",
      "Moviepy - video ready data/robomimic/datasets/lift/ph/demo_video_new/episode_33.mp4\n"
     ]
    },
    {
     "name": "stderr",
     "output_type": "stream",
     "text": [
      " 17%|█▋        | 34/200 [00:09<00:44,  3.70it/s]"
     ]
    },
    {
     "name": "stdout",
     "output_type": "stream",
     "text": [
      "Moviepy - Building video data/robomimic/datasets/lift/ph/demo_video_new/episode_34.mp4.\n",
      "Moviepy - Writing video data/robomimic/datasets/lift/ph/demo_video_new/episode_34.mp4\n",
      "\n"
     ]
    },
    {
     "name": "stderr",
     "output_type": "stream",
     "text": [
      " 17%|█▋        | 34/200 [00:09<00:44,  3.70it/s]"
     ]
    },
    {
     "name": "stdout",
     "output_type": "stream",
     "text": [
      "Moviepy - Done !\n",
      "Moviepy - video ready data/robomimic/datasets/lift/ph/demo_video_new/episode_34.mp4\n"
     ]
    },
    {
     "name": "stderr",
     "output_type": "stream",
     "text": [
      " 18%|█▊        | 35/200 [00:09<00:41,  4.01it/s]"
     ]
    },
    {
     "name": "stdout",
     "output_type": "stream",
     "text": [
      "Moviepy - Building video data/robomimic/datasets/lift/ph/demo_video_new/episode_35.mp4.\n",
      "Moviepy - Writing video data/robomimic/datasets/lift/ph/demo_video_new/episode_35.mp4\n",
      "\n"
     ]
    },
    {
     "name": "stderr",
     "output_type": "stream",
     "text": [
      " 18%|█▊        | 36/200 [00:09<00:39,  4.20it/s]"
     ]
    },
    {
     "name": "stdout",
     "output_type": "stream",
     "text": [
      "Moviepy - Done !\n",
      "Moviepy - video ready data/robomimic/datasets/lift/ph/demo_video_new/episode_35.mp4\n"
     ]
    },
    {
     "name": "stderr",
     "output_type": "stream",
     "text": [
      " 18%|█▊        | 36/200 [00:09<00:39,  4.20it/s]"
     ]
    },
    {
     "name": "stdout",
     "output_type": "stream",
     "text": [
      "Moviepy - Building video data/robomimic/datasets/lift/ph/demo_video_new/episode_36.mp4.\n",
      "Moviepy - Writing video data/robomimic/datasets/lift/ph/demo_video_new/episode_36.mp4\n",
      "\n"
     ]
    },
    {
     "name": "stderr",
     "output_type": "stream",
     "text": [
      " 18%|█▊        | 37/200 [00:10<00:38,  4.27it/s]"
     ]
    },
    {
     "name": "stdout",
     "output_type": "stream",
     "text": [
      "Moviepy - Done !\n",
      "Moviepy - video ready data/robomimic/datasets/lift/ph/demo_video_new/episode_36.mp4\n"
     ]
    },
    {
     "name": "stderr",
     "output_type": "stream",
     "text": [
      " 18%|█▊        | 37/200 [00:10<00:38,  4.27it/s]"
     ]
    },
    {
     "name": "stdout",
     "output_type": "stream",
     "text": [
      "Moviepy - Building video data/robomimic/datasets/lift/ph/demo_video_new/episode_37.mp4.\n",
      "Moviepy - Writing video data/robomimic/datasets/lift/ph/demo_video_new/episode_37.mp4\n",
      "\n"
     ]
    },
    {
     "name": "stderr",
     "output_type": "stream",
     "text": [
      " 19%|█▉        | 38/200 [00:10<00:34,  4.64it/s]"
     ]
    },
    {
     "name": "stdout",
     "output_type": "stream",
     "text": [
      "Moviepy - Done !\n",
      "Moviepy - video ready data/robomimic/datasets/lift/ph/demo_video_new/episode_37.mp4\n"
     ]
    },
    {
     "name": "stderr",
     "output_type": "stream",
     "text": [
      " 19%|█▉        | 38/200 [00:10<00:34,  4.64it/s]"
     ]
    },
    {
     "name": "stdout",
     "output_type": "stream",
     "text": [
      "Moviepy - Building video data/robomimic/datasets/lift/ph/demo_video_new/episode_38.mp4.\n",
      "Moviepy - Writing video data/robomimic/datasets/lift/ph/demo_video_new/episode_38.mp4\n",
      "\n"
     ]
    },
    {
     "name": "stderr",
     "output_type": "stream",
     "text": [
      " 20%|█▉        | 39/200 [00:10<00:32,  4.91it/s]"
     ]
    },
    {
     "name": "stdout",
     "output_type": "stream",
     "text": [
      "Moviepy - Done !\n",
      "Moviepy - video ready data/robomimic/datasets/lift/ph/demo_video_new/episode_38.mp4\n"
     ]
    },
    {
     "name": "stderr",
     "output_type": "stream",
     "text": [
      " 20%|█▉        | 39/200 [00:10<00:32,  4.91it/s]"
     ]
    },
    {
     "name": "stdout",
     "output_type": "stream",
     "text": [
      "Moviepy - Building video data/robomimic/datasets/lift/ph/demo_video_new/episode_39.mp4.\n",
      "Moviepy - Writing video data/robomimic/datasets/lift/ph/demo_video_new/episode_39.mp4\n",
      "\n"
     ]
    },
    {
     "name": "stderr",
     "output_type": "stream",
     "text": [
      " 20%|██        | 40/200 [00:10<00:31,  5.15it/s]"
     ]
    },
    {
     "name": "stdout",
     "output_type": "stream",
     "text": [
      "Moviepy - Done !\n",
      "Moviepy - video ready data/robomimic/datasets/lift/ph/demo_video_new/episode_39.mp4\n"
     ]
    },
    {
     "name": "stderr",
     "output_type": "stream",
     "text": [
      " 20%|██        | 40/200 [00:10<00:31,  5.15it/s]"
     ]
    },
    {
     "name": "stdout",
     "output_type": "stream",
     "text": [
      "Moviepy - Building video data/robomimic/datasets/lift/ph/demo_video_new/episode_40.mp4.\n",
      "Moviepy - Writing video data/robomimic/datasets/lift/ph/demo_video_new/episode_40.mp4\n",
      "\n"
     ]
    },
    {
     "name": "stderr",
     "output_type": "stream",
     "text": [
      " 20%|██        | 41/200 [00:10<00:29,  5.45it/s]"
     ]
    },
    {
     "name": "stdout",
     "output_type": "stream",
     "text": [
      "Moviepy - Done !\n",
      "Moviepy - video ready data/robomimic/datasets/lift/ph/demo_video_new/episode_40.mp4\n"
     ]
    },
    {
     "name": "stderr",
     "output_type": "stream",
     "text": [
      " 20%|██        | 41/200 [00:10<00:29,  5.45it/s]"
     ]
    },
    {
     "name": "stdout",
     "output_type": "stream",
     "text": [
      "Moviepy - Building video data/robomimic/datasets/lift/ph/demo_video_new/episode_41.mp4.\n",
      "Moviepy - Writing video data/robomimic/datasets/lift/ph/demo_video_new/episode_41.mp4\n",
      "\n"
     ]
    },
    {
     "name": "stderr",
     "output_type": "stream",
     "text": [
      " 21%|██        | 42/200 [00:10<00:29,  5.44it/s]"
     ]
    },
    {
     "name": "stdout",
     "output_type": "stream",
     "text": [
      "Moviepy - Done !\n",
      "Moviepy - video ready data/robomimic/datasets/lift/ph/demo_video_new/episode_41.mp4\n"
     ]
    },
    {
     "name": "stderr",
     "output_type": "stream",
     "text": [
      " 21%|██        | 42/200 [00:10<00:29,  5.44it/s]"
     ]
    },
    {
     "name": "stdout",
     "output_type": "stream",
     "text": [
      "Moviepy - Building video data/robomimic/datasets/lift/ph/demo_video_new/episode_42.mp4.\n",
      "Moviepy - Writing video data/robomimic/datasets/lift/ph/demo_video_new/episode_42.mp4\n",
      "\n"
     ]
    },
    {
     "name": "stderr",
     "output_type": "stream",
     "text": [
      " 22%|██▏       | 43/200 [00:11<00:28,  5.49it/s]"
     ]
    },
    {
     "name": "stdout",
     "output_type": "stream",
     "text": [
      "Moviepy - Done !\n",
      "Moviepy - video ready data/robomimic/datasets/lift/ph/demo_video_new/episode_42.mp4\n"
     ]
    },
    {
     "name": "stderr",
     "output_type": "stream",
     "text": [
      " 22%|██▏       | 43/200 [00:11<00:28,  5.49it/s]"
     ]
    },
    {
     "name": "stdout",
     "output_type": "stream",
     "text": [
      "Moviepy - Building video data/robomimic/datasets/lift/ph/demo_video_new/episode_43.mp4.\n",
      "Moviepy - Writing video data/robomimic/datasets/lift/ph/demo_video_new/episode_43.mp4\n",
      "\n"
     ]
    },
    {
     "name": "stderr",
     "output_type": "stream",
     "text": [
      " 22%|██▏       | 44/200 [00:11<00:27,  5.67it/s]"
     ]
    },
    {
     "name": "stdout",
     "output_type": "stream",
     "text": [
      "Moviepy - Done !\n",
      "Moviepy - video ready data/robomimic/datasets/lift/ph/demo_video_new/episode_43.mp4\n"
     ]
    },
    {
     "name": "stderr",
     "output_type": "stream",
     "text": [
      " 22%|██▏       | 44/200 [00:11<00:27,  5.67it/s]"
     ]
    },
    {
     "name": "stdout",
     "output_type": "stream",
     "text": [
      "Moviepy - Building video data/robomimic/datasets/lift/ph/demo_video_new/episode_44.mp4.\n",
      "Moviepy - Writing video data/robomimic/datasets/lift/ph/demo_video_new/episode_44.mp4\n",
      "\n"
     ]
    },
    {
     "name": "stderr",
     "output_type": "stream",
     "text": [
      " 22%|██▎       | 45/200 [00:11<00:27,  5.62it/s]"
     ]
    },
    {
     "name": "stdout",
     "output_type": "stream",
     "text": [
      "Moviepy - Done !\n",
      "Moviepy - video ready data/robomimic/datasets/lift/ph/demo_video_new/episode_44.mp4\n"
     ]
    },
    {
     "name": "stderr",
     "output_type": "stream",
     "text": [
      " 22%|██▎       | 45/200 [00:11<00:27,  5.62it/s]"
     ]
    },
    {
     "name": "stdout",
     "output_type": "stream",
     "text": [
      "Moviepy - Building video data/robomimic/datasets/lift/ph/demo_video_new/episode_45.mp4.\n",
      "Moviepy - Writing video data/robomimic/datasets/lift/ph/demo_video_new/episode_45.mp4\n",
      "\n"
     ]
    },
    {
     "name": "stderr",
     "output_type": "stream",
     "text": [
      " 23%|██▎       | 46/200 [00:11<00:27,  5.58it/s]"
     ]
    },
    {
     "name": "stdout",
     "output_type": "stream",
     "text": [
      "Moviepy - Done !\n",
      "Moviepy - video ready data/robomimic/datasets/lift/ph/demo_video_new/episode_45.mp4\n"
     ]
    },
    {
     "name": "stderr",
     "output_type": "stream",
     "text": [
      " 23%|██▎       | 46/200 [00:11<00:27,  5.58it/s]"
     ]
    },
    {
     "name": "stdout",
     "output_type": "stream",
     "text": [
      "Moviepy - Building video data/robomimic/datasets/lift/ph/demo_video_new/episode_46.mp4.\n",
      "Moviepy - Writing video data/robomimic/datasets/lift/ph/demo_video_new/episode_46.mp4\n",
      "\n"
     ]
    },
    {
     "name": "stderr",
     "output_type": "stream",
     "text": [
      " 24%|██▎       | 47/200 [00:11<00:27,  5.63it/s]"
     ]
    },
    {
     "name": "stdout",
     "output_type": "stream",
     "text": [
      "Moviepy - Done !\n",
      "Moviepy - video ready data/robomimic/datasets/lift/ph/demo_video_new/episode_46.mp4\n"
     ]
    },
    {
     "name": "stderr",
     "output_type": "stream",
     "text": [
      " 24%|██▎       | 47/200 [00:11<00:27,  5.63it/s]"
     ]
    },
    {
     "name": "stdout",
     "output_type": "stream",
     "text": [
      "Moviepy - Building video data/robomimic/datasets/lift/ph/demo_video_new/episode_47.mp4.\n",
      "Moviepy - Writing video data/robomimic/datasets/lift/ph/demo_video_new/episode_47.mp4\n",
      "\n"
     ]
    },
    {
     "name": "stderr",
     "output_type": "stream",
     "text": [
      " 24%|██▍       | 48/200 [00:12<00:28,  5.26it/s]"
     ]
    },
    {
     "name": "stdout",
     "output_type": "stream",
     "text": [
      "Moviepy - Done !\n",
      "Moviepy - video ready data/robomimic/datasets/lift/ph/demo_video_new/episode_47.mp4\n",
      "Moviepy - Building video data/robomimic/datasets/lift/ph/demo_video_new/episode_48.mp4.\n",
      "Moviepy - Writing video data/robomimic/datasets/lift/ph/demo_video_new/episode_48.mp4\n",
      "\n"
     ]
    },
    {
     "name": "stderr",
     "output_type": "stream",
     "text": [
      " 24%|██▍       | 49/200 [00:12<00:29,  5.16it/s]"
     ]
    },
    {
     "name": "stdout",
     "output_type": "stream",
     "text": [
      "Moviepy - Done !\n",
      "Moviepy - video ready data/robomimic/datasets/lift/ph/demo_video_new/episode_48.mp4\n",
      "Moviepy - Building video data/robomimic/datasets/lift/ph/demo_video_new/episode_49.mp4.\n",
      "Moviepy - Writing video data/robomimic/datasets/lift/ph/demo_video_new/episode_49.mp4\n",
      "\n"
     ]
    },
    {
     "name": "stderr",
     "output_type": "stream",
     "text": [
      " 25%|██▌       | 50/200 [00:12<00:34,  4.39it/s]"
     ]
    },
    {
     "name": "stdout",
     "output_type": "stream",
     "text": [
      "Moviepy - Done !\n",
      "Moviepy - video ready data/robomimic/datasets/lift/ph/demo_video_new/episode_49.mp4\n",
      "Moviepy - Building video data/robomimic/datasets/lift/ph/demo_video_new/episode_50.mp4.\n",
      "Moviepy - Writing video data/robomimic/datasets/lift/ph/demo_video_new/episode_50.mp4\n",
      "\n"
     ]
    },
    {
     "name": "stderr",
     "output_type": "stream",
     "text": [
      " 26%|██▌       | 51/200 [00:12<00:32,  4.64it/s]"
     ]
    },
    {
     "name": "stdout",
     "output_type": "stream",
     "text": [
      "Moviepy - Done !\n",
      "Moviepy - video ready data/robomimic/datasets/lift/ph/demo_video_new/episode_50.mp4\n"
     ]
    },
    {
     "name": "stderr",
     "output_type": "stream",
     "text": [
      " 26%|██▌       | 51/200 [00:12<00:32,  4.64it/s]"
     ]
    },
    {
     "name": "stdout",
     "output_type": "stream",
     "text": [
      "Moviepy - Building video data/robomimic/datasets/lift/ph/demo_video_new/episode_51.mp4.\n",
      "Moviepy - Writing video data/robomimic/datasets/lift/ph/demo_video_new/episode_51.mp4\n",
      "\n"
     ]
    },
    {
     "name": "stderr",
     "output_type": "stream",
     "text": [
      " 26%|██▌       | 52/200 [00:12<00:32,  4.53it/s]"
     ]
    },
    {
     "name": "stdout",
     "output_type": "stream",
     "text": [
      "Moviepy - Done !\n",
      "Moviepy - video ready data/robomimic/datasets/lift/ph/demo_video_new/episode_51.mp4\n"
     ]
    },
    {
     "name": "stderr",
     "output_type": "stream",
     "text": [
      " 26%|██▌       | 52/200 [00:13<00:32,  4.53it/s]"
     ]
    },
    {
     "name": "stdout",
     "output_type": "stream",
     "text": [
      "Moviepy - Building video data/robomimic/datasets/lift/ph/demo_video_new/episode_52.mp4.\n",
      "Moviepy - Writing video data/robomimic/datasets/lift/ph/demo_video_new/episode_52.mp4\n",
      "\n"
     ]
    },
    {
     "name": "stderr",
     "output_type": "stream",
     "text": [
      " 26%|██▋       | 53/200 [00:13<00:33,  4.34it/s]"
     ]
    },
    {
     "name": "stdout",
     "output_type": "stream",
     "text": [
      "Moviepy - Done !\n",
      "Moviepy - video ready data/robomimic/datasets/lift/ph/demo_video_new/episode_52.mp4\n"
     ]
    },
    {
     "name": "stderr",
     "output_type": "stream",
     "text": [
      " 26%|██▋       | 53/200 [00:13<00:33,  4.34it/s]"
     ]
    },
    {
     "name": "stdout",
     "output_type": "stream",
     "text": [
      "Moviepy - Building video data/robomimic/datasets/lift/ph/demo_video_new/episode_53.mp4.\n",
      "Moviepy - Writing video data/robomimic/datasets/lift/ph/demo_video_new/episode_53.mp4\n",
      "\n"
     ]
    },
    {
     "name": "stderr",
     "output_type": "stream",
     "text": [
      " 27%|██▋       | 54/200 [00:13<00:34,  4.25it/s]"
     ]
    },
    {
     "name": "stdout",
     "output_type": "stream",
     "text": [
      "Moviepy - Done !\n",
      "Moviepy - video ready data/robomimic/datasets/lift/ph/demo_video_new/episode_53.mp4\n"
     ]
    },
    {
     "name": "stderr",
     "output_type": "stream",
     "text": [
      " 27%|██▋       | 54/200 [00:13<00:34,  4.25it/s]"
     ]
    },
    {
     "name": "stdout",
     "output_type": "stream",
     "text": [
      "Moviepy - Building video data/robomimic/datasets/lift/ph/demo_video_new/episode_54.mp4.\n",
      "Moviepy - Writing video data/robomimic/datasets/lift/ph/demo_video_new/episode_54.mp4\n",
      "\n"
     ]
    },
    {
     "name": "stderr",
     "output_type": "stream",
     "text": [
      " 28%|██▊       | 55/200 [00:13<00:34,  4.24it/s]"
     ]
    },
    {
     "name": "stdout",
     "output_type": "stream",
     "text": [
      "Moviepy - Done !\n",
      "Moviepy - video ready data/robomimic/datasets/lift/ph/demo_video_new/episode_54.mp4\n"
     ]
    },
    {
     "name": "stderr",
     "output_type": "stream",
     "text": [
      " 28%|██▊       | 55/200 [00:13<00:34,  4.24it/s]"
     ]
    },
    {
     "name": "stdout",
     "output_type": "stream",
     "text": [
      "Moviepy - Building video data/robomimic/datasets/lift/ph/demo_video_new/episode_55.mp4.\n",
      "Moviepy - Writing video data/robomimic/datasets/lift/ph/demo_video_new/episode_55.mp4\n",
      "\n"
     ]
    },
    {
     "name": "stderr",
     "output_type": "stream",
     "text": [
      " 28%|██▊       | 56/200 [00:13<00:35,  4.08it/s]"
     ]
    },
    {
     "name": "stdout",
     "output_type": "stream",
     "text": [
      "Moviepy - Done !\n",
      "Moviepy - video ready data/robomimic/datasets/lift/ph/demo_video_new/episode_55.mp4\n",
      "Moviepy - Building video data/robomimic/datasets/lift/ph/demo_video_new/episode_56.mp4.\n",
      "Moviepy - Writing video data/robomimic/datasets/lift/ph/demo_video_new/episode_56.mp4\n",
      "\n"
     ]
    },
    {
     "name": "stderr",
     "output_type": "stream",
     "text": [
      " 28%|██▊       | 57/200 [00:14<00:31,  4.47it/s]"
     ]
    },
    {
     "name": "stdout",
     "output_type": "stream",
     "text": [
      "Moviepy - Done !\n",
      "Moviepy - video ready data/robomimic/datasets/lift/ph/demo_video_new/episode_56.mp4\n"
     ]
    },
    {
     "name": "stderr",
     "output_type": "stream",
     "text": [
      " 28%|██▊       | 57/200 [00:14<00:31,  4.47it/s]"
     ]
    },
    {
     "name": "stdout",
     "output_type": "stream",
     "text": [
      "Moviepy - Building video data/robomimic/datasets/lift/ph/demo_video_new/episode_57.mp4.\n",
      "Moviepy - Writing video data/robomimic/datasets/lift/ph/demo_video_new/episode_57.mp4\n",
      "\n"
     ]
    },
    {
     "name": "stderr",
     "output_type": "stream",
     "text": [
      " 29%|██▉       | 58/200 [00:14<00:30,  4.66it/s]"
     ]
    },
    {
     "name": "stdout",
     "output_type": "stream",
     "text": [
      "Moviepy - Done !\n",
      "Moviepy - video ready data/robomimic/datasets/lift/ph/demo_video_new/episode_57.mp4\n"
     ]
    },
    {
     "name": "stderr",
     "output_type": "stream",
     "text": [
      " 29%|██▉       | 58/200 [00:14<00:30,  4.66it/s]"
     ]
    },
    {
     "name": "stdout",
     "output_type": "stream",
     "text": [
      "Moviepy - Building video data/robomimic/datasets/lift/ph/demo_video_new/episode_58.mp4.\n",
      "Moviepy - Writing video data/robomimic/datasets/lift/ph/demo_video_new/episode_58.mp4\n",
      "\n"
     ]
    },
    {
     "name": "stderr",
     "output_type": "stream",
     "text": [
      " 30%|██▉       | 59/200 [00:14<00:28,  4.91it/s]"
     ]
    },
    {
     "name": "stdout",
     "output_type": "stream",
     "text": [
      "Moviepy - Done !\n",
      "Moviepy - video ready data/robomimic/datasets/lift/ph/demo_video_new/episode_58.mp4\n"
     ]
    },
    {
     "name": "stderr",
     "output_type": "stream",
     "text": [
      " 30%|██▉       | 59/200 [00:14<00:28,  4.91it/s]"
     ]
    },
    {
     "name": "stdout",
     "output_type": "stream",
     "text": [
      "Moviepy - Building video data/robomimic/datasets/lift/ph/demo_video_new/episode_59.mp4.\n",
      "Moviepy - Writing video data/robomimic/datasets/lift/ph/demo_video_new/episode_59.mp4\n",
      "\n"
     ]
    },
    {
     "name": "stderr",
     "output_type": "stream",
     "text": [
      " 30%|███       | 60/200 [00:14<00:27,  5.02it/s]"
     ]
    },
    {
     "name": "stdout",
     "output_type": "stream",
     "text": [
      "Moviepy - Done !\n",
      "Moviepy - video ready data/robomimic/datasets/lift/ph/demo_video_new/episode_59.mp4\n"
     ]
    },
    {
     "name": "stderr",
     "output_type": "stream",
     "text": [
      " 30%|███       | 60/200 [00:14<00:27,  5.02it/s]"
     ]
    },
    {
     "name": "stdout",
     "output_type": "stream",
     "text": [
      "Moviepy - Building video data/robomimic/datasets/lift/ph/demo_video_new/episode_60.mp4.\n",
      "Moviepy - Writing video data/robomimic/datasets/lift/ph/demo_video_new/episode_60.mp4\n",
      "\n"
     ]
    },
    {
     "name": "stderr",
     "output_type": "stream",
     "text": [
      " 30%|███       | 61/200 [00:14<00:27,  4.99it/s]"
     ]
    },
    {
     "name": "stdout",
     "output_type": "stream",
     "text": [
      "Moviepy - Done !\n",
      "Moviepy - video ready data/robomimic/datasets/lift/ph/demo_video_new/episode_60.mp4\n"
     ]
    },
    {
     "name": "stderr",
     "output_type": "stream",
     "text": [
      " 30%|███       | 61/200 [00:14<00:27,  4.99it/s]"
     ]
    },
    {
     "name": "stdout",
     "output_type": "stream",
     "text": [
      "Moviepy - Building video data/robomimic/datasets/lift/ph/demo_video_new/episode_61.mp4.\n",
      "Moviepy - Writing video data/robomimic/datasets/lift/ph/demo_video_new/episode_61.mp4\n",
      "\n"
     ]
    },
    {
     "name": "stderr",
     "output_type": "stream",
     "text": [
      " 31%|███       | 62/200 [00:15<00:29,  4.60it/s]"
     ]
    },
    {
     "name": "stdout",
     "output_type": "stream",
     "text": [
      "Moviepy - Done !\n",
      "Moviepy - video ready data/robomimic/datasets/lift/ph/demo_video_new/episode_61.mp4\n"
     ]
    },
    {
     "name": "stderr",
     "output_type": "stream",
     "text": [
      " 31%|███       | 62/200 [00:15<00:29,  4.60it/s]"
     ]
    },
    {
     "name": "stdout",
     "output_type": "stream",
     "text": [
      "Moviepy - Building video data/robomimic/datasets/lift/ph/demo_video_new/episode_62.mp4.\n",
      "Moviepy - Writing video data/robomimic/datasets/lift/ph/demo_video_new/episode_62.mp4\n",
      "\n"
     ]
    },
    {
     "name": "stderr",
     "output_type": "stream",
     "text": [
      " 32%|███▏      | 63/200 [00:15<00:28,  4.79it/s]"
     ]
    },
    {
     "name": "stdout",
     "output_type": "stream",
     "text": [
      "Moviepy - Done !\n",
      "Moviepy - video ready data/robomimic/datasets/lift/ph/demo_video_new/episode_62.mp4\n"
     ]
    },
    {
     "name": "stderr",
     "output_type": "stream",
     "text": [
      " 32%|███▏      | 63/200 [00:15<00:28,  4.79it/s]"
     ]
    },
    {
     "name": "stdout",
     "output_type": "stream",
     "text": [
      "Moviepy - Building video data/robomimic/datasets/lift/ph/demo_video_new/episode_63.mp4.\n",
      "Moviepy - Writing video data/robomimic/datasets/lift/ph/demo_video_new/episode_63.mp4\n",
      "\n"
     ]
    },
    {
     "name": "stderr",
     "output_type": "stream",
     "text": [
      " 32%|███▏      | 64/200 [00:15<00:27,  4.93it/s]"
     ]
    },
    {
     "name": "stdout",
     "output_type": "stream",
     "text": [
      "Moviepy - Done !\n",
      "Moviepy - video ready data/robomimic/datasets/lift/ph/demo_video_new/episode_63.mp4\n"
     ]
    },
    {
     "name": "stderr",
     "output_type": "stream",
     "text": [
      " 32%|███▏      | 64/200 [00:15<00:27,  4.93it/s]"
     ]
    },
    {
     "name": "stdout",
     "output_type": "stream",
     "text": [
      "Moviepy - Building video data/robomimic/datasets/lift/ph/demo_video_new/episode_64.mp4.\n",
      "Moviepy - Writing video data/robomimic/datasets/lift/ph/demo_video_new/episode_64.mp4\n",
      "\n"
     ]
    },
    {
     "name": "stderr",
     "output_type": "stream",
     "text": [
      " 32%|███▎      | 65/200 [00:15<00:28,  4.76it/s]"
     ]
    },
    {
     "name": "stdout",
     "output_type": "stream",
     "text": [
      "Moviepy - Done !\n",
      "Moviepy - video ready data/robomimic/datasets/lift/ph/demo_video_new/episode_64.mp4\n"
     ]
    },
    {
     "name": "stderr",
     "output_type": "stream",
     "text": [
      " 32%|███▎      | 65/200 [00:15<00:28,  4.76it/s]"
     ]
    },
    {
     "name": "stdout",
     "output_type": "stream",
     "text": [
      "Moviepy - Building video data/robomimic/datasets/lift/ph/demo_video_new/episode_65.mp4.\n",
      "Moviepy - Writing video data/robomimic/datasets/lift/ph/demo_video_new/episode_65.mp4\n",
      "\n"
     ]
    },
    {
     "name": "stderr",
     "output_type": "stream",
     "text": [
      " 33%|███▎      | 66/200 [00:15<00:27,  4.91it/s]"
     ]
    },
    {
     "name": "stdout",
     "output_type": "stream",
     "text": [
      "Moviepy - Done !\n",
      "Moviepy - video ready data/robomimic/datasets/lift/ph/demo_video_new/episode_65.mp4\n"
     ]
    },
    {
     "name": "stderr",
     "output_type": "stream",
     "text": [
      " 33%|███▎      | 66/200 [00:16<00:27,  4.91it/s]"
     ]
    },
    {
     "name": "stdout",
     "output_type": "stream",
     "text": [
      "Moviepy - Building video data/robomimic/datasets/lift/ph/demo_video_new/episode_66.mp4.\n",
      "Moviepy - Writing video data/robomimic/datasets/lift/ph/demo_video_new/episode_66.mp4\n",
      "\n"
     ]
    },
    {
     "name": "stderr",
     "output_type": "stream",
     "text": [
      " 34%|███▎      | 67/200 [00:16<00:30,  4.38it/s]"
     ]
    },
    {
     "name": "stdout",
     "output_type": "stream",
     "text": [
      "Moviepy - Done !\n",
      "Moviepy - video ready data/robomimic/datasets/lift/ph/demo_video_new/episode_66.mp4\n"
     ]
    },
    {
     "name": "stderr",
     "output_type": "stream",
     "text": [
      " 34%|███▎      | 67/200 [00:16<00:30,  4.38it/s]"
     ]
    },
    {
     "name": "stdout",
     "output_type": "stream",
     "text": [
      "Moviepy - Building video data/robomimic/datasets/lift/ph/demo_video_new/episode_67.mp4.\n",
      "Moviepy - Writing video data/robomimic/datasets/lift/ph/demo_video_new/episode_67.mp4\n",
      "\n"
     ]
    },
    {
     "name": "stderr",
     "output_type": "stream",
     "text": [
      " 34%|███▍      | 68/200 [00:16<00:30,  4.39it/s]"
     ]
    },
    {
     "name": "stdout",
     "output_type": "stream",
     "text": [
      "Moviepy - Done !\n",
      "Moviepy - video ready data/robomimic/datasets/lift/ph/demo_video_new/episode_67.mp4\n",
      "Moviepy - Building video data/robomimic/datasets/lift/ph/demo_video_new/episode_68.mp4.\n"
     ]
    },
    {
     "name": "stderr",
     "output_type": "stream",
     "text": [
      " 34%|███▍      | 68/200 [00:16<00:30,  4.39it/s]"
     ]
    },
    {
     "name": "stdout",
     "output_type": "stream",
     "text": [
      "Moviepy - Writing video data/robomimic/datasets/lift/ph/demo_video_new/episode_68.mp4\n",
      "\n"
     ]
    },
    {
     "name": "stderr",
     "output_type": "stream",
     "text": [
      " 34%|███▍      | 69/200 [00:16<00:28,  4.57it/s]"
     ]
    },
    {
     "name": "stdout",
     "output_type": "stream",
     "text": [
      "Moviepy - Done !\n",
      "Moviepy - video ready data/robomimic/datasets/lift/ph/demo_video_new/episode_68.mp4\n"
     ]
    },
    {
     "name": "stderr",
     "output_type": "stream",
     "text": [
      " 34%|███▍      | 69/200 [00:16<00:28,  4.57it/s]"
     ]
    },
    {
     "name": "stdout",
     "output_type": "stream",
     "text": [
      "Moviepy - Building video data/robomimic/datasets/lift/ph/demo_video_new/episode_69.mp4.\n",
      "Moviepy - Writing video data/robomimic/datasets/lift/ph/demo_video_new/episode_69.mp4\n",
      "\n"
     ]
    },
    {
     "name": "stderr",
     "output_type": "stream",
     "text": [
      " 35%|███▌      | 70/200 [00:16<00:27,  4.81it/s]"
     ]
    },
    {
     "name": "stdout",
     "output_type": "stream",
     "text": [
      "Moviepy - Done !\n",
      "Moviepy - video ready data/robomimic/datasets/lift/ph/demo_video_new/episode_69.mp4\n"
     ]
    },
    {
     "name": "stderr",
     "output_type": "stream",
     "text": [
      " 35%|███▌      | 70/200 [00:16<00:27,  4.81it/s]"
     ]
    },
    {
     "name": "stdout",
     "output_type": "stream",
     "text": [
      "Moviepy - Building video data/robomimic/datasets/lift/ph/demo_video_new/episode_70.mp4.\n",
      "Moviepy - Writing video data/robomimic/datasets/lift/ph/demo_video_new/episode_70.mp4\n",
      "\n"
     ]
    },
    {
     "name": "stderr",
     "output_type": "stream",
     "text": [
      " 36%|███▌      | 71/200 [00:17<00:27,  4.72it/s]"
     ]
    },
    {
     "name": "stdout",
     "output_type": "stream",
     "text": [
      "Moviepy - Done !\n",
      "Moviepy - video ready data/robomimic/datasets/lift/ph/demo_video_new/episode_70.mp4\n",
      "Moviepy - Building video data/robomimic/datasets/lift/ph/demo_video_new/episode_71.mp4.\n",
      "Moviepy - Writing video data/robomimic/datasets/lift/ph/demo_video_new/episode_71.mp4\n",
      "\n"
     ]
    },
    {
     "name": "stderr",
     "output_type": "stream",
     "text": [
      " 36%|███▌      | 72/200 [00:17<00:26,  4.77it/s]"
     ]
    },
    {
     "name": "stdout",
     "output_type": "stream",
     "text": [
      "Moviepy - Done !\n",
      "Moviepy - video ready data/robomimic/datasets/lift/ph/demo_video_new/episode_71.mp4\n",
      "Moviepy - Building video data/robomimic/datasets/lift/ph/demo_video_new/episode_72.mp4.\n",
      "Moviepy - Writing video data/robomimic/datasets/lift/ph/demo_video_new/episode_72.mp4\n",
      "\n"
     ]
    },
    {
     "name": "stderr",
     "output_type": "stream",
     "text": [
      " 36%|███▋      | 73/200 [00:17<00:25,  4.92it/s]"
     ]
    },
    {
     "name": "stdout",
     "output_type": "stream",
     "text": [
      "Moviepy - Done !\n",
      "Moviepy - video ready data/robomimic/datasets/lift/ph/demo_video_new/episode_72.mp4\n"
     ]
    },
    {
     "name": "stderr",
     "output_type": "stream",
     "text": [
      " 36%|███▋      | 73/200 [00:17<00:25,  4.92it/s]"
     ]
    },
    {
     "name": "stdout",
     "output_type": "stream",
     "text": [
      "Moviepy - Building video data/robomimic/datasets/lift/ph/demo_video_new/episode_73.mp4.\n",
      "Moviepy - Writing video data/robomimic/datasets/lift/ph/demo_video_new/episode_73.mp4\n",
      "\n"
     ]
    },
    {
     "name": "stderr",
     "output_type": "stream",
     "text": [
      " 37%|███▋      | 74/200 [00:17<00:25,  5.02it/s]"
     ]
    },
    {
     "name": "stdout",
     "output_type": "stream",
     "text": [
      "Moviepy - Done !\n",
      "Moviepy - video ready data/robomimic/datasets/lift/ph/demo_video_new/episode_73.mp4\n"
     ]
    },
    {
     "name": "stderr",
     "output_type": "stream",
     "text": [
      " 37%|███▋      | 74/200 [00:17<00:25,  5.02it/s]"
     ]
    },
    {
     "name": "stdout",
     "output_type": "stream",
     "text": [
      "Moviepy - Building video data/robomimic/datasets/lift/ph/demo_video_new/episode_74.mp4.\n",
      "Moviepy - Writing video data/robomimic/datasets/lift/ph/demo_video_new/episode_74.mp4\n",
      "\n"
     ]
    },
    {
     "name": "stderr",
     "output_type": "stream",
     "text": [
      "                                                \r"
     ]
    },
    {
     "name": "stdout",
     "output_type": "stream",
     "text": [
      "Moviepy - Done !\n",
      "Moviepy - video ready data/robomimic/datasets/lift/ph/demo_video_new/episode_74.mp4\n"
     ]
    },
    {
     "name": "stderr",
     "output_type": "stream",
     "text": [
      " 38%|███▊      | 75/200 [00:17<00:24,  5.02it/s]"
     ]
    },
    {
     "name": "stdout",
     "output_type": "stream",
     "text": [
      "Moviepy - Building video data/robomimic/datasets/lift/ph/demo_video_new/episode_75.mp4.\n",
      "Moviepy - Writing video data/robomimic/datasets/lift/ph/demo_video_new/episode_75.mp4\n",
      "\n"
     ]
    },
    {
     "name": "stderr",
     "output_type": "stream",
     "text": [
      " 38%|███▊      | 76/200 [00:17<00:23,  5.28it/s]"
     ]
    },
    {
     "name": "stdout",
     "output_type": "stream",
     "text": [
      "Moviepy - Done !\n",
      "Moviepy - video ready data/robomimic/datasets/lift/ph/demo_video_new/episode_75.mp4\n"
     ]
    },
    {
     "name": "stderr",
     "output_type": "stream",
     "text": [
      " 38%|███▊      | 76/200 [00:18<00:23,  5.28it/s]"
     ]
    },
    {
     "name": "stdout",
     "output_type": "stream",
     "text": [
      "Moviepy - Building video data/robomimic/datasets/lift/ph/demo_video_new/episode_76.mp4.\n",
      "Moviepy - Writing video data/robomimic/datasets/lift/ph/demo_video_new/episode_76.mp4\n",
      "\n"
     ]
    },
    {
     "name": "stderr",
     "output_type": "stream",
     "text": [
      " 38%|███▊      | 77/200 [00:18<00:23,  5.19it/s]"
     ]
    },
    {
     "name": "stdout",
     "output_type": "stream",
     "text": [
      "Moviepy - Done !\n",
      "Moviepy - video ready data/robomimic/datasets/lift/ph/demo_video_new/episode_76.mp4\n",
      "Moviepy - Building video data/robomimic/datasets/lift/ph/demo_video_new/episode_77.mp4.\n",
      "Moviepy - Writing video data/robomimic/datasets/lift/ph/demo_video_new/episode_77.mp4\n",
      "\n"
     ]
    },
    {
     "name": "stderr",
     "output_type": "stream",
     "text": [
      " 39%|███▉      | 78/200 [00:18<00:23,  5.28it/s]"
     ]
    },
    {
     "name": "stdout",
     "output_type": "stream",
     "text": [
      "Moviepy - Done !\n",
      "Moviepy - video ready data/robomimic/datasets/lift/ph/demo_video_new/episode_77.mp4\n"
     ]
    },
    {
     "name": "stderr",
     "output_type": "stream",
     "text": [
      " 39%|███▉      | 78/200 [00:18<00:23,  5.28it/s]"
     ]
    },
    {
     "name": "stdout",
     "output_type": "stream",
     "text": [
      "Moviepy - Building video data/robomimic/datasets/lift/ph/demo_video_new/episode_78.mp4.\n",
      "Moviepy - Writing video data/robomimic/datasets/lift/ph/demo_video_new/episode_78.mp4\n",
      "\n"
     ]
    },
    {
     "name": "stderr",
     "output_type": "stream",
     "text": [
      " 40%|███▉      | 79/200 [00:18<00:23,  5.13it/s]"
     ]
    },
    {
     "name": "stdout",
     "output_type": "stream",
     "text": [
      "Moviepy - Done !\n",
      "Moviepy - video ready data/robomimic/datasets/lift/ph/demo_video_new/episode_78.mp4\n"
     ]
    },
    {
     "name": "stderr",
     "output_type": "stream",
     "text": [
      " 40%|███▉      | 79/200 [00:18<00:23,  5.13it/s]"
     ]
    },
    {
     "name": "stdout",
     "output_type": "stream",
     "text": [
      "Moviepy - Building video data/robomimic/datasets/lift/ph/demo_video_new/episode_79.mp4.\n",
      "Moviepy - Writing video data/robomimic/datasets/lift/ph/demo_video_new/episode_79.mp4\n",
      "\n"
     ]
    },
    {
     "name": "stderr",
     "output_type": "stream",
     "text": [
      " 40%|████      | 80/200 [00:18<00:26,  4.58it/s]"
     ]
    },
    {
     "name": "stdout",
     "output_type": "stream",
     "text": [
      "Moviepy - Done !\n",
      "Moviepy - video ready data/robomimic/datasets/lift/ph/demo_video_new/episode_79.mp4\n",
      "Moviepy - Building video data/robomimic/datasets/lift/ph/demo_video_new/episode_80.mp4.\n",
      "Moviepy - Writing video data/robomimic/datasets/lift/ph/demo_video_new/episode_80.mp4\n",
      "\n"
     ]
    },
    {
     "name": "stderr",
     "output_type": "stream",
     "text": [
      " 40%|████      | 81/200 [00:19<00:24,  4.78it/s]"
     ]
    },
    {
     "name": "stdout",
     "output_type": "stream",
     "text": [
      "Moviepy - Done !\n",
      "Moviepy - video ready data/robomimic/datasets/lift/ph/demo_video_new/episode_80.mp4\n"
     ]
    },
    {
     "name": "stderr",
     "output_type": "stream",
     "text": [
      " 40%|████      | 81/200 [00:19<00:24,  4.78it/s]"
     ]
    },
    {
     "name": "stdout",
     "output_type": "stream",
     "text": [
      "Moviepy - Building video data/robomimic/datasets/lift/ph/demo_video_new/episode_81.mp4.\n",
      "Moviepy - Writing video data/robomimic/datasets/lift/ph/demo_video_new/episode_81.mp4\n",
      "\n"
     ]
    },
    {
     "name": "stderr",
     "output_type": "stream",
     "text": [
      " 41%|████      | 82/200 [00:19<00:24,  4.73it/s]"
     ]
    },
    {
     "name": "stdout",
     "output_type": "stream",
     "text": [
      "Moviepy - Done !\n",
      "Moviepy - video ready data/robomimic/datasets/lift/ph/demo_video_new/episode_81.mp4\n"
     ]
    },
    {
     "name": "stderr",
     "output_type": "stream",
     "text": [
      " 41%|████      | 82/200 [00:19<00:24,  4.73it/s]"
     ]
    },
    {
     "name": "stdout",
     "output_type": "stream",
     "text": [
      "Moviepy - Building video data/robomimic/datasets/lift/ph/demo_video_new/episode_82.mp4.\n",
      "Moviepy - Writing video data/robomimic/datasets/lift/ph/demo_video_new/episode_82.mp4\n",
      "\n"
     ]
    },
    {
     "name": "stderr",
     "output_type": "stream",
     "text": [
      " 42%|████▏     | 83/200 [00:19<00:25,  4.52it/s]"
     ]
    },
    {
     "name": "stdout",
     "output_type": "stream",
     "text": [
      "Moviepy - Done !\n",
      "Moviepy - video ready data/robomimic/datasets/lift/ph/demo_video_new/episode_82.mp4\n"
     ]
    },
    {
     "name": "stderr",
     "output_type": "stream",
     "text": [
      " 42%|████▏     | 83/200 [00:19<00:25,  4.52it/s]"
     ]
    },
    {
     "name": "stdout",
     "output_type": "stream",
     "text": [
      "Moviepy - Building video data/robomimic/datasets/lift/ph/demo_video_new/episode_83.mp4.\n",
      "Moviepy - Writing video data/robomimic/datasets/lift/ph/demo_video_new/episode_83.mp4\n",
      "\n"
     ]
    },
    {
     "name": "stderr",
     "output_type": "stream",
     "text": [
      " 42%|████▏     | 84/200 [00:19<00:26,  4.43it/s]"
     ]
    },
    {
     "name": "stdout",
     "output_type": "stream",
     "text": [
      "Moviepy - Done !\n",
      "Moviepy - video ready data/robomimic/datasets/lift/ph/demo_video_new/episode_83.mp4\n"
     ]
    },
    {
     "name": "stderr",
     "output_type": "stream",
     "text": [
      " 42%|████▏     | 84/200 [00:19<00:26,  4.43it/s]"
     ]
    },
    {
     "name": "stdout",
     "output_type": "stream",
     "text": [
      "Moviepy - Building video data/robomimic/datasets/lift/ph/demo_video_new/episode_84.mp4.\n",
      "Moviepy - Writing video data/robomimic/datasets/lift/ph/demo_video_new/episode_84.mp4\n",
      "\n"
     ]
    },
    {
     "name": "stderr",
     "output_type": "stream",
     "text": [
      " 42%|████▎     | 85/200 [00:19<00:26,  4.36it/s]"
     ]
    },
    {
     "name": "stdout",
     "output_type": "stream",
     "text": [
      "Moviepy - Done !\n",
      "Moviepy - video ready data/robomimic/datasets/lift/ph/demo_video_new/episode_84.mp4\n"
     ]
    },
    {
     "name": "stderr",
     "output_type": "stream",
     "text": [
      " 42%|████▎     | 85/200 [00:20<00:26,  4.36it/s]"
     ]
    },
    {
     "name": "stdout",
     "output_type": "stream",
     "text": [
      "Moviepy - Building video data/robomimic/datasets/lift/ph/demo_video_new/episode_85.mp4.\n",
      "Moviepy - Writing video data/robomimic/datasets/lift/ph/demo_video_new/episode_85.mp4\n",
      "\n"
     ]
    },
    {
     "name": "stderr",
     "output_type": "stream",
     "text": [
      " 43%|████▎     | 86/200 [00:20<00:25,  4.50it/s]"
     ]
    },
    {
     "name": "stdout",
     "output_type": "stream",
     "text": [
      "Moviepy - Done !\n",
      "Moviepy - video ready data/robomimic/datasets/lift/ph/demo_video_new/episode_85.mp4\n",
      "Moviepy - Building video data/robomimic/datasets/lift/ph/demo_video_new/episode_86.mp4.\n",
      "Moviepy - Writing video data/robomimic/datasets/lift/ph/demo_video_new/episode_86.mp4\n",
      "\n"
     ]
    },
    {
     "name": "stderr",
     "output_type": "stream",
     "text": [
      " 44%|████▎     | 87/200 [00:20<00:24,  4.66it/s]"
     ]
    },
    {
     "name": "stdout",
     "output_type": "stream",
     "text": [
      "Moviepy - Done !\n",
      "Moviepy - video ready data/robomimic/datasets/lift/ph/demo_video_new/episode_86.mp4\n"
     ]
    },
    {
     "name": "stderr",
     "output_type": "stream",
     "text": [
      " 44%|████▎     | 87/200 [00:20<00:24,  4.66it/s]"
     ]
    },
    {
     "name": "stdout",
     "output_type": "stream",
     "text": [
      "Moviepy - Building video data/robomimic/datasets/lift/ph/demo_video_new/episode_87.mp4.\n",
      "Moviepy - Writing video data/robomimic/datasets/lift/ph/demo_video_new/episode_87.mp4\n",
      "\n"
     ]
    },
    {
     "name": "stderr",
     "output_type": "stream",
     "text": [
      " 44%|████▍     | 88/200 [00:20<00:24,  4.53it/s]"
     ]
    },
    {
     "name": "stdout",
     "output_type": "stream",
     "text": [
      "Moviepy - Done !\n",
      "Moviepy - video ready data/robomimic/datasets/lift/ph/demo_video_new/episode_87.mp4\n",
      "Moviepy - Building video data/robomimic/datasets/lift/ph/demo_video_new/episode_88.mp4.\n",
      "Moviepy - Writing video data/robomimic/datasets/lift/ph/demo_video_new/episode_88.mp4\n",
      "\n"
     ]
    },
    {
     "name": "stderr",
     "output_type": "stream",
     "text": [
      " 44%|████▍     | 89/200 [00:20<00:23,  4.76it/s]"
     ]
    },
    {
     "name": "stdout",
     "output_type": "stream",
     "text": [
      "Moviepy - Done !\n",
      "Moviepy - video ready data/robomimic/datasets/lift/ph/demo_video_new/episode_88.mp4\n"
     ]
    },
    {
     "name": "stderr",
     "output_type": "stream",
     "text": [
      " 44%|████▍     | 89/200 [00:20<00:23,  4.76it/s]"
     ]
    },
    {
     "name": "stdout",
     "output_type": "stream",
     "text": [
      "Moviepy - Building video data/robomimic/datasets/lift/ph/demo_video_new/episode_89.mp4.\n",
      "Moviepy - Writing video data/robomimic/datasets/lift/ph/demo_video_new/episode_89.mp4\n",
      "\n"
     ]
    },
    {
     "name": "stderr",
     "output_type": "stream",
     "text": [
      " 45%|████▌     | 90/200 [00:20<00:22,  4.87it/s]"
     ]
    },
    {
     "name": "stdout",
     "output_type": "stream",
     "text": [
      "Moviepy - Done !\n",
      "Moviepy - video ready data/robomimic/datasets/lift/ph/demo_video_new/episode_89.mp4\n"
     ]
    },
    {
     "name": "stderr",
     "output_type": "stream",
     "text": [
      " 45%|████▌     | 90/200 [00:21<00:22,  4.87it/s]"
     ]
    },
    {
     "name": "stdout",
     "output_type": "stream",
     "text": [
      "Moviepy - Building video data/robomimic/datasets/lift/ph/demo_video_new/episode_90.mp4.\n",
      "Moviepy - Writing video data/robomimic/datasets/lift/ph/demo_video_new/episode_90.mp4\n",
      "\n"
     ]
    },
    {
     "name": "stderr",
     "output_type": "stream",
     "text": [
      " 46%|████▌     | 91/200 [00:21<00:22,  4.94it/s]"
     ]
    },
    {
     "name": "stdout",
     "output_type": "stream",
     "text": [
      "Moviepy - Done !\n",
      "Moviepy - video ready data/robomimic/datasets/lift/ph/demo_video_new/episode_90.mp4\n"
     ]
    },
    {
     "name": "stderr",
     "output_type": "stream",
     "text": [
      " 46%|████▌     | 91/200 [00:21<00:22,  4.94it/s]"
     ]
    },
    {
     "name": "stdout",
     "output_type": "stream",
     "text": [
      "Moviepy - Building video data/robomimic/datasets/lift/ph/demo_video_new/episode_91.mp4.\n",
      "Moviepy - Writing video data/robomimic/datasets/lift/ph/demo_video_new/episode_91.mp4\n",
      "\n"
     ]
    },
    {
     "name": "stderr",
     "output_type": "stream",
     "text": [
      " 46%|████▌     | 92/200 [00:21<00:20,  5.24it/s]"
     ]
    },
    {
     "name": "stdout",
     "output_type": "stream",
     "text": [
      "Moviepy - Done !\n",
      "Moviepy - video ready data/robomimic/datasets/lift/ph/demo_video_new/episode_91.mp4\n"
     ]
    },
    {
     "name": "stderr",
     "output_type": "stream",
     "text": [
      " 46%|████▌     | 92/200 [00:21<00:20,  5.24it/s]"
     ]
    },
    {
     "name": "stdout",
     "output_type": "stream",
     "text": [
      "Moviepy - Building video data/robomimic/datasets/lift/ph/demo_video_new/episode_92.mp4.\n",
      "Moviepy - Writing video data/robomimic/datasets/lift/ph/demo_video_new/episode_92.mp4\n",
      "\n"
     ]
    },
    {
     "name": "stderr",
     "output_type": "stream",
     "text": [
      " 46%|████▋     | 93/200 [00:21<00:20,  5.20it/s]"
     ]
    },
    {
     "name": "stdout",
     "output_type": "stream",
     "text": [
      "Moviepy - Done !\n",
      "Moviepy - video ready data/robomimic/datasets/lift/ph/demo_video_new/episode_92.mp4\n"
     ]
    },
    {
     "name": "stderr",
     "output_type": "stream",
     "text": [
      " 46%|████▋     | 93/200 [00:21<00:20,  5.20it/s]"
     ]
    },
    {
     "name": "stdout",
     "output_type": "stream",
     "text": [
      "Moviepy - Building video data/robomimic/datasets/lift/ph/demo_video_new/episode_93.mp4.\n",
      "Moviepy - Writing video data/robomimic/datasets/lift/ph/demo_video_new/episode_93.mp4\n",
      "\n"
     ]
    },
    {
     "name": "stderr",
     "output_type": "stream",
     "text": [
      " 46%|████▋     | 93/200 [00:21<00:20,  5.20it/s]"
     ]
    },
    {
     "name": "stdout",
     "output_type": "stream",
     "text": [
      "Moviepy - Done !\n"
     ]
    },
    {
     "name": "stderr",
     "output_type": "stream",
     "text": [
      " 47%|████▋     | 94/200 [00:21<00:20,  5.14it/s]"
     ]
    },
    {
     "name": "stdout",
     "output_type": "stream",
     "text": [
      "Moviepy - video ready data/robomimic/datasets/lift/ph/demo_video_new/episode_93.mp4\n"
     ]
    },
    {
     "name": "stderr",
     "output_type": "stream",
     "text": [
      " 47%|████▋     | 94/200 [00:21<00:20,  5.14it/s]"
     ]
    },
    {
     "name": "stdout",
     "output_type": "stream",
     "text": [
      "Moviepy - Building video data/robomimic/datasets/lift/ph/demo_video_new/episode_94.mp4.\n",
      "Moviepy - Writing video data/robomimic/datasets/lift/ph/demo_video_new/episode_94.mp4\n",
      "\n"
     ]
    },
    {
     "name": "stderr",
     "output_type": "stream",
     "text": [
      " 48%|████▊     | 95/200 [00:21<00:20,  5.04it/s]"
     ]
    },
    {
     "name": "stdout",
     "output_type": "stream",
     "text": [
      "Moviepy - Done !\n",
      "Moviepy - video ready data/robomimic/datasets/lift/ph/demo_video_new/episode_94.mp4\n"
     ]
    },
    {
     "name": "stderr",
     "output_type": "stream",
     "text": [
      " 48%|████▊     | 95/200 [00:21<00:20,  5.04it/s]"
     ]
    },
    {
     "name": "stdout",
     "output_type": "stream",
     "text": [
      "Moviepy - Building video data/robomimic/datasets/lift/ph/demo_video_new/episode_95.mp4.\n",
      "Moviepy - Writing video data/robomimic/datasets/lift/ph/demo_video_new/episode_95.mp4\n",
      "\n"
     ]
    },
    {
     "name": "stderr",
     "output_type": "stream",
     "text": [
      " 48%|████▊     | 96/200 [00:22<00:20,  5.16it/s]"
     ]
    },
    {
     "name": "stdout",
     "output_type": "stream",
     "text": [
      "Moviepy - Done !\n",
      "Moviepy - video ready data/robomimic/datasets/lift/ph/demo_video_new/episode_95.mp4\n"
     ]
    },
    {
     "name": "stderr",
     "output_type": "stream",
     "text": [
      " 48%|████▊     | 96/200 [00:22<00:20,  5.16it/s]"
     ]
    },
    {
     "name": "stdout",
     "output_type": "stream",
     "text": [
      "Moviepy - Building video data/robomimic/datasets/lift/ph/demo_video_new/episode_96.mp4.\n",
      "Moviepy - Writing video data/robomimic/datasets/lift/ph/demo_video_new/episode_96.mp4\n",
      "\n"
     ]
    },
    {
     "name": "stderr",
     "output_type": "stream",
     "text": [
      " 48%|████▊     | 97/200 [00:22<00:20,  5.04it/s]"
     ]
    },
    {
     "name": "stdout",
     "output_type": "stream",
     "text": [
      "Moviepy - Done !\n",
      "Moviepy - video ready data/robomimic/datasets/lift/ph/demo_video_new/episode_96.mp4\n"
     ]
    },
    {
     "name": "stderr",
     "output_type": "stream",
     "text": [
      " 48%|████▊     | 97/200 [00:22<00:20,  5.04it/s]"
     ]
    },
    {
     "name": "stdout",
     "output_type": "stream",
     "text": [
      "Moviepy - Building video data/robomimic/datasets/lift/ph/demo_video_new/episode_97.mp4.\n",
      "Moviepy - Writing video data/robomimic/datasets/lift/ph/demo_video_new/episode_97.mp4\n",
      "\n"
     ]
    },
    {
     "name": "stderr",
     "output_type": "stream",
     "text": [
      "                                                "
     ]
    },
    {
     "name": "stdout",
     "output_type": "stream",
     "text": [
      "Moviepy - Done !\n"
     ]
    },
    {
     "name": "stderr",
     "output_type": "stream",
     "text": [
      " 49%|████▉     | 98/200 [00:22<00:20,  5.03it/s]"
     ]
    },
    {
     "name": "stdout",
     "output_type": "stream",
     "text": [
      "Moviepy - video ready data/robomimic/datasets/lift/ph/demo_video_new/episode_97.mp4\n",
      "Moviepy - Building video data/robomimic/datasets/lift/ph/demo_video_new/episode_98.mp4.\n",
      "Moviepy - Writing video data/robomimic/datasets/lift/ph/demo_video_new/episode_98.mp4\n",
      "\n"
     ]
    },
    {
     "name": "stderr",
     "output_type": "stream",
     "text": [
      " 50%|████▉     | 99/200 [00:22<00:19,  5.06it/s]"
     ]
    },
    {
     "name": "stdout",
     "output_type": "stream",
     "text": [
      "Moviepy - Done !\n",
      "Moviepy - video ready data/robomimic/datasets/lift/ph/demo_video_new/episode_98.mp4\n"
     ]
    },
    {
     "name": "stderr",
     "output_type": "stream",
     "text": [
      " 50%|████▉     | 99/200 [00:22<00:19,  5.06it/s]"
     ]
    },
    {
     "name": "stdout",
     "output_type": "stream",
     "text": [
      "Moviepy - Building video data/robomimic/datasets/lift/ph/demo_video_new/episode_99.mp4.\n",
      "Moviepy - Writing video data/robomimic/datasets/lift/ph/demo_video_new/episode_99.mp4\n",
      "\n"
     ]
    },
    {
     "name": "stderr",
     "output_type": "stream",
     "text": [
      " 50%|█████     | 100/200 [00:22<00:19,  5.06it/s]"
     ]
    },
    {
     "name": "stdout",
     "output_type": "stream",
     "text": [
      "Moviepy - Done !\n",
      "Moviepy - video ready data/robomimic/datasets/lift/ph/demo_video_new/episode_99.mp4\n"
     ]
    },
    {
     "name": "stderr",
     "output_type": "stream",
     "text": [
      " 50%|█████     | 100/200 [00:22<00:19,  5.06it/s]"
     ]
    },
    {
     "name": "stdout",
     "output_type": "stream",
     "text": [
      "Moviepy - Building video data/robomimic/datasets/lift/ph/demo_video_new/episode_100.mp4.\n",
      "Moviepy - Writing video data/robomimic/datasets/lift/ph/demo_video_new/episode_100.mp4\n",
      "\n"
     ]
    },
    {
     "name": "stderr",
     "output_type": "stream",
     "text": [
      " 50%|█████     | 101/200 [00:23<00:19,  5.12it/s]"
     ]
    },
    {
     "name": "stdout",
     "output_type": "stream",
     "text": [
      "Moviepy - Done !\n",
      "Moviepy - video ready data/robomimic/datasets/lift/ph/demo_video_new/episode_100.mp4\n"
     ]
    },
    {
     "name": "stderr",
     "output_type": "stream",
     "text": [
      " 50%|█████     | 101/200 [00:23<00:19,  5.12it/s]"
     ]
    },
    {
     "name": "stdout",
     "output_type": "stream",
     "text": [
      "Moviepy - Building video data/robomimic/datasets/lift/ph/demo_video_new/episode_101.mp4.\n",
      "Moviepy - Writing video data/robomimic/datasets/lift/ph/demo_video_new/episode_101.mp4\n",
      "\n"
     ]
    },
    {
     "name": "stderr",
     "output_type": "stream",
     "text": [
      " 51%|█████     | 102/200 [00:23<00:18,  5.17it/s]"
     ]
    },
    {
     "name": "stdout",
     "output_type": "stream",
     "text": [
      "Moviepy - Done !\n",
      "Moviepy - video ready data/robomimic/datasets/lift/ph/demo_video_new/episode_101.mp4\n"
     ]
    },
    {
     "name": "stderr",
     "output_type": "stream",
     "text": [
      " 51%|█████     | 102/200 [00:23<00:18,  5.17it/s]"
     ]
    },
    {
     "name": "stdout",
     "output_type": "stream",
     "text": [
      "Moviepy - Building video data/robomimic/datasets/lift/ph/demo_video_new/episode_102.mp4.\n",
      "Moviepy - Writing video data/robomimic/datasets/lift/ph/demo_video_new/episode_102.mp4\n",
      "\n"
     ]
    },
    {
     "name": "stderr",
     "output_type": "stream",
     "text": [
      " 52%|█████▏    | 103/200 [00:23<00:19,  5.01it/s]"
     ]
    },
    {
     "name": "stdout",
     "output_type": "stream",
     "text": [
      "Moviepy - Done !\n",
      "Moviepy - video ready data/robomimic/datasets/lift/ph/demo_video_new/episode_102.mp4\n"
     ]
    },
    {
     "name": "stderr",
     "output_type": "stream",
     "text": [
      " 52%|█████▏    | 103/200 [00:23<00:19,  5.01it/s]"
     ]
    },
    {
     "name": "stdout",
     "output_type": "stream",
     "text": [
      "Moviepy - Building video data/robomimic/datasets/lift/ph/demo_video_new/episode_103.mp4.\n",
      "Moviepy - Writing video data/robomimic/datasets/lift/ph/demo_video_new/episode_103.mp4\n",
      "\n"
     ]
    },
    {
     "name": "stderr",
     "output_type": "stream",
     "text": [
      " 52%|█████▏    | 104/200 [00:23<00:19,  4.99it/s]"
     ]
    },
    {
     "name": "stdout",
     "output_type": "stream",
     "text": [
      "Moviepy - Done !\n",
      "Moviepy - video ready data/robomimic/datasets/lift/ph/demo_video_new/episode_103.mp4\n"
     ]
    },
    {
     "name": "stderr",
     "output_type": "stream",
     "text": [
      " 52%|█████▏    | 104/200 [00:23<00:19,  4.99it/s]"
     ]
    },
    {
     "name": "stdout",
     "output_type": "stream",
     "text": [
      "Moviepy - Building video data/robomimic/datasets/lift/ph/demo_video_new/episode_104.mp4.\n",
      "Moviepy - Writing video data/robomimic/datasets/lift/ph/demo_video_new/episode_104.mp4\n",
      "\n"
     ]
    },
    {
     "name": "stderr",
     "output_type": "stream",
     "text": [
      " 52%|█████▎    | 105/200 [00:23<00:19,  4.99it/s]"
     ]
    },
    {
     "name": "stdout",
     "output_type": "stream",
     "text": [
      "Moviepy - Done !\n",
      "Moviepy - video ready data/robomimic/datasets/lift/ph/demo_video_new/episode_104.mp4\n"
     ]
    },
    {
     "name": "stderr",
     "output_type": "stream",
     "text": [
      " 52%|█████▎    | 105/200 [00:23<00:19,  4.99it/s]"
     ]
    },
    {
     "name": "stdout",
     "output_type": "stream",
     "text": [
      "Moviepy - Building video data/robomimic/datasets/lift/ph/demo_video_new/episode_105.mp4.\n",
      "Moviepy - Writing video data/robomimic/datasets/lift/ph/demo_video_new/episode_105.mp4\n",
      "\n"
     ]
    },
    {
     "name": "stderr",
     "output_type": "stream",
     "text": [
      " 53%|█████▎    | 106/200 [00:24<00:18,  5.01it/s]"
     ]
    },
    {
     "name": "stdout",
     "output_type": "stream",
     "text": [
      "Moviepy - Done !\n",
      "Moviepy - video ready data/robomimic/datasets/lift/ph/demo_video_new/episode_105.mp4\n"
     ]
    },
    {
     "name": "stderr",
     "output_type": "stream",
     "text": [
      " 53%|█████▎    | 106/200 [00:24<00:18,  5.01it/s]"
     ]
    },
    {
     "name": "stdout",
     "output_type": "stream",
     "text": [
      "Moviepy - Building video data/robomimic/datasets/lift/ph/demo_video_new/episode_106.mp4.\n",
      "Moviepy - Writing video data/robomimic/datasets/lift/ph/demo_video_new/episode_106.mp4\n",
      "\n"
     ]
    },
    {
     "name": "stderr",
     "output_type": "stream",
     "text": [
      " 54%|█████▎    | 107/200 [00:24<00:18,  5.13it/s]"
     ]
    },
    {
     "name": "stdout",
     "output_type": "stream",
     "text": [
      "Moviepy - Done !\n",
      "Moviepy - video ready data/robomimic/datasets/lift/ph/demo_video_new/episode_106.mp4\n"
     ]
    },
    {
     "name": "stderr",
     "output_type": "stream",
     "text": [
      " 54%|█████▎    | 107/200 [00:24<00:18,  5.13it/s]"
     ]
    },
    {
     "name": "stdout",
     "output_type": "stream",
     "text": [
      "Moviepy - Building video data/robomimic/datasets/lift/ph/demo_video_new/episode_107.mp4.\n",
      "Moviepy - Writing video data/robomimic/datasets/lift/ph/demo_video_new/episode_107.mp4\n",
      "\n"
     ]
    },
    {
     "name": "stderr",
     "output_type": "stream",
     "text": [
      " 54%|█████▍    | 108/200 [00:24<00:18,  4.91it/s]"
     ]
    },
    {
     "name": "stdout",
     "output_type": "stream",
     "text": [
      "Moviepy - Done !\n",
      "Moviepy - video ready data/robomimic/datasets/lift/ph/demo_video_new/episode_107.mp4\n"
     ]
    },
    {
     "name": "stderr",
     "output_type": "stream",
     "text": [
      " 54%|█████▍    | 108/200 [00:24<00:18,  4.91it/s]"
     ]
    },
    {
     "name": "stdout",
     "output_type": "stream",
     "text": [
      "Moviepy - Building video data/robomimic/datasets/lift/ph/demo_video_new/episode_108.mp4.\n",
      "Moviepy - Writing video data/robomimic/datasets/lift/ph/demo_video_new/episode_108.mp4\n",
      "\n"
     ]
    },
    {
     "name": "stderr",
     "output_type": "stream",
     "text": [
      " 55%|█████▍    | 109/200 [00:24<00:18,  5.02it/s]"
     ]
    },
    {
     "name": "stdout",
     "output_type": "stream",
     "text": [
      "Moviepy - Done !\n",
      "Moviepy - video ready data/robomimic/datasets/lift/ph/demo_video_new/episode_108.mp4\n"
     ]
    },
    {
     "name": "stderr",
     "output_type": "stream",
     "text": [
      " 55%|█████▍    | 109/200 [00:24<00:18,  5.02it/s]"
     ]
    },
    {
     "name": "stdout",
     "output_type": "stream",
     "text": [
      "Moviepy - Building video data/robomimic/datasets/lift/ph/demo_video_new/episode_109.mp4.\n",
      "Moviepy - Writing video data/robomimic/datasets/lift/ph/demo_video_new/episode_109.mp4\n",
      "\n"
     ]
    },
    {
     "name": "stderr",
     "output_type": "stream",
     "text": [
      " 55%|█████▌    | 110/200 [00:24<00:17,  5.06it/s]"
     ]
    },
    {
     "name": "stdout",
     "output_type": "stream",
     "text": [
      "Moviepy - Done !\n",
      "Moviepy - video ready data/robomimic/datasets/lift/ph/demo_video_new/episode_109.mp4\n"
     ]
    },
    {
     "name": "stderr",
     "output_type": "stream",
     "text": [
      " 55%|█████▌    | 110/200 [00:24<00:17,  5.06it/s]"
     ]
    },
    {
     "name": "stdout",
     "output_type": "stream",
     "text": [
      "Moviepy - Building video data/robomimic/datasets/lift/ph/demo_video_new/episode_110.mp4.\n",
      "Moviepy - Writing video data/robomimic/datasets/lift/ph/demo_video_new/episode_110.mp4\n",
      "\n"
     ]
    },
    {
     "name": "stderr",
     "output_type": "stream",
     "text": [
      " 56%|█████▌    | 111/200 [00:25<00:17,  5.10it/s]"
     ]
    },
    {
     "name": "stdout",
     "output_type": "stream",
     "text": [
      "Moviepy - Done !\n",
      "Moviepy - video ready data/robomimic/datasets/lift/ph/demo_video_new/episode_110.mp4\n"
     ]
    },
    {
     "name": "stderr",
     "output_type": "stream",
     "text": [
      " 56%|█████▌    | 111/200 [00:25<00:17,  5.10it/s]"
     ]
    },
    {
     "name": "stdout",
     "output_type": "stream",
     "text": [
      "Moviepy - Building video data/robomimic/datasets/lift/ph/demo_video_new/episode_111.mp4.\n",
      "Moviepy - Writing video data/robomimic/datasets/lift/ph/demo_video_new/episode_111.mp4\n",
      "\n"
     ]
    },
    {
     "name": "stderr",
     "output_type": "stream",
     "text": [
      " 56%|█████▌    | 112/200 [00:25<00:16,  5.20it/s]"
     ]
    },
    {
     "name": "stdout",
     "output_type": "stream",
     "text": [
      "Moviepy - Done !\n",
      "Moviepy - video ready data/robomimic/datasets/lift/ph/demo_video_new/episode_111.mp4\n"
     ]
    },
    {
     "name": "stderr",
     "output_type": "stream",
     "text": [
      " 56%|█████▌    | 112/200 [00:25<00:16,  5.20it/s]"
     ]
    },
    {
     "name": "stdout",
     "output_type": "stream",
     "text": [
      "Moviepy - Building video data/robomimic/datasets/lift/ph/demo_video_new/episode_112.mp4.\n",
      "Moviepy - Writing video data/robomimic/datasets/lift/ph/demo_video_new/episode_112.mp4\n",
      "\n"
     ]
    },
    {
     "name": "stderr",
     "output_type": "stream",
     "text": [
      " 56%|█████▋    | 113/200 [00:25<00:16,  5.21it/s]"
     ]
    },
    {
     "name": "stdout",
     "output_type": "stream",
     "text": [
      "Moviepy - Done !\n",
      "Moviepy - video ready data/robomimic/datasets/lift/ph/demo_video_new/episode_112.mp4\n"
     ]
    },
    {
     "name": "stderr",
     "output_type": "stream",
     "text": [
      " 56%|█████▋    | 113/200 [00:25<00:16,  5.21it/s]"
     ]
    },
    {
     "name": "stdout",
     "output_type": "stream",
     "text": [
      "Moviepy - Building video data/robomimic/datasets/lift/ph/demo_video_new/episode_113.mp4.\n",
      "Moviepy - Writing video data/robomimic/datasets/lift/ph/demo_video_new/episode_113.mp4\n",
      "\n"
     ]
    },
    {
     "name": "stderr",
     "output_type": "stream",
     "text": [
      " 57%|█████▋    | 114/200 [00:25<00:16,  5.27it/s]"
     ]
    },
    {
     "name": "stdout",
     "output_type": "stream",
     "text": [
      "Moviepy - Done !\n",
      "Moviepy - video ready data/robomimic/datasets/lift/ph/demo_video_new/episode_113.mp4\n"
     ]
    },
    {
     "name": "stderr",
     "output_type": "stream",
     "text": [
      " 57%|█████▋    | 114/200 [00:25<00:16,  5.27it/s]"
     ]
    },
    {
     "name": "stdout",
     "output_type": "stream",
     "text": [
      "Moviepy - Building video data/robomimic/datasets/lift/ph/demo_video_new/episode_114.mp4.\n",
      "Moviepy - Writing video data/robomimic/datasets/lift/ph/demo_video_new/episode_114.mp4\n",
      "\n"
     ]
    },
    {
     "name": "stderr",
     "output_type": "stream",
     "text": [
      " 57%|█████▊    | 115/200 [00:25<00:16,  5.29it/s]"
     ]
    },
    {
     "name": "stdout",
     "output_type": "stream",
     "text": [
      "Moviepy - Done !\n",
      "Moviepy - video ready data/robomimic/datasets/lift/ph/demo_video_new/episode_114.mp4\n"
     ]
    },
    {
     "name": "stderr",
     "output_type": "stream",
     "text": [
      " 57%|█████▊    | 115/200 [00:25<00:16,  5.29it/s]"
     ]
    },
    {
     "name": "stdout",
     "output_type": "stream",
     "text": [
      "Moviepy - Building video data/robomimic/datasets/lift/ph/demo_video_new/episode_115.mp4.\n",
      "Moviepy - Writing video data/robomimic/datasets/lift/ph/demo_video_new/episode_115.mp4\n",
      "\n"
     ]
    },
    {
     "name": "stderr",
     "output_type": "stream",
     "text": [
      " 58%|█████▊    | 116/200 [00:26<00:15,  5.26it/s]"
     ]
    },
    {
     "name": "stdout",
     "output_type": "stream",
     "text": [
      "Moviepy - Done !\n",
      "Moviepy - video ready data/robomimic/datasets/lift/ph/demo_video_new/episode_115.mp4\n"
     ]
    },
    {
     "name": "stderr",
     "output_type": "stream",
     "text": [
      " 58%|█████▊    | 116/200 [00:26<00:15,  5.26it/s]"
     ]
    },
    {
     "name": "stdout",
     "output_type": "stream",
     "text": [
      "Moviepy - Building video data/robomimic/datasets/lift/ph/demo_video_new/episode_116.mp4.\n",
      "Moviepy - Writing video data/robomimic/datasets/lift/ph/demo_video_new/episode_116.mp4\n",
      "\n"
     ]
    },
    {
     "name": "stderr",
     "output_type": "stream",
     "text": [
      " 58%|█████▊    | 117/200 [00:26<00:16,  4.99it/s]"
     ]
    },
    {
     "name": "stdout",
     "output_type": "stream",
     "text": [
      "Moviepy - Done !\n",
      "Moviepy - video ready data/robomimic/datasets/lift/ph/demo_video_new/episode_116.mp4\n"
     ]
    },
    {
     "name": "stderr",
     "output_type": "stream",
     "text": [
      " 58%|█████▊    | 117/200 [00:26<00:16,  4.99it/s]"
     ]
    },
    {
     "name": "stdout",
     "output_type": "stream",
     "text": [
      "Moviepy - Building video data/robomimic/datasets/lift/ph/demo_video_new/episode_117.mp4.\n",
      "Moviepy - Writing video data/robomimic/datasets/lift/ph/demo_video_new/episode_117.mp4\n",
      "\n"
     ]
    },
    {
     "name": "stderr",
     "output_type": "stream",
     "text": [
      "                                                 \r"
     ]
    },
    {
     "name": "stdout",
     "output_type": "stream",
     "text": [
      "Moviepy - Done !\n"
     ]
    },
    {
     "name": "stderr",
     "output_type": "stream",
     "text": [
      " 59%|█████▉    | 118/200 [00:26<00:16,  4.99it/s]"
     ]
    },
    {
     "name": "stdout",
     "output_type": "stream",
     "text": [
      "Moviepy - video ready data/robomimic/datasets/lift/ph/demo_video_new/episode_117.mp4\n"
     ]
    },
    {
     "name": "stderr",
     "output_type": "stream",
     "text": [
      " 59%|█████▉    | 118/200 [00:26<00:16,  4.99it/s]"
     ]
    },
    {
     "name": "stdout",
     "output_type": "stream",
     "text": [
      "Moviepy - Building video data/robomimic/datasets/lift/ph/demo_video_new/episode_118.mp4.\n",
      "Moviepy - Writing video data/robomimic/datasets/lift/ph/demo_video_new/episode_118.mp4\n",
      "\n"
     ]
    },
    {
     "name": "stderr",
     "output_type": "stream",
     "text": [
      " 60%|█████▉    | 119/200 [00:26<00:16,  5.04it/s]"
     ]
    },
    {
     "name": "stdout",
     "output_type": "stream",
     "text": [
      "Moviepy - Done !\n",
      "Moviepy - video ready data/robomimic/datasets/lift/ph/demo_video_new/episode_118.mp4\n"
     ]
    },
    {
     "name": "stderr",
     "output_type": "stream",
     "text": [
      " 60%|█████▉    | 119/200 [00:26<00:16,  5.04it/s]"
     ]
    },
    {
     "name": "stdout",
     "output_type": "stream",
     "text": [
      "Moviepy - Building video data/robomimic/datasets/lift/ph/demo_video_new/episode_119.mp4.\n",
      "Moviepy - Writing video data/robomimic/datasets/lift/ph/demo_video_new/episode_119.mp4\n",
      "\n"
     ]
    },
    {
     "name": "stderr",
     "output_type": "stream",
     "text": [
      " 60%|█████▉    | 119/200 [00:26<00:16,  5.04it/s]"
     ]
    },
    {
     "name": "stdout",
     "output_type": "stream",
     "text": [
      "Moviepy - Done !\n"
     ]
    },
    {
     "name": "stderr",
     "output_type": "stream",
     "text": [
      " 60%|██████    | 120/200 [00:26<00:15,  5.03it/s]"
     ]
    },
    {
     "name": "stdout",
     "output_type": "stream",
     "text": [
      "Moviepy - video ready data/robomimic/datasets/lift/ph/demo_video_new/episode_119.mp4\n"
     ]
    },
    {
     "name": "stderr",
     "output_type": "stream",
     "text": [
      " 60%|██████    | 120/200 [00:26<00:15,  5.03it/s]"
     ]
    },
    {
     "name": "stdout",
     "output_type": "stream",
     "text": [
      "Moviepy - Building video data/robomimic/datasets/lift/ph/demo_video_new/episode_120.mp4.\n",
      "Moviepy - Writing video data/robomimic/datasets/lift/ph/demo_video_new/episode_120.mp4\n",
      "\n"
     ]
    },
    {
     "name": "stderr",
     "output_type": "stream",
     "text": [
      " 60%|██████    | 121/200 [00:27<00:15,  4.94it/s]"
     ]
    },
    {
     "name": "stdout",
     "output_type": "stream",
     "text": [
      "Moviepy - Done !\n",
      "Moviepy - video ready data/robomimic/datasets/lift/ph/demo_video_new/episode_120.mp4\n",
      "Moviepy - Building video data/robomimic/datasets/lift/ph/demo_video_new/episode_121.mp4.\n",
      "Moviepy - Writing video data/robomimic/datasets/lift/ph/demo_video_new/episode_121.mp4\n",
      "\n"
     ]
    },
    {
     "name": "stderr",
     "output_type": "stream",
     "text": [
      " 61%|██████    | 122/200 [00:27<00:15,  4.95it/s]"
     ]
    },
    {
     "name": "stdout",
     "output_type": "stream",
     "text": [
      "Moviepy - Done !\n",
      "Moviepy - video ready data/robomimic/datasets/lift/ph/demo_video_new/episode_121.mp4\n",
      "Moviepy - Building video data/robomimic/datasets/lift/ph/demo_video_new/episode_122.mp4.\n",
      "Moviepy - Writing video data/robomimic/datasets/lift/ph/demo_video_new/episode_122.mp4\n",
      "\n"
     ]
    },
    {
     "name": "stderr",
     "output_type": "stream",
     "text": [
      " 62%|██████▏   | 123/200 [00:27<00:15,  4.83it/s]"
     ]
    },
    {
     "name": "stdout",
     "output_type": "stream",
     "text": [
      "Moviepy - Done !\n",
      "Moviepy - video ready data/robomimic/datasets/lift/ph/demo_video_new/episode_122.mp4\n",
      "Moviepy - Building video data/robomimic/datasets/lift/ph/demo_video_new/episode_123.mp4.\n",
      "Moviepy - Writing video data/robomimic/datasets/lift/ph/demo_video_new/episode_123.mp4\n",
      "\n"
     ]
    },
    {
     "name": "stderr",
     "output_type": "stream",
     "text": [
      " 62%|██████▏   | 124/200 [00:27<00:15,  4.91it/s]"
     ]
    },
    {
     "name": "stdout",
     "output_type": "stream",
     "text": [
      "Moviepy - Done !\n",
      "Moviepy - video ready data/robomimic/datasets/lift/ph/demo_video_new/episode_123.mp4\n"
     ]
    },
    {
     "name": "stderr",
     "output_type": "stream",
     "text": [
      " 62%|██████▏   | 124/200 [00:27<00:15,  4.91it/s]"
     ]
    },
    {
     "name": "stdout",
     "output_type": "stream",
     "text": [
      "Moviepy - Building video data/robomimic/datasets/lift/ph/demo_video_new/episode_124.mp4.\n",
      "Moviepy - Writing video data/robomimic/datasets/lift/ph/demo_video_new/episode_124.mp4\n",
      "\n"
     ]
    },
    {
     "name": "stderr",
     "output_type": "stream",
     "text": [
      " 62%|██████▎   | 125/200 [00:27<00:14,  5.12it/s]"
     ]
    },
    {
     "name": "stdout",
     "output_type": "stream",
     "text": [
      "Moviepy - Done !\n",
      "Moviepy - video ready data/robomimic/datasets/lift/ph/demo_video_new/episode_124.mp4\n"
     ]
    },
    {
     "name": "stderr",
     "output_type": "stream",
     "text": [
      " 62%|██████▎   | 125/200 [00:27<00:14,  5.12it/s]"
     ]
    },
    {
     "name": "stdout",
     "output_type": "stream",
     "text": [
      "Moviepy - Building video data/robomimic/datasets/lift/ph/demo_video_new/episode_125.mp4.\n",
      "Moviepy - Writing video data/robomimic/datasets/lift/ph/demo_video_new/episode_125.mp4\n",
      "\n"
     ]
    },
    {
     "name": "stderr",
     "output_type": "stream",
     "text": [
      " 63%|██████▎   | 126/200 [00:28<00:14,  5.04it/s]"
     ]
    },
    {
     "name": "stdout",
     "output_type": "stream",
     "text": [
      "Moviepy - Done !\n",
      "Moviepy - video ready data/robomimic/datasets/lift/ph/demo_video_new/episode_125.mp4\n"
     ]
    },
    {
     "name": "stderr",
     "output_type": "stream",
     "text": [
      " 63%|██████▎   | 126/200 [00:28<00:14,  5.04it/s]"
     ]
    },
    {
     "name": "stdout",
     "output_type": "stream",
     "text": [
      "Moviepy - Building video data/robomimic/datasets/lift/ph/demo_video_new/episode_126.mp4.\n",
      "Moviepy - Writing video data/robomimic/datasets/lift/ph/demo_video_new/episode_126.mp4\n",
      "\n"
     ]
    },
    {
     "name": "stderr",
     "output_type": "stream",
     "text": [
      " 64%|██████▎   | 127/200 [00:28<00:14,  4.96it/s]"
     ]
    },
    {
     "name": "stdout",
     "output_type": "stream",
     "text": [
      "Moviepy - Done !\n",
      "Moviepy - video ready data/robomimic/datasets/lift/ph/demo_video_new/episode_126.mp4\n"
     ]
    },
    {
     "name": "stderr",
     "output_type": "stream",
     "text": [
      " 64%|██████▎   | 127/200 [00:28<00:14,  4.96it/s]"
     ]
    },
    {
     "name": "stdout",
     "output_type": "stream",
     "text": [
      "Moviepy - Building video data/robomimic/datasets/lift/ph/demo_video_new/episode_127.mp4.\n",
      "Moviepy - Writing video data/robomimic/datasets/lift/ph/demo_video_new/episode_127.mp4\n",
      "\n"
     ]
    },
    {
     "name": "stderr",
     "output_type": "stream",
     "text": [
      " 64%|██████▍   | 128/200 [00:28<00:14,  4.91it/s]"
     ]
    },
    {
     "name": "stdout",
     "output_type": "stream",
     "text": [
      "Moviepy - Done !\n",
      "Moviepy - video ready data/robomimic/datasets/lift/ph/demo_video_new/episode_127.mp4\n"
     ]
    },
    {
     "name": "stderr",
     "output_type": "stream",
     "text": [
      " 64%|██████▍   | 128/200 [00:28<00:14,  4.91it/s]"
     ]
    },
    {
     "name": "stdout",
     "output_type": "stream",
     "text": [
      "Moviepy - Building video data/robomimic/datasets/lift/ph/demo_video_new/episode_128.mp4.\n",
      "Moviepy - Writing video data/robomimic/datasets/lift/ph/demo_video_new/episode_128.mp4\n",
      "\n"
     ]
    },
    {
     "name": "stderr",
     "output_type": "stream",
     "text": [
      " 64%|██████▍   | 129/200 [00:28<00:14,  4.80it/s]"
     ]
    },
    {
     "name": "stdout",
     "output_type": "stream",
     "text": [
      "Moviepy - Done !\n",
      "Moviepy - video ready data/robomimic/datasets/lift/ph/demo_video_new/episode_128.mp4\n"
     ]
    },
    {
     "name": "stderr",
     "output_type": "stream",
     "text": [
      " 64%|██████▍   | 129/200 [00:28<00:14,  4.80it/s]"
     ]
    },
    {
     "name": "stdout",
     "output_type": "stream",
     "text": [
      "Moviepy - Building video data/robomimic/datasets/lift/ph/demo_video_new/episode_129.mp4.\n",
      "Moviepy - Writing video data/robomimic/datasets/lift/ph/demo_video_new/episode_129.mp4\n",
      "\n"
     ]
    },
    {
     "name": "stderr",
     "output_type": "stream",
     "text": [
      "                                                 \r"
     ]
    },
    {
     "name": "stdout",
     "output_type": "stream",
     "text": [
      "Moviepy - Done !\n",
      "Moviepy - video ready data/robomimic/datasets/lift/ph/demo_video_new/episode_129.mp4\n"
     ]
    },
    {
     "name": "stderr",
     "output_type": "stream",
     "text": [
      " 65%|██████▌   | 130/200 [00:28<00:14,  4.83it/s]"
     ]
    },
    {
     "name": "stdout",
     "output_type": "stream",
     "text": [
      "Moviepy - Building video data/robomimic/datasets/lift/ph/demo_video_new/episode_130.mp4.\n",
      "Moviepy - Writing video data/robomimic/datasets/lift/ph/demo_video_new/episode_130.mp4\n",
      "\n"
     ]
    },
    {
     "name": "stderr",
     "output_type": "stream",
     "text": [
      " 66%|██████▌   | 131/200 [00:29<00:13,  4.96it/s]"
     ]
    },
    {
     "name": "stdout",
     "output_type": "stream",
     "text": [
      "Moviepy - Done !\n",
      "Moviepy - video ready data/robomimic/datasets/lift/ph/demo_video_new/episode_130.mp4\n"
     ]
    },
    {
     "name": "stderr",
     "output_type": "stream",
     "text": [
      " 66%|██████▌   | 131/200 [00:29<00:13,  4.96it/s]"
     ]
    },
    {
     "name": "stdout",
     "output_type": "stream",
     "text": [
      "Moviepy - Building video data/robomimic/datasets/lift/ph/demo_video_new/episode_131.mp4.\n",
      "Moviepy - Writing video data/robomimic/datasets/lift/ph/demo_video_new/episode_131.mp4\n",
      "\n"
     ]
    },
    {
     "name": "stderr",
     "output_type": "stream",
     "text": [
      "                                                 \r"
     ]
    },
    {
     "name": "stdout",
     "output_type": "stream",
     "text": [
      "Moviepy - Done !\n",
      "Moviepy - video ready data/robomimic/datasets/lift/ph/demo_video_new/episode_131.mp4\n",
      "Moviepy - Building video data/robomimic/datasets/lift/ph/demo_video_new/episode_132.mp4.\n"
     ]
    },
    {
     "name": "stderr",
     "output_type": "stream",
     "text": [
      " 66%|██████▌   | 132/200 [00:29<00:13,  4.96it/s]"
     ]
    },
    {
     "name": "stdout",
     "output_type": "stream",
     "text": [
      "Moviepy - Writing video data/robomimic/datasets/lift/ph/demo_video_new/episode_132.mp4\n",
      "\n"
     ]
    },
    {
     "name": "stderr",
     "output_type": "stream",
     "text": [
      " 66%|██████▋   | 133/200 [00:29<00:13,  5.06it/s]"
     ]
    },
    {
     "name": "stdout",
     "output_type": "stream",
     "text": [
      "Moviepy - Done !\n",
      "Moviepy - video ready data/robomimic/datasets/lift/ph/demo_video_new/episode_132.mp4\n"
     ]
    },
    {
     "name": "stderr",
     "output_type": "stream",
     "text": [
      " 66%|██████▋   | 133/200 [00:29<00:13,  5.06it/s]"
     ]
    },
    {
     "name": "stdout",
     "output_type": "stream",
     "text": [
      "Moviepy - Building video data/robomimic/datasets/lift/ph/demo_video_new/episode_133.mp4.\n",
      "Moviepy - Writing video data/robomimic/datasets/lift/ph/demo_video_new/episode_133.mp4\n",
      "\n"
     ]
    },
    {
     "name": "stderr",
     "output_type": "stream",
     "text": [
      " 67%|██████▋   | 134/200 [00:29<00:12,  5.16it/s]"
     ]
    },
    {
     "name": "stdout",
     "output_type": "stream",
     "text": [
      "Moviepy - Done !\n",
      "Moviepy - video ready data/robomimic/datasets/lift/ph/demo_video_new/episode_133.mp4\n"
     ]
    },
    {
     "name": "stderr",
     "output_type": "stream",
     "text": [
      " 67%|██████▋   | 134/200 [00:29<00:12,  5.16it/s]"
     ]
    },
    {
     "name": "stdout",
     "output_type": "stream",
     "text": [
      "Moviepy - Building video data/robomimic/datasets/lift/ph/demo_video_new/episode_134.mp4.\n",
      "Moviepy - Writing video data/robomimic/datasets/lift/ph/demo_video_new/episode_134.mp4\n",
      "\n"
     ]
    },
    {
     "name": "stderr",
     "output_type": "stream",
     "text": [
      " 68%|██████▊   | 135/200 [00:29<00:12,  5.27it/s]"
     ]
    },
    {
     "name": "stdout",
     "output_type": "stream",
     "text": [
      "Moviepy - Done !\n",
      "Moviepy - video ready data/robomimic/datasets/lift/ph/demo_video_new/episode_134.mp4\n"
     ]
    },
    {
     "name": "stderr",
     "output_type": "stream",
     "text": [
      " 68%|██████▊   | 135/200 [00:29<00:12,  5.27it/s]"
     ]
    },
    {
     "name": "stdout",
     "output_type": "stream",
     "text": [
      "Moviepy - Building video data/robomimic/datasets/lift/ph/demo_video_new/episode_135.mp4.\n",
      "Moviepy - Writing video data/robomimic/datasets/lift/ph/demo_video_new/episode_135.mp4\n",
      "\n"
     ]
    },
    {
     "name": "stderr",
     "output_type": "stream",
     "text": [
      " 68%|██████▊   | 136/200 [00:30<00:12,  5.21it/s]"
     ]
    },
    {
     "name": "stdout",
     "output_type": "stream",
     "text": [
      "Moviepy - Done !\n",
      "Moviepy - video ready data/robomimic/datasets/lift/ph/demo_video_new/episode_135.mp4\n"
     ]
    },
    {
     "name": "stderr",
     "output_type": "stream",
     "text": [
      " 68%|██████▊   | 136/200 [00:30<00:12,  5.21it/s]"
     ]
    },
    {
     "name": "stdout",
     "output_type": "stream",
     "text": [
      "Moviepy - Building video data/robomimic/datasets/lift/ph/demo_video_new/episode_136.mp4.\n",
      "Moviepy - Writing video data/robomimic/datasets/lift/ph/demo_video_new/episode_136.mp4\n",
      "\n"
     ]
    },
    {
     "name": "stderr",
     "output_type": "stream",
     "text": [
      " 68%|██████▊   | 137/200 [00:30<00:12,  5.18it/s]"
     ]
    },
    {
     "name": "stdout",
     "output_type": "stream",
     "text": [
      "Moviepy - Done !\n",
      "Moviepy - video ready data/robomimic/datasets/lift/ph/demo_video_new/episode_136.mp4\n"
     ]
    },
    {
     "name": "stderr",
     "output_type": "stream",
     "text": [
      " 68%|██████▊   | 137/200 [00:30<00:12,  5.18it/s]"
     ]
    },
    {
     "name": "stdout",
     "output_type": "stream",
     "text": [
      "Moviepy - Building video data/robomimic/datasets/lift/ph/demo_video_new/episode_137.mp4.\n",
      "Moviepy - Writing video data/robomimic/datasets/lift/ph/demo_video_new/episode_137.mp4\n",
      "\n"
     ]
    },
    {
     "name": "stderr",
     "output_type": "stream",
     "text": [
      " 69%|██████▉   | 138/200 [00:30<00:15,  4.11it/s]"
     ]
    },
    {
     "name": "stdout",
     "output_type": "stream",
     "text": [
      "Moviepy - Done !\n",
      "Moviepy - video ready data/robomimic/datasets/lift/ph/demo_video_new/episode_137.mp4\n"
     ]
    },
    {
     "name": "stderr",
     "output_type": "stream",
     "text": [
      " 69%|██████▉   | 138/200 [00:30<00:15,  4.11it/s]"
     ]
    },
    {
     "name": "stdout",
     "output_type": "stream",
     "text": [
      "Moviepy - Building video data/robomimic/datasets/lift/ph/demo_video_new/episode_138.mp4.\n",
      "Moviepy - Writing video data/robomimic/datasets/lift/ph/demo_video_new/episode_138.mp4\n",
      "\n"
     ]
    },
    {
     "name": "stderr",
     "output_type": "stream",
     "text": [
      " 70%|██████▉   | 139/200 [00:30<00:15,  3.91it/s]"
     ]
    },
    {
     "name": "stdout",
     "output_type": "stream",
     "text": [
      "Moviepy - Done !\n",
      "Moviepy - video ready data/robomimic/datasets/lift/ph/demo_video_new/episode_138.mp4\n"
     ]
    },
    {
     "name": "stderr",
     "output_type": "stream",
     "text": [
      " 70%|██████▉   | 139/200 [00:30<00:15,  3.91it/s]"
     ]
    },
    {
     "name": "stdout",
     "output_type": "stream",
     "text": [
      "Moviepy - Building video data/robomimic/datasets/lift/ph/demo_video_new/episode_139.mp4.\n",
      "Moviepy - Writing video data/robomimic/datasets/lift/ph/demo_video_new/episode_139.mp4\n",
      "\n"
     ]
    },
    {
     "name": "stderr",
     "output_type": "stream",
     "text": [
      "                                                 "
     ]
    },
    {
     "name": "stdout",
     "output_type": "stream",
     "text": [
      "Moviepy - Done !\n",
      "Moviepy - video ready data/robomimic/datasets/lift/ph/demo_video_new/episode_139.mp4\n"
     ]
    },
    {
     "name": "stderr",
     "output_type": "stream",
     "text": [
      " 70%|███████   | 140/200 [00:31<00:14,  4.17it/s]"
     ]
    },
    {
     "name": "stdout",
     "output_type": "stream",
     "text": [
      "Moviepy - Building video data/robomimic/datasets/lift/ph/demo_video_new/episode_140.mp4.\n",
      "Moviepy - Writing video data/robomimic/datasets/lift/ph/demo_video_new/episode_140.mp4\n",
      "\n"
     ]
    },
    {
     "name": "stderr",
     "output_type": "stream",
     "text": [
      " 70%|███████   | 141/200 [00:31<00:13,  4.34it/s]"
     ]
    },
    {
     "name": "stdout",
     "output_type": "stream",
     "text": [
      "Moviepy - Done !\n",
      "Moviepy - video ready data/robomimic/datasets/lift/ph/demo_video_new/episode_140.mp4\n"
     ]
    },
    {
     "name": "stderr",
     "output_type": "stream",
     "text": [
      " 70%|███████   | 141/200 [00:31<00:13,  4.34it/s]"
     ]
    },
    {
     "name": "stdout",
     "output_type": "stream",
     "text": [
      "Moviepy - Building video data/robomimic/datasets/lift/ph/demo_video_new/episode_141.mp4.\n",
      "Moviepy - Writing video data/robomimic/datasets/lift/ph/demo_video_new/episode_141.mp4\n",
      "\n"
     ]
    },
    {
     "name": "stderr",
     "output_type": "stream",
     "text": [
      " 71%|███████   | 142/200 [00:31<00:13,  4.45it/s]"
     ]
    },
    {
     "name": "stdout",
     "output_type": "stream",
     "text": [
      "Moviepy - Done !\n",
      "Moviepy - video ready data/robomimic/datasets/lift/ph/demo_video_new/episode_141.mp4\n"
     ]
    },
    {
     "name": "stderr",
     "output_type": "stream",
     "text": [
      " 71%|███████   | 142/200 [00:31<00:13,  4.45it/s]"
     ]
    },
    {
     "name": "stdout",
     "output_type": "stream",
     "text": [
      "Moviepy - Building video data/robomimic/datasets/lift/ph/demo_video_new/episode_142.mp4.\n",
      "Moviepy - Writing video data/robomimic/datasets/lift/ph/demo_video_new/episode_142.mp4\n",
      "\n"
     ]
    },
    {
     "name": "stderr",
     "output_type": "stream",
     "text": [
      " 72%|███████▏  | 143/200 [00:31<00:16,  3.52it/s]"
     ]
    },
    {
     "name": "stdout",
     "output_type": "stream",
     "text": [
      "Moviepy - Done !\n",
      "Moviepy - video ready data/robomimic/datasets/lift/ph/demo_video_new/episode_142.mp4\n"
     ]
    },
    {
     "name": "stderr",
     "output_type": "stream",
     "text": [
      " 72%|███████▏  | 143/200 [00:32<00:16,  3.52it/s]"
     ]
    },
    {
     "name": "stdout",
     "output_type": "stream",
     "text": [
      "Moviepy - Building video data/robomimic/datasets/lift/ph/demo_video_new/episode_143.mp4.\n",
      "Moviepy - Writing video data/robomimic/datasets/lift/ph/demo_video_new/episode_143.mp4\n",
      "\n"
     ]
    },
    {
     "name": "stderr",
     "output_type": "stream",
     "text": [
      " 72%|███████▏  | 144/200 [00:32<00:15,  3.73it/s]"
     ]
    },
    {
     "name": "stdout",
     "output_type": "stream",
     "text": [
      "Moviepy - Done !\n",
      "Moviepy - video ready data/robomimic/datasets/lift/ph/demo_video_new/episode_143.mp4\n"
     ]
    },
    {
     "name": "stderr",
     "output_type": "stream",
     "text": [
      " 72%|███████▏  | 144/200 [00:32<00:15,  3.73it/s]"
     ]
    },
    {
     "name": "stdout",
     "output_type": "stream",
     "text": [
      "Moviepy - Building video data/robomimic/datasets/lift/ph/demo_video_new/episode_144.mp4.\n",
      "Moviepy - Writing video data/robomimic/datasets/lift/ph/demo_video_new/episode_144.mp4\n",
      "\n"
     ]
    },
    {
     "name": "stderr",
     "output_type": "stream",
     "text": [
      " 72%|███████▎  | 145/200 [00:32<00:14,  3.90it/s]"
     ]
    },
    {
     "name": "stdout",
     "output_type": "stream",
     "text": [
      "Moviepy - Done !\n",
      "Moviepy - video ready data/robomimic/datasets/lift/ph/demo_video_new/episode_144.mp4\n"
     ]
    },
    {
     "name": "stderr",
     "output_type": "stream",
     "text": [
      " 72%|███████▎  | 145/200 [00:32<00:14,  3.90it/s]"
     ]
    },
    {
     "name": "stdout",
     "output_type": "stream",
     "text": [
      "Moviepy - Building video data/robomimic/datasets/lift/ph/demo_video_new/episode_145.mp4.\n",
      "Moviepy - Writing video data/robomimic/datasets/lift/ph/demo_video_new/episode_145.mp4\n",
      "\n"
     ]
    },
    {
     "name": "stderr",
     "output_type": "stream",
     "text": [
      " 73%|███████▎  | 146/200 [00:32<00:13,  4.09it/s]"
     ]
    },
    {
     "name": "stdout",
     "output_type": "stream",
     "text": [
      "Moviepy - Done !\n",
      "Moviepy - video ready data/robomimic/datasets/lift/ph/demo_video_new/episode_145.mp4\n"
     ]
    },
    {
     "name": "stderr",
     "output_type": "stream",
     "text": [
      " 73%|███████▎  | 146/200 [00:32<00:13,  4.09it/s]"
     ]
    },
    {
     "name": "stdout",
     "output_type": "stream",
     "text": [
      "Moviepy - Building video data/robomimic/datasets/lift/ph/demo_video_new/episode_146.mp4.\n",
      "Moviepy - Writing video data/robomimic/datasets/lift/ph/demo_video_new/episode_146.mp4\n",
      "\n"
     ]
    },
    {
     "name": "stderr",
     "output_type": "stream",
     "text": [
      " 74%|███████▎  | 147/200 [00:32<00:12,  4.23it/s]"
     ]
    },
    {
     "name": "stdout",
     "output_type": "stream",
     "text": [
      "Moviepy - Done !\n",
      "Moviepy - video ready data/robomimic/datasets/lift/ph/demo_video_new/episode_146.mp4\n"
     ]
    },
    {
     "name": "stderr",
     "output_type": "stream",
     "text": [
      " 74%|███████▎  | 147/200 [00:32<00:12,  4.23it/s]"
     ]
    },
    {
     "name": "stdout",
     "output_type": "stream",
     "text": [
      "Moviepy - Building video data/robomimic/datasets/lift/ph/demo_video_new/episode_147.mp4.\n",
      "Moviepy - Writing video data/robomimic/datasets/lift/ph/demo_video_new/episode_147.mp4\n",
      "\n"
     ]
    },
    {
     "name": "stderr",
     "output_type": "stream",
     "text": [
      " 74%|███████▍  | 148/200 [00:33<00:12,  4.27it/s]"
     ]
    },
    {
     "name": "stdout",
     "output_type": "stream",
     "text": [
      "Moviepy - Done !\n",
      "Moviepy - video ready data/robomimic/datasets/lift/ph/demo_video_new/episode_147.mp4\n"
     ]
    },
    {
     "name": "stderr",
     "output_type": "stream",
     "text": [
      " 74%|███████▍  | 148/200 [00:33<00:12,  4.27it/s]"
     ]
    },
    {
     "name": "stdout",
     "output_type": "stream",
     "text": [
      "Moviepy - Building video data/robomimic/datasets/lift/ph/demo_video_new/episode_148.mp4.\n",
      "Moviepy - Writing video data/robomimic/datasets/lift/ph/demo_video_new/episode_148.mp4\n",
      "\n"
     ]
    },
    {
     "name": "stderr",
     "output_type": "stream",
     "text": [
      " 74%|███████▍  | 149/200 [00:33<00:11,  4.31it/s]"
     ]
    },
    {
     "name": "stdout",
     "output_type": "stream",
     "text": [
      "Moviepy - Done !\n",
      "Moviepy - video ready data/robomimic/datasets/lift/ph/demo_video_new/episode_148.mp4\n"
     ]
    },
    {
     "name": "stderr",
     "output_type": "stream",
     "text": [
      " 74%|███████▍  | 149/200 [00:33<00:11,  4.31it/s]"
     ]
    },
    {
     "name": "stdout",
     "output_type": "stream",
     "text": [
      "Moviepy - Building video data/robomimic/datasets/lift/ph/demo_video_new/episode_149.mp4.\n",
      "Moviepy - Writing video data/robomimic/datasets/lift/ph/demo_video_new/episode_149.mp4\n",
      "\n"
     ]
    },
    {
     "name": "stderr",
     "output_type": "stream",
     "text": [
      " 75%|███████▌  | 150/200 [00:33<00:11,  4.33it/s]"
     ]
    },
    {
     "name": "stdout",
     "output_type": "stream",
     "text": [
      "Moviepy - Done !\n",
      "Moviepy - video ready data/robomimic/datasets/lift/ph/demo_video_new/episode_149.mp4\n"
     ]
    },
    {
     "name": "stderr",
     "output_type": "stream",
     "text": [
      " 75%|███████▌  | 150/200 [00:33<00:11,  4.33it/s]"
     ]
    },
    {
     "name": "stdout",
     "output_type": "stream",
     "text": [
      "Moviepy - Building video data/robomimic/datasets/lift/ph/demo_video_new/episode_150.mp4.\n",
      "Moviepy - Writing video data/robomimic/datasets/lift/ph/demo_video_new/episode_150.mp4\n",
      "\n"
     ]
    },
    {
     "name": "stderr",
     "output_type": "stream",
     "text": [
      " 76%|███████▌  | 151/200 [00:33<00:11,  4.37it/s]"
     ]
    },
    {
     "name": "stdout",
     "output_type": "stream",
     "text": [
      "Moviepy - Done !\n",
      "Moviepy - video ready data/robomimic/datasets/lift/ph/demo_video_new/episode_150.mp4\n",
      "Moviepy - Building video data/robomimic/datasets/lift/ph/demo_video_new/episode_151.mp4.\n",
      "Moviepy - Writing video data/robomimic/datasets/lift/ph/demo_video_new/episode_151.mp4\n",
      "\n"
     ]
    },
    {
     "name": "stderr",
     "output_type": "stream",
     "text": [
      " 76%|███████▌  | 152/200 [00:33<00:10,  4.58it/s]"
     ]
    },
    {
     "name": "stdout",
     "output_type": "stream",
     "text": [
      "Moviepy - Done !\n",
      "Moviepy - video ready data/robomimic/datasets/lift/ph/demo_video_new/episode_151.mp4\n"
     ]
    },
    {
     "name": "stderr",
     "output_type": "stream",
     "text": [
      " 76%|███████▌  | 152/200 [00:33<00:10,  4.58it/s]"
     ]
    },
    {
     "name": "stdout",
     "output_type": "stream",
     "text": [
      "Moviepy - Building video data/robomimic/datasets/lift/ph/demo_video_new/episode_152.mp4.\n",
      "Moviepy - Writing video data/robomimic/datasets/lift/ph/demo_video_new/episode_152.mp4\n",
      "\n"
     ]
    },
    {
     "name": "stderr",
     "output_type": "stream",
     "text": [
      " 76%|███████▋  | 153/200 [00:34<00:09,  4.77it/s]"
     ]
    },
    {
     "name": "stdout",
     "output_type": "stream",
     "text": [
      "Moviepy - Done !\n",
      "Moviepy - video ready data/robomimic/datasets/lift/ph/demo_video_new/episode_152.mp4\n"
     ]
    },
    {
     "name": "stderr",
     "output_type": "stream",
     "text": [
      " 76%|███████▋  | 153/200 [00:34<00:09,  4.77it/s]"
     ]
    },
    {
     "name": "stdout",
     "output_type": "stream",
     "text": [
      "Moviepy - Building video data/robomimic/datasets/lift/ph/demo_video_new/episode_153.mp4.\n",
      "Moviepy - Writing video data/robomimic/datasets/lift/ph/demo_video_new/episode_153.mp4\n",
      "\n"
     ]
    },
    {
     "name": "stderr",
     "output_type": "stream",
     "text": [
      " 77%|███████▋  | 154/200 [00:34<00:09,  5.03it/s]"
     ]
    },
    {
     "name": "stdout",
     "output_type": "stream",
     "text": [
      "Moviepy - Done !\n",
      "Moviepy - video ready data/robomimic/datasets/lift/ph/demo_video_new/episode_153.mp4\n"
     ]
    },
    {
     "name": "stderr",
     "output_type": "stream",
     "text": [
      " 77%|███████▋  | 154/200 [00:34<00:09,  5.03it/s]"
     ]
    },
    {
     "name": "stdout",
     "output_type": "stream",
     "text": [
      "Moviepy - Building video data/robomimic/datasets/lift/ph/demo_video_new/episode_154.mp4.\n",
      "Moviepy - Writing video data/robomimic/datasets/lift/ph/demo_video_new/episode_154.mp4\n",
      "\n"
     ]
    },
    {
     "name": "stderr",
     "output_type": "stream",
     "text": [
      " 78%|███████▊  | 155/200 [00:34<00:08,  5.01it/s]"
     ]
    },
    {
     "name": "stdout",
     "output_type": "stream",
     "text": [
      "Moviepy - Done !\n",
      "Moviepy - video ready data/robomimic/datasets/lift/ph/demo_video_new/episode_154.mp4\n"
     ]
    },
    {
     "name": "stderr",
     "output_type": "stream",
     "text": [
      " 78%|███████▊  | 155/200 [00:34<00:08,  5.01it/s]"
     ]
    },
    {
     "name": "stdout",
     "output_type": "stream",
     "text": [
      "Moviepy - Building video data/robomimic/datasets/lift/ph/demo_video_new/episode_155.mp4.\n",
      "Moviepy - Writing video data/robomimic/datasets/lift/ph/demo_video_new/episode_155.mp4\n",
      "\n"
     ]
    },
    {
     "name": "stderr",
     "output_type": "stream",
     "text": [
      " 78%|███████▊  | 156/200 [00:34<00:08,  5.10it/s]"
     ]
    },
    {
     "name": "stdout",
     "output_type": "stream",
     "text": [
      "Moviepy - Done !\n",
      "Moviepy - video ready data/robomimic/datasets/lift/ph/demo_video_new/episode_155.mp4\n"
     ]
    },
    {
     "name": "stderr",
     "output_type": "stream",
     "text": [
      " 78%|███████▊  | 156/200 [00:34<00:08,  5.10it/s]"
     ]
    },
    {
     "name": "stdout",
     "output_type": "stream",
     "text": [
      "Moviepy - Building video data/robomimic/datasets/lift/ph/demo_video_new/episode_156.mp4.\n",
      "Moviepy - Writing video data/robomimic/datasets/lift/ph/demo_video_new/episode_156.mp4\n",
      "\n"
     ]
    },
    {
     "name": "stderr",
     "output_type": "stream",
     "text": [
      " 78%|███████▊  | 157/200 [00:34<00:08,  4.96it/s]"
     ]
    },
    {
     "name": "stdout",
     "output_type": "stream",
     "text": [
      "Moviepy - Done !\n",
      "Moviepy - video ready data/robomimic/datasets/lift/ph/demo_video_new/episode_156.mp4\n",
      "Moviepy - Building video data/robomimic/datasets/lift/ph/demo_video_new/episode_157.mp4.\n",
      "Moviepy - Writing video data/robomimic/datasets/lift/ph/demo_video_new/episode_157.mp4\n",
      "\n"
     ]
    },
    {
     "name": "stderr",
     "output_type": "stream",
     "text": [
      " 79%|███████▉  | 158/200 [00:35<00:08,  5.07it/s]"
     ]
    },
    {
     "name": "stdout",
     "output_type": "stream",
     "text": [
      "Moviepy - Done !\n",
      "Moviepy - video ready data/robomimic/datasets/lift/ph/demo_video_new/episode_157.mp4\n"
     ]
    },
    {
     "name": "stderr",
     "output_type": "stream",
     "text": [
      " 79%|███████▉  | 158/200 [00:35<00:08,  5.07it/s]"
     ]
    },
    {
     "name": "stdout",
     "output_type": "stream",
     "text": [
      "Moviepy - Building video data/robomimic/datasets/lift/ph/demo_video_new/episode_158.mp4.\n",
      "Moviepy - Writing video data/robomimic/datasets/lift/ph/demo_video_new/episode_158.mp4\n",
      "\n"
     ]
    },
    {
     "name": "stderr",
     "output_type": "stream",
     "text": [
      " 80%|███████▉  | 159/200 [00:35<00:07,  5.22it/s]"
     ]
    },
    {
     "name": "stdout",
     "output_type": "stream",
     "text": [
      "Moviepy - Done !\n",
      "Moviepy - video ready data/robomimic/datasets/lift/ph/demo_video_new/episode_158.mp4\n"
     ]
    },
    {
     "name": "stderr",
     "output_type": "stream",
     "text": [
      " 80%|███████▉  | 159/200 [00:35<00:07,  5.22it/s]"
     ]
    },
    {
     "name": "stdout",
     "output_type": "stream",
     "text": [
      "Moviepy - Building video data/robomimic/datasets/lift/ph/demo_video_new/episode_159.mp4.\n",
      "Moviepy - Writing video data/robomimic/datasets/lift/ph/demo_video_new/episode_159.mp4\n",
      "\n"
     ]
    },
    {
     "name": "stderr",
     "output_type": "stream",
     "text": [
      " 80%|████████  | 160/200 [00:35<00:07,  5.33it/s]"
     ]
    },
    {
     "name": "stdout",
     "output_type": "stream",
     "text": [
      "Moviepy - Done !\n",
      "Moviepy - video ready data/robomimic/datasets/lift/ph/demo_video_new/episode_159.mp4\n"
     ]
    },
    {
     "name": "stderr",
     "output_type": "stream",
     "text": [
      " 80%|████████  | 160/200 [00:35<00:07,  5.33it/s]"
     ]
    },
    {
     "name": "stdout",
     "output_type": "stream",
     "text": [
      "Moviepy - Building video data/robomimic/datasets/lift/ph/demo_video_new/episode_160.mp4.\n",
      "Moviepy - Writing video data/robomimic/datasets/lift/ph/demo_video_new/episode_160.mp4\n",
      "\n"
     ]
    },
    {
     "name": "stderr",
     "output_type": "stream",
     "text": [
      " 80%|████████  | 161/200 [00:35<00:07,  5.39it/s]"
     ]
    },
    {
     "name": "stdout",
     "output_type": "stream",
     "text": [
      "Moviepy - Done !\n",
      "Moviepy - video ready data/robomimic/datasets/lift/ph/demo_video_new/episode_160.mp4\n"
     ]
    },
    {
     "name": "stderr",
     "output_type": "stream",
     "text": [
      " 80%|████████  | 161/200 [00:35<00:07,  5.39it/s]"
     ]
    },
    {
     "name": "stdout",
     "output_type": "stream",
     "text": [
      "Moviepy - Building video data/robomimic/datasets/lift/ph/demo_video_new/episode_161.mp4.\n",
      "Moviepy - Writing video data/robomimic/datasets/lift/ph/demo_video_new/episode_161.mp4\n",
      "\n"
     ]
    },
    {
     "name": "stderr",
     "output_type": "stream",
     "text": [
      " 81%|████████  | 162/200 [00:35<00:07,  5.31it/s]"
     ]
    },
    {
     "name": "stdout",
     "output_type": "stream",
     "text": [
      "Moviepy - Done !\n",
      "Moviepy - video ready data/robomimic/datasets/lift/ph/demo_video_new/episode_161.mp4\n"
     ]
    },
    {
     "name": "stderr",
     "output_type": "stream",
     "text": [
      " 81%|████████  | 162/200 [00:35<00:07,  5.31it/s]"
     ]
    },
    {
     "name": "stdout",
     "output_type": "stream",
     "text": [
      "Moviepy - Building video data/robomimic/datasets/lift/ph/demo_video_new/episode_162.mp4.\n",
      "Moviepy - Writing video data/robomimic/datasets/lift/ph/demo_video_new/episode_162.mp4\n",
      "\n"
     ]
    },
    {
     "name": "stderr",
     "output_type": "stream",
     "text": [
      " 82%|████████▏ | 163/200 [00:35<00:07,  5.24it/s]"
     ]
    },
    {
     "name": "stdout",
     "output_type": "stream",
     "text": [
      "Moviepy - Done !\n",
      "Moviepy - video ready data/robomimic/datasets/lift/ph/demo_video_new/episode_162.mp4\n"
     ]
    },
    {
     "name": "stderr",
     "output_type": "stream",
     "text": [
      " 82%|████████▏ | 163/200 [00:36<00:07,  5.24it/s]"
     ]
    },
    {
     "name": "stdout",
     "output_type": "stream",
     "text": [
      "Moviepy - Building video data/robomimic/datasets/lift/ph/demo_video_new/episode_163.mp4.\n",
      "Moviepy - Writing video data/robomimic/datasets/lift/ph/demo_video_new/episode_163.mp4\n",
      "\n"
     ]
    },
    {
     "name": "stderr",
     "output_type": "stream",
     "text": [
      " 82%|████████▏ | 164/200 [00:36<00:07,  5.06it/s]"
     ]
    },
    {
     "name": "stdout",
     "output_type": "stream",
     "text": [
      "Moviepy - Done !\n",
      "Moviepy - video ready data/robomimic/datasets/lift/ph/demo_video_new/episode_163.mp4\n",
      "Moviepy - Building video data/robomimic/datasets/lift/ph/demo_video_new/episode_164.mp4.\n",
      "Moviepy - Writing video data/robomimic/datasets/lift/ph/demo_video_new/episode_164.mp4\n",
      "\n"
     ]
    },
    {
     "name": "stderr",
     "output_type": "stream",
     "text": [
      " 82%|████████▎ | 165/200 [00:36<00:06,  5.13it/s]"
     ]
    },
    {
     "name": "stdout",
     "output_type": "stream",
     "text": [
      "Moviepy - Done !\n",
      "Moviepy - video ready data/robomimic/datasets/lift/ph/demo_video_new/episode_164.mp4\n"
     ]
    },
    {
     "name": "stderr",
     "output_type": "stream",
     "text": [
      " 82%|████████▎ | 165/200 [00:36<00:06,  5.13it/s]"
     ]
    },
    {
     "name": "stdout",
     "output_type": "stream",
     "text": [
      "Moviepy - Building video data/robomimic/datasets/lift/ph/demo_video_new/episode_165.mp4.\n",
      "Moviepy - Writing video data/robomimic/datasets/lift/ph/demo_video_new/episode_165.mp4\n",
      "\n"
     ]
    },
    {
     "name": "stderr",
     "output_type": "stream",
     "text": [
      " 83%|████████▎ | 166/200 [00:36<00:06,  5.26it/s]"
     ]
    },
    {
     "name": "stdout",
     "output_type": "stream",
     "text": [
      "Moviepy - Done !\n",
      "Moviepy - video ready data/robomimic/datasets/lift/ph/demo_video_new/episode_165.mp4\n"
     ]
    },
    {
     "name": "stderr",
     "output_type": "stream",
     "text": [
      " 83%|████████▎ | 166/200 [00:36<00:06,  5.26it/s]"
     ]
    },
    {
     "name": "stdout",
     "output_type": "stream",
     "text": [
      "Moviepy - Building video data/robomimic/datasets/lift/ph/demo_video_new/episode_166.mp4.\n",
      "Moviepy - Writing video data/robomimic/datasets/lift/ph/demo_video_new/episode_166.mp4\n",
      "\n"
     ]
    },
    {
     "name": "stderr",
     "output_type": "stream",
     "text": [
      " 84%|████████▎ | 167/200 [00:36<00:06,  5.22it/s]"
     ]
    },
    {
     "name": "stdout",
     "output_type": "stream",
     "text": [
      "Moviepy - Done !\n",
      "Moviepy - video ready data/robomimic/datasets/lift/ph/demo_video_new/episode_166.mp4\n"
     ]
    },
    {
     "name": "stderr",
     "output_type": "stream",
     "text": [
      " 84%|████████▎ | 167/200 [00:36<00:06,  5.22it/s]"
     ]
    },
    {
     "name": "stdout",
     "output_type": "stream",
     "text": [
      "Moviepy - Building video data/robomimic/datasets/lift/ph/demo_video_new/episode_167.mp4.\n",
      "Moviepy - Writing video data/robomimic/datasets/lift/ph/demo_video_new/episode_167.mp4\n",
      "\n"
     ]
    },
    {
     "name": "stderr",
     "output_type": "stream",
     "text": [
      " 84%|████████▍ | 168/200 [00:36<00:06,  5.01it/s]"
     ]
    },
    {
     "name": "stdout",
     "output_type": "stream",
     "text": [
      "Moviepy - Done !\n",
      "Moviepy - video ready data/robomimic/datasets/lift/ph/demo_video_new/episode_167.mp4\n"
     ]
    },
    {
     "name": "stderr",
     "output_type": "stream",
     "text": [
      " 84%|████████▍ | 168/200 [00:37<00:06,  5.01it/s]"
     ]
    },
    {
     "name": "stdout",
     "output_type": "stream",
     "text": [
      "Moviepy - Building video data/robomimic/datasets/lift/ph/demo_video_new/episode_168.mp4.\n",
      "Moviepy - Writing video data/robomimic/datasets/lift/ph/demo_video_new/episode_168.mp4\n",
      "\n"
     ]
    },
    {
     "name": "stderr",
     "output_type": "stream",
     "text": [
      " 84%|████████▍ | 169/200 [00:37<00:06,  4.93it/s]"
     ]
    },
    {
     "name": "stdout",
     "output_type": "stream",
     "text": [
      "Moviepy - Done !\n",
      "Moviepy - video ready data/robomimic/datasets/lift/ph/demo_video_new/episode_168.mp4\n"
     ]
    },
    {
     "name": "stderr",
     "output_type": "stream",
     "text": [
      " 84%|████████▍ | 169/200 [00:37<00:06,  4.93it/s]"
     ]
    },
    {
     "name": "stdout",
     "output_type": "stream",
     "text": [
      "Moviepy - Building video data/robomimic/datasets/lift/ph/demo_video_new/episode_169.mp4.\n",
      "Moviepy - Writing video data/robomimic/datasets/lift/ph/demo_video_new/episode_169.mp4\n",
      "\n"
     ]
    },
    {
     "name": "stderr",
     "output_type": "stream",
     "text": [
      " 85%|████████▌ | 170/200 [00:37<00:06,  4.99it/s]"
     ]
    },
    {
     "name": "stdout",
     "output_type": "stream",
     "text": [
      "Moviepy - Done !\n",
      "Moviepy - video ready data/robomimic/datasets/lift/ph/demo_video_new/episode_169.mp4\n"
     ]
    },
    {
     "name": "stderr",
     "output_type": "stream",
     "text": [
      " 85%|████████▌ | 170/200 [00:37<00:06,  4.99it/s]"
     ]
    },
    {
     "name": "stdout",
     "output_type": "stream",
     "text": [
      "Moviepy - Building video data/robomimic/datasets/lift/ph/demo_video_new/episode_170.mp4.\n",
      "Moviepy - Writing video data/robomimic/datasets/lift/ph/demo_video_new/episode_170.mp4\n",
      "\n"
     ]
    },
    {
     "name": "stderr",
     "output_type": "stream",
     "text": [
      " 86%|████████▌ | 171/200 [00:37<00:05,  5.11it/s]"
     ]
    },
    {
     "name": "stdout",
     "output_type": "stream",
     "text": [
      "Moviepy - Done !\n",
      "Moviepy - video ready data/robomimic/datasets/lift/ph/demo_video_new/episode_170.mp4\n"
     ]
    },
    {
     "name": "stderr",
     "output_type": "stream",
     "text": [
      " 86%|████████▌ | 171/200 [00:37<00:05,  5.11it/s]"
     ]
    },
    {
     "name": "stdout",
     "output_type": "stream",
     "text": [
      "Moviepy - Building video data/robomimic/datasets/lift/ph/demo_video_new/episode_171.mp4.\n",
      "Moviepy - Writing video data/robomimic/datasets/lift/ph/demo_video_new/episode_171.mp4\n",
      "\n"
     ]
    },
    {
     "name": "stderr",
     "output_type": "stream",
     "text": [
      " 86%|████████▌ | 172/200 [00:37<00:05,  5.19it/s]"
     ]
    },
    {
     "name": "stdout",
     "output_type": "stream",
     "text": [
      "Moviepy - Done !\n",
      "Moviepy - video ready data/robomimic/datasets/lift/ph/demo_video_new/episode_171.mp4\n"
     ]
    },
    {
     "name": "stderr",
     "output_type": "stream",
     "text": [
      " 86%|████████▌ | 172/200 [00:37<00:05,  5.19it/s]"
     ]
    },
    {
     "name": "stdout",
     "output_type": "stream",
     "text": [
      "Moviepy - Building video data/robomimic/datasets/lift/ph/demo_video_new/episode_172.mp4.\n"
     ]
    },
    {
     "name": "stderr",
     "output_type": "stream",
     "text": [
      " 86%|████████▌ | 172/200 [00:37<00:05,  5.19it/s]"
     ]
    },
    {
     "name": "stdout",
     "output_type": "stream",
     "text": [
      "Moviepy - Writing video data/robomimic/datasets/lift/ph/demo_video_new/episode_172.mp4\n",
      "\n"
     ]
    },
    {
     "name": "stderr",
     "output_type": "stream",
     "text": [
      " 86%|████████▋ | 173/200 [00:38<00:05,  5.09it/s]"
     ]
    },
    {
     "name": "stdout",
     "output_type": "stream",
     "text": [
      "Moviepy - Done !\n",
      "Moviepy - video ready data/robomimic/datasets/lift/ph/demo_video_new/episode_172.mp4\n",
      "Moviepy - Building video data/robomimic/datasets/lift/ph/demo_video_new/episode_173.mp4.\n",
      "Moviepy - Writing video data/robomimic/datasets/lift/ph/demo_video_new/episode_173.mp4\n",
      "\n"
     ]
    },
    {
     "name": "stderr",
     "output_type": "stream",
     "text": [
      " 87%|████████▋ | 174/200 [00:38<00:04,  5.21it/s]"
     ]
    },
    {
     "name": "stdout",
     "output_type": "stream",
     "text": [
      "Moviepy - Done !\n",
      "Moviepy - video ready data/robomimic/datasets/lift/ph/demo_video_new/episode_173.mp4\n"
     ]
    },
    {
     "name": "stderr",
     "output_type": "stream",
     "text": [
      " 87%|████████▋ | 174/200 [00:38<00:04,  5.21it/s]"
     ]
    },
    {
     "name": "stdout",
     "output_type": "stream",
     "text": [
      "Moviepy - Building video data/robomimic/datasets/lift/ph/demo_video_new/episode_174.mp4.\n",
      "Moviepy - Writing video data/robomimic/datasets/lift/ph/demo_video_new/episode_174.mp4\n",
      "\n"
     ]
    },
    {
     "name": "stderr",
     "output_type": "stream",
     "text": [
      " 88%|████████▊ | 175/200 [00:38<00:04,  5.22it/s]"
     ]
    },
    {
     "name": "stdout",
     "output_type": "stream",
     "text": [
      "Moviepy - Done !\n",
      "Moviepy - video ready data/robomimic/datasets/lift/ph/demo_video_new/episode_174.mp4\n"
     ]
    },
    {
     "name": "stderr",
     "output_type": "stream",
     "text": [
      " 88%|████████▊ | 175/200 [00:38<00:04,  5.22it/s]"
     ]
    },
    {
     "name": "stdout",
     "output_type": "stream",
     "text": [
      "Moviepy - Building video data/robomimic/datasets/lift/ph/demo_video_new/episode_175.mp4.\n",
      "Moviepy - Writing video data/robomimic/datasets/lift/ph/demo_video_new/episode_175.mp4\n",
      "\n"
     ]
    },
    {
     "name": "stderr",
     "output_type": "stream",
     "text": [
      " 88%|████████▊ | 175/200 [00:38<00:04,  5.22it/s]"
     ]
    },
    {
     "name": "stdout",
     "output_type": "stream",
     "text": [
      "Moviepy - Done !\n"
     ]
    },
    {
     "name": "stderr",
     "output_type": "stream",
     "text": [
      " 88%|████████▊ | 176/200 [00:38<00:04,  5.15it/s]"
     ]
    },
    {
     "name": "stdout",
     "output_type": "stream",
     "text": [
      "Moviepy - video ready data/robomimic/datasets/lift/ph/demo_video_new/episode_175.mp4\n"
     ]
    },
    {
     "name": "stderr",
     "output_type": "stream",
     "text": [
      " 88%|████████▊ | 176/200 [00:38<00:04,  5.15it/s]"
     ]
    },
    {
     "name": "stdout",
     "output_type": "stream",
     "text": [
      "Moviepy - Building video data/robomimic/datasets/lift/ph/demo_video_new/episode_176.mp4.\n",
      "Moviepy - Writing video data/robomimic/datasets/lift/ph/demo_video_new/episode_176.mp4\n",
      "\n"
     ]
    },
    {
     "name": "stderr",
     "output_type": "stream",
     "text": [
      " 88%|████████▊ | 177/200 [00:38<00:04,  4.95it/s]"
     ]
    },
    {
     "name": "stdout",
     "output_type": "stream",
     "text": [
      "Moviepy - Done !\n",
      "Moviepy - video ready data/robomimic/datasets/lift/ph/demo_video_new/episode_176.mp4\n"
     ]
    },
    {
     "name": "stderr",
     "output_type": "stream",
     "text": [
      " 88%|████████▊ | 177/200 [00:38<00:04,  4.95it/s]"
     ]
    },
    {
     "name": "stdout",
     "output_type": "stream",
     "text": [
      "Moviepy - Building video data/robomimic/datasets/lift/ph/demo_video_new/episode_177.mp4.\n",
      "Moviepy - Writing video data/robomimic/datasets/lift/ph/demo_video_new/episode_177.mp4\n",
      "\n"
     ]
    },
    {
     "name": "stderr",
     "output_type": "stream",
     "text": [
      " 89%|████████▉ | 178/200 [00:38<00:04,  4.98it/s]"
     ]
    },
    {
     "name": "stdout",
     "output_type": "stream",
     "text": [
      "Moviepy - Done !\n",
      "Moviepy - video ready data/robomimic/datasets/lift/ph/demo_video_new/episode_177.mp4\n"
     ]
    },
    {
     "name": "stderr",
     "output_type": "stream",
     "text": [
      " 89%|████████▉ | 178/200 [00:39<00:04,  4.98it/s]"
     ]
    },
    {
     "name": "stdout",
     "output_type": "stream",
     "text": [
      "Moviepy - Building video data/robomimic/datasets/lift/ph/demo_video_new/episode_178.mp4.\n",
      "Moviepy - Writing video data/robomimic/datasets/lift/ph/demo_video_new/episode_178.mp4\n",
      "\n"
     ]
    },
    {
     "name": "stderr",
     "output_type": "stream",
     "text": [
      " 90%|████████▉ | 179/200 [00:39<00:04,  5.02it/s]"
     ]
    },
    {
     "name": "stdout",
     "output_type": "stream",
     "text": [
      "Moviepy - Done !\n",
      "Moviepy - video ready data/robomimic/datasets/lift/ph/demo_video_new/episode_178.mp4\n"
     ]
    },
    {
     "name": "stderr",
     "output_type": "stream",
     "text": [
      " 90%|████████▉ | 179/200 [00:39<00:04,  5.02it/s]"
     ]
    },
    {
     "name": "stdout",
     "output_type": "stream",
     "text": [
      "Moviepy - Building video data/robomimic/datasets/lift/ph/demo_video_new/episode_179.mp4.\n",
      "Moviepy - Writing video data/robomimic/datasets/lift/ph/demo_video_new/episode_179.mp4\n",
      "\n"
     ]
    },
    {
     "name": "stderr",
     "output_type": "stream",
     "text": [
      " 90%|█████████ | 180/200 [00:39<00:03,  5.00it/s]"
     ]
    },
    {
     "name": "stdout",
     "output_type": "stream",
     "text": [
      "Moviepy - Done !\n",
      "Moviepy - video ready data/robomimic/datasets/lift/ph/demo_video_new/episode_179.mp4\n"
     ]
    },
    {
     "name": "stderr",
     "output_type": "stream",
     "text": [
      " 90%|█████████ | 180/200 [00:39<00:03,  5.00it/s]"
     ]
    },
    {
     "name": "stdout",
     "output_type": "stream",
     "text": [
      "Moviepy - Building video data/robomimic/datasets/lift/ph/demo_video_new/episode_180.mp4.\n",
      "Moviepy - Writing video data/robomimic/datasets/lift/ph/demo_video_new/episode_180.mp4\n",
      "\n"
     ]
    },
    {
     "name": "stderr",
     "output_type": "stream",
     "text": [
      " 90%|█████████ | 181/200 [00:39<00:03,  4.96it/s]"
     ]
    },
    {
     "name": "stdout",
     "output_type": "stream",
     "text": [
      "Moviepy - Done !\n",
      "Moviepy - video ready data/robomimic/datasets/lift/ph/demo_video_new/episode_180.mp4\n"
     ]
    },
    {
     "name": "stderr",
     "output_type": "stream",
     "text": [
      " 90%|█████████ | 181/200 [00:39<00:03,  4.96it/s]"
     ]
    },
    {
     "name": "stdout",
     "output_type": "stream",
     "text": [
      "Moviepy - Building video data/robomimic/datasets/lift/ph/demo_video_new/episode_181.mp4.\n",
      "Moviepy - Writing video data/robomimic/datasets/lift/ph/demo_video_new/episode_181.mp4\n",
      "\n"
     ]
    },
    {
     "name": "stderr",
     "output_type": "stream",
     "text": [
      " 91%|█████████ | 182/200 [00:39<00:03,  4.91it/s]"
     ]
    },
    {
     "name": "stdout",
     "output_type": "stream",
     "text": [
      "Moviepy - Done !\n",
      "Moviepy - video ready data/robomimic/datasets/lift/ph/demo_video_new/episode_181.mp4\n"
     ]
    },
    {
     "name": "stderr",
     "output_type": "stream",
     "text": [
      " 91%|█████████ | 182/200 [00:39<00:03,  4.91it/s]"
     ]
    },
    {
     "name": "stdout",
     "output_type": "stream",
     "text": [
      "Moviepy - Building video data/robomimic/datasets/lift/ph/demo_video_new/episode_182.mp4.\n",
      "Moviepy - Writing video data/robomimic/datasets/lift/ph/demo_video_new/episode_182.mp4\n",
      "\n"
     ]
    },
    {
     "name": "stderr",
     "output_type": "stream",
     "text": [
      " 92%|█████████▏| 183/200 [00:39<00:03,  4.91it/s]"
     ]
    },
    {
     "name": "stdout",
     "output_type": "stream",
     "text": [
      "Moviepy - Done !\n",
      "Moviepy - video ready data/robomimic/datasets/lift/ph/demo_video_new/episode_182.mp4\n"
     ]
    },
    {
     "name": "stderr",
     "output_type": "stream",
     "text": [
      " 92%|█████████▏| 183/200 [00:40<00:03,  4.91it/s]"
     ]
    },
    {
     "name": "stdout",
     "output_type": "stream",
     "text": [
      "Moviepy - Building video data/robomimic/datasets/lift/ph/demo_video_new/episode_183.mp4.\n",
      "Moviepy - Writing video data/robomimic/datasets/lift/ph/demo_video_new/episode_183.mp4\n",
      "\n"
     ]
    },
    {
     "name": "stderr",
     "output_type": "stream",
     "text": [
      " 92%|█████████▏| 184/200 [00:40<00:03,  4.91it/s]"
     ]
    },
    {
     "name": "stdout",
     "output_type": "stream",
     "text": [
      "Moviepy - Done !\n",
      "Moviepy - video ready data/robomimic/datasets/lift/ph/demo_video_new/episode_183.mp4\n",
      "Moviepy - Building video data/robomimic/datasets/lift/ph/demo_video_new/episode_184.mp4.\n",
      "Moviepy - Writing video data/robomimic/datasets/lift/ph/demo_video_new/episode_184.mp4\n",
      "\n"
     ]
    },
    {
     "name": "stderr",
     "output_type": "stream",
     "text": [
      " 92%|█████████▎| 185/200 [00:40<00:03,  5.00it/s]"
     ]
    },
    {
     "name": "stdout",
     "output_type": "stream",
     "text": [
      "Moviepy - Done !\n",
      "Moviepy - video ready data/robomimic/datasets/lift/ph/demo_video_new/episode_184.mp4\n"
     ]
    },
    {
     "name": "stderr",
     "output_type": "stream",
     "text": [
      " 92%|█████████▎| 185/200 [00:40<00:03,  5.00it/s]"
     ]
    },
    {
     "name": "stdout",
     "output_type": "stream",
     "text": [
      "Moviepy - Building video data/robomimic/datasets/lift/ph/demo_video_new/episode_185.mp4.\n",
      "Moviepy - Writing video data/robomimic/datasets/lift/ph/demo_video_new/episode_185.mp4\n",
      "\n"
     ]
    },
    {
     "name": "stderr",
     "output_type": "stream",
     "text": [
      " 93%|█████████▎| 186/200 [00:40<00:02,  4.91it/s]"
     ]
    },
    {
     "name": "stdout",
     "output_type": "stream",
     "text": [
      "Moviepy - Done !\n",
      "Moviepy - video ready data/robomimic/datasets/lift/ph/demo_video_new/episode_185.mp4\n",
      "Moviepy - Building video data/robomimic/datasets/lift/ph/demo_video_new/episode_186.mp4.\n",
      "Moviepy - Writing video data/robomimic/datasets/lift/ph/demo_video_new/episode_186.mp4\n",
      "\n"
     ]
    },
    {
     "name": "stderr",
     "output_type": "stream",
     "text": [
      " 94%|█████████▎| 187/200 [00:40<00:02,  4.99it/s]"
     ]
    },
    {
     "name": "stdout",
     "output_type": "stream",
     "text": [
      "Moviepy - Done !\n",
      "Moviepy - video ready data/robomimic/datasets/lift/ph/demo_video_new/episode_186.mp4\n"
     ]
    },
    {
     "name": "stderr",
     "output_type": "stream",
     "text": [
      " 94%|█████████▎| 187/200 [00:40<00:02,  4.99it/s]"
     ]
    },
    {
     "name": "stdout",
     "output_type": "stream",
     "text": [
      "Moviepy - Building video data/robomimic/datasets/lift/ph/demo_video_new/episode_187.mp4.\n",
      "Moviepy - Writing video data/robomimic/datasets/lift/ph/demo_video_new/episode_187.mp4\n",
      "\n"
     ]
    },
    {
     "name": "stderr",
     "output_type": "stream",
     "text": [
      " 94%|█████████▍| 188/200 [00:40<00:02,  5.13it/s]"
     ]
    },
    {
     "name": "stdout",
     "output_type": "stream",
     "text": [
      "Moviepy - Done !\n",
      "Moviepy - video ready data/robomimic/datasets/lift/ph/demo_video_new/episode_187.mp4\n"
     ]
    },
    {
     "name": "stderr",
     "output_type": "stream",
     "text": [
      " 94%|█████████▍| 188/200 [00:41<00:02,  5.13it/s]"
     ]
    },
    {
     "name": "stdout",
     "output_type": "stream",
     "text": [
      "Moviepy - Building video data/robomimic/datasets/lift/ph/demo_video_new/episode_188.mp4.\n",
      "Moviepy - Writing video data/robomimic/datasets/lift/ph/demo_video_new/episode_188.mp4\n",
      "\n"
     ]
    },
    {
     "name": "stderr",
     "output_type": "stream",
     "text": [
      " 94%|█████████▍| 189/200 [00:41<00:02,  5.22it/s]"
     ]
    },
    {
     "name": "stdout",
     "output_type": "stream",
     "text": [
      "Moviepy - Done !\n",
      "Moviepy - video ready data/robomimic/datasets/lift/ph/demo_video_new/episode_188.mp4\n"
     ]
    },
    {
     "name": "stderr",
     "output_type": "stream",
     "text": [
      " 94%|█████████▍| 189/200 [00:41<00:02,  5.22it/s]"
     ]
    },
    {
     "name": "stdout",
     "output_type": "stream",
     "text": [
      "Moviepy - Building video data/robomimic/datasets/lift/ph/demo_video_new/episode_189.mp4.\n",
      "Moviepy - Writing video data/robomimic/datasets/lift/ph/demo_video_new/episode_189.mp4\n",
      "\n"
     ]
    },
    {
     "name": "stderr",
     "output_type": "stream",
     "text": [
      " 95%|█████████▌| 190/200 [00:41<00:01,  5.17it/s]"
     ]
    },
    {
     "name": "stdout",
     "output_type": "stream",
     "text": [
      "Moviepy - Done !\n",
      "Moviepy - video ready data/robomimic/datasets/lift/ph/demo_video_new/episode_189.mp4\n"
     ]
    },
    {
     "name": "stderr",
     "output_type": "stream",
     "text": [
      " 95%|█████████▌| 190/200 [00:41<00:01,  5.17it/s]"
     ]
    },
    {
     "name": "stdout",
     "output_type": "stream",
     "text": [
      "Moviepy - Building video data/robomimic/datasets/lift/ph/demo_video_new/episode_190.mp4.\n",
      "Moviepy - Writing video data/robomimic/datasets/lift/ph/demo_video_new/episode_190.mp4\n",
      "\n"
     ]
    },
    {
     "name": "stderr",
     "output_type": "stream",
     "text": [
      " 96%|█████████▌| 191/200 [00:41<00:01,  5.13it/s]"
     ]
    },
    {
     "name": "stdout",
     "output_type": "stream",
     "text": [
      "Moviepy - Done !\n",
      "Moviepy - video ready data/robomimic/datasets/lift/ph/demo_video_new/episode_190.mp4\n"
     ]
    },
    {
     "name": "stderr",
     "output_type": "stream",
     "text": [
      " 96%|█████████▌| 191/200 [00:41<00:01,  5.13it/s]"
     ]
    },
    {
     "name": "stdout",
     "output_type": "stream",
     "text": [
      "Moviepy - Building video data/robomimic/datasets/lift/ph/demo_video_new/episode_191.mp4.\n",
      "Moviepy - Writing video data/robomimic/datasets/lift/ph/demo_video_new/episode_191.mp4\n",
      "\n"
     ]
    },
    {
     "name": "stderr",
     "output_type": "stream",
     "text": [
      " 96%|█████████▌| 192/200 [00:41<00:01,  5.33it/s]"
     ]
    },
    {
     "name": "stdout",
     "output_type": "stream",
     "text": [
      "Moviepy - Done !\n",
      "Moviepy - video ready data/robomimic/datasets/lift/ph/demo_video_new/episode_191.mp4\n"
     ]
    },
    {
     "name": "stderr",
     "output_type": "stream",
     "text": [
      " 96%|█████████▌| 192/200 [00:41<00:01,  5.33it/s]"
     ]
    },
    {
     "name": "stdout",
     "output_type": "stream",
     "text": [
      "Moviepy - Building video data/robomimic/datasets/lift/ph/demo_video_new/episode_192.mp4.\n",
      "Moviepy - Writing video data/robomimic/datasets/lift/ph/demo_video_new/episode_192.mp4\n",
      "\n"
     ]
    },
    {
     "name": "stderr",
     "output_type": "stream",
     "text": [
      " 96%|█████████▋| 193/200 [00:41<00:01,  5.25it/s]"
     ]
    },
    {
     "name": "stdout",
     "output_type": "stream",
     "text": [
      "Moviepy - Done !\n",
      "Moviepy - video ready data/robomimic/datasets/lift/ph/demo_video_new/episode_192.mp4\n"
     ]
    },
    {
     "name": "stderr",
     "output_type": "stream",
     "text": [
      " 96%|█████████▋| 193/200 [00:41<00:01,  5.25it/s]"
     ]
    },
    {
     "name": "stdout",
     "output_type": "stream",
     "text": [
      "Moviepy - Building video data/robomimic/datasets/lift/ph/demo_video_new/episode_193.mp4.\n",
      "Moviepy - Writing video data/robomimic/datasets/lift/ph/demo_video_new/episode_193.mp4\n",
      "\n"
     ]
    },
    {
     "name": "stderr",
     "output_type": "stream",
     "text": [
      " 97%|█████████▋| 194/200 [00:42<00:01,  5.34it/s]"
     ]
    },
    {
     "name": "stdout",
     "output_type": "stream",
     "text": [
      "Moviepy - Done !\n",
      "Moviepy - video ready data/robomimic/datasets/lift/ph/demo_video_new/episode_193.mp4\n"
     ]
    },
    {
     "name": "stderr",
     "output_type": "stream",
     "text": [
      " 97%|█████████▋| 194/200 [00:42<00:01,  5.34it/s]"
     ]
    },
    {
     "name": "stdout",
     "output_type": "stream",
     "text": [
      "Moviepy - Building video data/robomimic/datasets/lift/ph/demo_video_new/episode_194.mp4.\n",
      "Moviepy - Writing video data/robomimic/datasets/lift/ph/demo_video_new/episode_194.mp4\n",
      "\n"
     ]
    },
    {
     "name": "stderr",
     "output_type": "stream",
     "text": [
      " 98%|█████████▊| 195/200 [00:42<00:00,  5.59it/s]"
     ]
    },
    {
     "name": "stdout",
     "output_type": "stream",
     "text": [
      "Moviepy - Done !\n",
      "Moviepy - video ready data/robomimic/datasets/lift/ph/demo_video_new/episode_194.mp4\n"
     ]
    },
    {
     "name": "stderr",
     "output_type": "stream",
     "text": [
      " 98%|█████████▊| 195/200 [00:42<00:00,  5.59it/s]"
     ]
    },
    {
     "name": "stdout",
     "output_type": "stream",
     "text": [
      "Moviepy - Building video data/robomimic/datasets/lift/ph/demo_video_new/episode_195.mp4.\n",
      "Moviepy - Writing video data/robomimic/datasets/lift/ph/demo_video_new/episode_195.mp4\n",
      "\n"
     ]
    },
    {
     "name": "stderr",
     "output_type": "stream",
     "text": [
      " 98%|█████████▊| 196/200 [00:42<00:00,  5.34it/s]"
     ]
    },
    {
     "name": "stdout",
     "output_type": "stream",
     "text": [
      "Moviepy - Done !\n",
      "Moviepy - video ready data/robomimic/datasets/lift/ph/demo_video_new/episode_195.mp4\n",
      "Moviepy - Building video data/robomimic/datasets/lift/ph/demo_video_new/episode_196.mp4.\n",
      "Moviepy - Writing video data/robomimic/datasets/lift/ph/demo_video_new/episode_196.mp4\n",
      "\n"
     ]
    },
    {
     "name": "stderr",
     "output_type": "stream",
     "text": [
      " 98%|█████████▊| 197/200 [00:42<00:00,  5.41it/s]"
     ]
    },
    {
     "name": "stdout",
     "output_type": "stream",
     "text": [
      "Moviepy - Done !\n",
      "Moviepy - video ready data/robomimic/datasets/lift/ph/demo_video_new/episode_196.mp4\n"
     ]
    },
    {
     "name": "stderr",
     "output_type": "stream",
     "text": [
      " 98%|█████████▊| 197/200 [00:42<00:00,  5.41it/s]"
     ]
    },
    {
     "name": "stdout",
     "output_type": "stream",
     "text": [
      "Moviepy - Building video data/robomimic/datasets/lift/ph/demo_video_new/episode_197.mp4.\n",
      "Moviepy - Writing video data/robomimic/datasets/lift/ph/demo_video_new/episode_197.mp4\n",
      "\n"
     ]
    },
    {
     "name": "stderr",
     "output_type": "stream",
     "text": [
      " 99%|█████████▉| 198/200 [00:42<00:00,  5.45it/s]"
     ]
    },
    {
     "name": "stdout",
     "output_type": "stream",
     "text": [
      "Moviepy - Done !\n",
      "Moviepy - video ready data/robomimic/datasets/lift/ph/demo_video_new/episode_197.mp4\n"
     ]
    },
    {
     "name": "stderr",
     "output_type": "stream",
     "text": [
      " 99%|█████████▉| 198/200 [00:42<00:00,  5.45it/s]"
     ]
    },
    {
     "name": "stdout",
     "output_type": "stream",
     "text": [
      "Moviepy - Building video data/robomimic/datasets/lift/ph/demo_video_new/episode_198.mp4.\n",
      "Moviepy - Writing video data/robomimic/datasets/lift/ph/demo_video_new/episode_198.mp4\n",
      "\n"
     ]
    },
    {
     "name": "stderr",
     "output_type": "stream",
     "text": [
      "100%|█████████▉| 199/200 [00:42<00:00,  5.46it/s]"
     ]
    },
    {
     "name": "stdout",
     "output_type": "stream",
     "text": [
      "Moviepy - Done !\n",
      "Moviepy - video ready data/robomimic/datasets/lift/ph/demo_video_new/episode_198.mp4\n"
     ]
    },
    {
     "name": "stderr",
     "output_type": "stream",
     "text": [
      "100%|█████████▉| 199/200 [00:43<00:00,  5.46it/s]"
     ]
    },
    {
     "name": "stdout",
     "output_type": "stream",
     "text": [
      "Moviepy - Building video data/robomimic/datasets/lift/ph/demo_video_new/episode_199.mp4.\n",
      "Moviepy - Writing video data/robomimic/datasets/lift/ph/demo_video_new/episode_199.mp4\n",
      "\n"
     ]
    },
    {
     "name": "stderr",
     "output_type": "stream",
     "text": [
      "100%|██████████| 200/200 [00:43<00:00,  4.63it/s]"
     ]
    },
    {
     "name": "stdout",
     "output_type": "stream",
     "text": [
      "Moviepy - Done !\n",
      "Moviepy - video ready data/robomimic/datasets/lift/ph/demo_video_new/episode_199.mp4\n"
     ]
    },
    {
     "name": "stderr",
     "output_type": "stream",
     "text": [
      "\n"
     ]
    }
   ],
   "source": [
    "import os\n",
    "import numpy as np\n",
    "from tqdm import tqdm\n",
    "from moviepy.editor import ImageSequenceClip\n",
    "from PIL import Image\n",
    "\n",
    "video_dir = \"data/robomimic/datasets/lift/ph/demo_video_new\"\n",
    "os.makedirs(video_dir, exist_ok=True)\n",
    "\n",
    "for i in tqdm(range(replay_buffer.n_episodes)):\n",
    "    epi = replay_buffer.get_episode(i)\n",
    "    video_path = os.path.join(video_dir, f\"episode_{i}.mp4\")\n",
    "    \n",
    "    # Get image sequence\n",
    "    agent_imgs = epi['agentview_image'] # T,H,W,C uint8 array\n",
    "    eye_imgs = epi['robot0_eye_in_hand_image']\n",
    "    # Concatenate images horizontally\n",
    "    imgs = np.concatenate([agent_imgs, eye_imgs], axis=2) # T,H,2W,C\n",
    "    \n",
    "    # Scale dimensions by 3x\n",
    "    h, w = imgs.shape[1:3]\n",
    "    imgs_scaled = np.array([np.array(Image.fromarray(img).resize((w*3, h*3))) for img in imgs])\n",
    "    \n",
    "    # Create and write video with moviepy\n",
    "    clip = ImageSequenceClip(list(imgs_scaled), fps=30)\n",
    "    clip.write_videofile(video_path, codec='libx264')\n"
   ]
  },
  {
   "cell_type": "code",
   "execution_count": null,
   "metadata": {},
   "outputs": [],
   "source": []
  },
  {
   "cell_type": "code",
   "execution_count": null,
   "metadata": {},
   "outputs": [],
   "source": []
  },
  {
   "cell_type": "code",
   "execution_count": null,
   "metadata": {},
   "outputs": [],
   "source": []
  },
  {
   "cell_type": "code",
   "execution_count": null,
   "metadata": {},
   "outputs": [],
   "source": []
  }
 ],
 "metadata": {
  "kernelspec": {
   "display_name": "robodiff",
   "language": "python",
   "name": "python3"
  },
  "language_info": {
   "codemirror_mode": {
    "name": "ipython",
    "version": 3
   },
   "file_extension": ".py",
   "mimetype": "text/x-python",
   "name": "python",
   "nbconvert_exporter": "python",
   "pygments_lexer": "ipython3",
   "version": "3.9.15"
  }
 },
 "nbformat": 4,
 "nbformat_minor": 2
}
